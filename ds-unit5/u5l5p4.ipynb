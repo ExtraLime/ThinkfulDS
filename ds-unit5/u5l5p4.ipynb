{
 "cells": [
  {
   "cell_type": "code",
   "execution_count": 224,
   "metadata": {},
   "outputs": [],
   "source": [
    "import numpy as np\n",
    "import pandas as pd\n",
    "import matplotlib.pyplot as plt\n",
    "import seaborn as sns\n",
    "import scipy.stats as stats\n",
    "from statsmodels.stats.multicomp import pairwise_tukeyhsd"
   ]
  },
  {
   "cell_type": "code",
   "execution_count": 193,
   "metadata": {},
   "outputs": [],
   "source": [
    "df = pd.read_csv('https://raw.githubusercontent.com/Thinkful-Ed/data-201-resources/master/ESS_practice_data/ESSdata_Thinkful.csv')"
   ]
  },
  {
   "cell_type": "code",
   "execution_count": 194,
   "metadata": {
    "scrolled": false
   },
   "outputs": [
    {
     "data": {
      "text/html": [
       "<div>\n",
       "<style scoped>\n",
       "    .dataframe tbody tr th:only-of-type {\n",
       "        vertical-align: middle;\n",
       "    }\n",
       "\n",
       "    .dataframe tbody tr th {\n",
       "        vertical-align: top;\n",
       "    }\n",
       "\n",
       "    .dataframe thead th {\n",
       "        text-align: right;\n",
       "    }\n",
       "</style>\n",
       "<table border=\"1\" class=\"dataframe\">\n",
       "  <thead>\n",
       "    <tr style=\"text-align: right;\">\n",
       "      <th></th>\n",
       "      <th>cntry</th>\n",
       "      <th>idno</th>\n",
       "      <th>year</th>\n",
       "      <th>tvtot</th>\n",
       "      <th>ppltrst</th>\n",
       "      <th>pplfair</th>\n",
       "      <th>pplhlp</th>\n",
       "      <th>happy</th>\n",
       "      <th>sclmeet</th>\n",
       "      <th>sclact</th>\n",
       "      <th>gndr</th>\n",
       "      <th>agea</th>\n",
       "      <th>partner</th>\n",
       "    </tr>\n",
       "  </thead>\n",
       "  <tbody>\n",
       "    <tr>\n",
       "      <th>0</th>\n",
       "      <td>CH</td>\n",
       "      <td>5.0</td>\n",
       "      <td>6</td>\n",
       "      <td>3.0</td>\n",
       "      <td>3.0</td>\n",
       "      <td>10.0</td>\n",
       "      <td>5.0</td>\n",
       "      <td>8.0</td>\n",
       "      <td>5.0</td>\n",
       "      <td>4.0</td>\n",
       "      <td>2.0</td>\n",
       "      <td>60.0</td>\n",
       "      <td>1.0</td>\n",
       "    </tr>\n",
       "    <tr>\n",
       "      <th>1</th>\n",
       "      <td>CH</td>\n",
       "      <td>25.0</td>\n",
       "      <td>6</td>\n",
       "      <td>6.0</td>\n",
       "      <td>5.0</td>\n",
       "      <td>7.0</td>\n",
       "      <td>5.0</td>\n",
       "      <td>9.0</td>\n",
       "      <td>3.0</td>\n",
       "      <td>2.0</td>\n",
       "      <td>2.0</td>\n",
       "      <td>59.0</td>\n",
       "      <td>1.0</td>\n",
       "    </tr>\n",
       "    <tr>\n",
       "      <th>2</th>\n",
       "      <td>CH</td>\n",
       "      <td>26.0</td>\n",
       "      <td>6</td>\n",
       "      <td>1.0</td>\n",
       "      <td>8.0</td>\n",
       "      <td>8.0</td>\n",
       "      <td>8.0</td>\n",
       "      <td>7.0</td>\n",
       "      <td>6.0</td>\n",
       "      <td>3.0</td>\n",
       "      <td>1.0</td>\n",
       "      <td>24.0</td>\n",
       "      <td>2.0</td>\n",
       "    </tr>\n",
       "    <tr>\n",
       "      <th>3</th>\n",
       "      <td>CH</td>\n",
       "      <td>28.0</td>\n",
       "      <td>6</td>\n",
       "      <td>4.0</td>\n",
       "      <td>6.0</td>\n",
       "      <td>6.0</td>\n",
       "      <td>7.0</td>\n",
       "      <td>10.0</td>\n",
       "      <td>6.0</td>\n",
       "      <td>2.0</td>\n",
       "      <td>2.0</td>\n",
       "      <td>64.0</td>\n",
       "      <td>1.0</td>\n",
       "    </tr>\n",
       "    <tr>\n",
       "      <th>4</th>\n",
       "      <td>CH</td>\n",
       "      <td>29.0</td>\n",
       "      <td>6</td>\n",
       "      <td>5.0</td>\n",
       "      <td>6.0</td>\n",
       "      <td>7.0</td>\n",
       "      <td>5.0</td>\n",
       "      <td>8.0</td>\n",
       "      <td>7.0</td>\n",
       "      <td>2.0</td>\n",
       "      <td>2.0</td>\n",
       "      <td>55.0</td>\n",
       "      <td>1.0</td>\n",
       "    </tr>\n",
       "    <tr>\n",
       "      <th>5</th>\n",
       "      <td>CH</td>\n",
       "      <td>36.0</td>\n",
       "      <td>6</td>\n",
       "      <td>4.0</td>\n",
       "      <td>6.0</td>\n",
       "      <td>7.0</td>\n",
       "      <td>3.0</td>\n",
       "      <td>8.0</td>\n",
       "      <td>7.0</td>\n",
       "      <td>4.0</td>\n",
       "      <td>2.0</td>\n",
       "      <td>NaN</td>\n",
       "      <td>2.0</td>\n",
       "    </tr>\n",
       "    <tr>\n",
       "      <th>6</th>\n",
       "      <td>CH</td>\n",
       "      <td>40.0</td>\n",
       "      <td>6</td>\n",
       "      <td>3.0</td>\n",
       "      <td>0.0</td>\n",
       "      <td>5.0</td>\n",
       "      <td>2.0</td>\n",
       "      <td>0.0</td>\n",
       "      <td>2.0</td>\n",
       "      <td>2.0</td>\n",
       "      <td>1.0</td>\n",
       "      <td>76.0</td>\n",
       "      <td>1.0</td>\n",
       "    </tr>\n",
       "    <tr>\n",
       "      <th>7</th>\n",
       "      <td>CH</td>\n",
       "      <td>41.0</td>\n",
       "      <td>6</td>\n",
       "      <td>2.0</td>\n",
       "      <td>4.0</td>\n",
       "      <td>5.0</td>\n",
       "      <td>3.0</td>\n",
       "      <td>10.0</td>\n",
       "      <td>5.0</td>\n",
       "      <td>2.0</td>\n",
       "      <td>2.0</td>\n",
       "      <td>30.0</td>\n",
       "      <td>1.0</td>\n",
       "    </tr>\n",
       "    <tr>\n",
       "      <th>8</th>\n",
       "      <td>CH</td>\n",
       "      <td>51.0</td>\n",
       "      <td>6</td>\n",
       "      <td>2.0</td>\n",
       "      <td>8.0</td>\n",
       "      <td>8.0</td>\n",
       "      <td>8.0</td>\n",
       "      <td>9.0</td>\n",
       "      <td>6.0</td>\n",
       "      <td>4.0</td>\n",
       "      <td>2.0</td>\n",
       "      <td>84.0</td>\n",
       "      <td>2.0</td>\n",
       "    </tr>\n",
       "    <tr>\n",
       "      <th>9</th>\n",
       "      <td>CH</td>\n",
       "      <td>53.0</td>\n",
       "      <td>6</td>\n",
       "      <td>4.0</td>\n",
       "      <td>4.0</td>\n",
       "      <td>4.0</td>\n",
       "      <td>8.0</td>\n",
       "      <td>7.0</td>\n",
       "      <td>4.0</td>\n",
       "      <td>2.0</td>\n",
       "      <td>2.0</td>\n",
       "      <td>62.0</td>\n",
       "      <td>1.0</td>\n",
       "    </tr>\n",
       "  </tbody>\n",
       "</table>\n",
       "</div>"
      ],
      "text/plain": [
       "  cntry  idno  year  tvtot  ppltrst  pplfair  pplhlp  happy  sclmeet  sclact  \\\n",
       "0    CH   5.0     6    3.0      3.0     10.0     5.0    8.0      5.0     4.0   \n",
       "1    CH  25.0     6    6.0      5.0      7.0     5.0    9.0      3.0     2.0   \n",
       "2    CH  26.0     6    1.0      8.0      8.0     8.0    7.0      6.0     3.0   \n",
       "3    CH  28.0     6    4.0      6.0      6.0     7.0   10.0      6.0     2.0   \n",
       "4    CH  29.0     6    5.0      6.0      7.0     5.0    8.0      7.0     2.0   \n",
       "5    CH  36.0     6    4.0      6.0      7.0     3.0    8.0      7.0     4.0   \n",
       "6    CH  40.0     6    3.0      0.0      5.0     2.0    0.0      2.0     2.0   \n",
       "7    CH  41.0     6    2.0      4.0      5.0     3.0   10.0      5.0     2.0   \n",
       "8    CH  51.0     6    2.0      8.0      8.0     8.0    9.0      6.0     4.0   \n",
       "9    CH  53.0     6    4.0      4.0      4.0     8.0    7.0      4.0     2.0   \n",
       "\n",
       "   gndr  agea  partner  \n",
       "0   2.0  60.0      1.0  \n",
       "1   2.0  59.0      1.0  \n",
       "2   1.0  24.0      2.0  \n",
       "3   2.0  64.0      1.0  \n",
       "4   2.0  55.0      1.0  \n",
       "5   2.0   NaN      2.0  \n",
       "6   1.0  76.0      1.0  \n",
       "7   2.0  30.0      1.0  \n",
       "8   2.0  84.0      2.0  \n",
       "9   2.0  62.0      1.0  "
      ]
     },
     "execution_count": 194,
     "metadata": {},
     "output_type": "execute_result"
    }
   ],
   "source": [
    "df.head(10)"
   ]
  },
  {
   "cell_type": "code",
   "execution_count": 195,
   "metadata": {
    "scrolled": true
   },
   "outputs": [
    {
     "data": {
      "text/plain": [
       "cntry        0\n",
       "idno         0\n",
       "year         0\n",
       "tvtot        8\n",
       "ppltrst     14\n",
       "pplfair     39\n",
       "pplhlp      25\n",
       "happy       31\n",
       "sclmeet     15\n",
       "sclact      94\n",
       "gndr        10\n",
       "agea       239\n",
       "partner     17\n",
       "dtype: int64"
      ]
     },
     "execution_count": 195,
     "metadata": {},
     "output_type": "execute_result"
    }
   ],
   "source": [
    "df.isnull().sum()"
   ]
  },
  {
   "cell_type": "code",
   "execution_count": 196,
   "metadata": {},
   "outputs": [],
   "source": [
    "#we fill null values with the median of the df. instead of by country and mean\n",
    "for col in df[df.columns.drop(['cntry','gndr','partner'])]:\n",
    "    df[col] = df[col].fillna(value=df[col].median())\n",
    "    \n",
    "\n",
    "\n",
    "df.gndr = pd.to_numeric(np.where(df.gndr == 2.0, 0,1))\n",
    "df.partner = np.where(df.partner == 2.0, 0,1)"
   ]
  },
  {
   "cell_type": "code",
   "execution_count": 197,
   "metadata": {},
   "outputs": [
    {
     "data": {
      "text/html": [
       "<div>\n",
       "<style scoped>\n",
       "    .dataframe tbody tr th:only-of-type {\n",
       "        vertical-align: middle;\n",
       "    }\n",
       "\n",
       "    .dataframe tbody tr th {\n",
       "        vertical-align: top;\n",
       "    }\n",
       "\n",
       "    .dataframe thead th {\n",
       "        text-align: right;\n",
       "    }\n",
       "</style>\n",
       "<table border=\"1\" class=\"dataframe\">\n",
       "  <thead>\n",
       "    <tr style=\"text-align: right;\">\n",
       "      <th></th>\n",
       "      <th>cntry</th>\n",
       "      <th>idno</th>\n",
       "      <th>year</th>\n",
       "      <th>tvtot</th>\n",
       "      <th>ppltrst</th>\n",
       "      <th>pplfair</th>\n",
       "      <th>pplhlp</th>\n",
       "      <th>happy</th>\n",
       "      <th>sclmeet</th>\n",
       "      <th>sclact</th>\n",
       "      <th>gndr</th>\n",
       "      <th>agea</th>\n",
       "      <th>partner</th>\n",
       "    </tr>\n",
       "  </thead>\n",
       "  <tbody>\n",
       "    <tr>\n",
       "      <th>0</th>\n",
       "      <td>CH</td>\n",
       "      <td>5.0</td>\n",
       "      <td>6</td>\n",
       "      <td>3.0</td>\n",
       "      <td>3.0</td>\n",
       "      <td>10.0</td>\n",
       "      <td>5.0</td>\n",
       "      <td>8.0</td>\n",
       "      <td>5.0</td>\n",
       "      <td>4.0</td>\n",
       "      <td>0</td>\n",
       "      <td>60.0</td>\n",
       "      <td>1</td>\n",
       "    </tr>\n",
       "    <tr>\n",
       "      <th>1</th>\n",
       "      <td>CH</td>\n",
       "      <td>25.0</td>\n",
       "      <td>6</td>\n",
       "      <td>6.0</td>\n",
       "      <td>5.0</td>\n",
       "      <td>7.0</td>\n",
       "      <td>5.0</td>\n",
       "      <td>9.0</td>\n",
       "      <td>3.0</td>\n",
       "      <td>2.0</td>\n",
       "      <td>0</td>\n",
       "      <td>59.0</td>\n",
       "      <td>1</td>\n",
       "    </tr>\n",
       "    <tr>\n",
       "      <th>2</th>\n",
       "      <td>CH</td>\n",
       "      <td>26.0</td>\n",
       "      <td>6</td>\n",
       "      <td>1.0</td>\n",
       "      <td>8.0</td>\n",
       "      <td>8.0</td>\n",
       "      <td>8.0</td>\n",
       "      <td>7.0</td>\n",
       "      <td>6.0</td>\n",
       "      <td>3.0</td>\n",
       "      <td>1</td>\n",
       "      <td>24.0</td>\n",
       "      <td>0</td>\n",
       "    </tr>\n",
       "    <tr>\n",
       "      <th>3</th>\n",
       "      <td>CH</td>\n",
       "      <td>28.0</td>\n",
       "      <td>6</td>\n",
       "      <td>4.0</td>\n",
       "      <td>6.0</td>\n",
       "      <td>6.0</td>\n",
       "      <td>7.0</td>\n",
       "      <td>10.0</td>\n",
       "      <td>6.0</td>\n",
       "      <td>2.0</td>\n",
       "      <td>0</td>\n",
       "      <td>64.0</td>\n",
       "      <td>1</td>\n",
       "    </tr>\n",
       "    <tr>\n",
       "      <th>4</th>\n",
       "      <td>CH</td>\n",
       "      <td>29.0</td>\n",
       "      <td>6</td>\n",
       "      <td>5.0</td>\n",
       "      <td>6.0</td>\n",
       "      <td>7.0</td>\n",
       "      <td>5.0</td>\n",
       "      <td>8.0</td>\n",
       "      <td>7.0</td>\n",
       "      <td>2.0</td>\n",
       "      <td>0</td>\n",
       "      <td>55.0</td>\n",
       "      <td>1</td>\n",
       "    </tr>\n",
       "    <tr>\n",
       "      <th>5</th>\n",
       "      <td>CH</td>\n",
       "      <td>36.0</td>\n",
       "      <td>6</td>\n",
       "      <td>4.0</td>\n",
       "      <td>6.0</td>\n",
       "      <td>7.0</td>\n",
       "      <td>3.0</td>\n",
       "      <td>8.0</td>\n",
       "      <td>7.0</td>\n",
       "      <td>4.0</td>\n",
       "      <td>0</td>\n",
       "      <td>47.0</td>\n",
       "      <td>0</td>\n",
       "    </tr>\n",
       "    <tr>\n",
       "      <th>6</th>\n",
       "      <td>CH</td>\n",
       "      <td>40.0</td>\n",
       "      <td>6</td>\n",
       "      <td>3.0</td>\n",
       "      <td>0.0</td>\n",
       "      <td>5.0</td>\n",
       "      <td>2.0</td>\n",
       "      <td>0.0</td>\n",
       "      <td>2.0</td>\n",
       "      <td>2.0</td>\n",
       "      <td>1</td>\n",
       "      <td>76.0</td>\n",
       "      <td>1</td>\n",
       "    </tr>\n",
       "    <tr>\n",
       "      <th>7</th>\n",
       "      <td>CH</td>\n",
       "      <td>41.0</td>\n",
       "      <td>6</td>\n",
       "      <td>2.0</td>\n",
       "      <td>4.0</td>\n",
       "      <td>5.0</td>\n",
       "      <td>3.0</td>\n",
       "      <td>10.0</td>\n",
       "      <td>5.0</td>\n",
       "      <td>2.0</td>\n",
       "      <td>0</td>\n",
       "      <td>30.0</td>\n",
       "      <td>1</td>\n",
       "    </tr>\n",
       "    <tr>\n",
       "      <th>8</th>\n",
       "      <td>CH</td>\n",
       "      <td>51.0</td>\n",
       "      <td>6</td>\n",
       "      <td>2.0</td>\n",
       "      <td>8.0</td>\n",
       "      <td>8.0</td>\n",
       "      <td>8.0</td>\n",
       "      <td>9.0</td>\n",
       "      <td>6.0</td>\n",
       "      <td>4.0</td>\n",
       "      <td>0</td>\n",
       "      <td>84.0</td>\n",
       "      <td>0</td>\n",
       "    </tr>\n",
       "    <tr>\n",
       "      <th>9</th>\n",
       "      <td>CH</td>\n",
       "      <td>53.0</td>\n",
       "      <td>6</td>\n",
       "      <td>4.0</td>\n",
       "      <td>4.0</td>\n",
       "      <td>4.0</td>\n",
       "      <td>8.0</td>\n",
       "      <td>7.0</td>\n",
       "      <td>4.0</td>\n",
       "      <td>2.0</td>\n",
       "      <td>0</td>\n",
       "      <td>62.0</td>\n",
       "      <td>1</td>\n",
       "    </tr>\n",
       "  </tbody>\n",
       "</table>\n",
       "</div>"
      ],
      "text/plain": [
       "  cntry  idno  year  tvtot  ppltrst  pplfair  pplhlp  happy  sclmeet  sclact  \\\n",
       "0    CH   5.0     6    3.0      3.0     10.0     5.0    8.0      5.0     4.0   \n",
       "1    CH  25.0     6    6.0      5.0      7.0     5.0    9.0      3.0     2.0   \n",
       "2    CH  26.0     6    1.0      8.0      8.0     8.0    7.0      6.0     3.0   \n",
       "3    CH  28.0     6    4.0      6.0      6.0     7.0   10.0      6.0     2.0   \n",
       "4    CH  29.0     6    5.0      6.0      7.0     5.0    8.0      7.0     2.0   \n",
       "5    CH  36.0     6    4.0      6.0      7.0     3.0    8.0      7.0     4.0   \n",
       "6    CH  40.0     6    3.0      0.0      5.0     2.0    0.0      2.0     2.0   \n",
       "7    CH  41.0     6    2.0      4.0      5.0     3.0   10.0      5.0     2.0   \n",
       "8    CH  51.0     6    2.0      8.0      8.0     8.0    9.0      6.0     4.0   \n",
       "9    CH  53.0     6    4.0      4.0      4.0     8.0    7.0      4.0     2.0   \n",
       "\n",
       "   gndr  agea  partner  \n",
       "0     0  60.0        1  \n",
       "1     0  59.0        1  \n",
       "2     1  24.0        0  \n",
       "3     0  64.0        1  \n",
       "4     0  55.0        1  \n",
       "5     0  47.0        0  \n",
       "6     1  76.0        1  \n",
       "7     0  30.0        1  \n",
       "8     0  84.0        0  \n",
       "9     0  62.0        1  "
      ]
     },
     "execution_count": 197,
     "metadata": {},
     "output_type": "execute_result"
    }
   ],
   "source": [
    "df.head(10)"
   ]
  },
  {
   "cell_type": "code",
   "execution_count": 198,
   "metadata": {},
   "outputs": [
    {
     "data": {
      "text/plain": [
       "cntry      0\n",
       "idno       0\n",
       "year       0\n",
       "tvtot      0\n",
       "ppltrst    0\n",
       "pplfair    0\n",
       "pplhlp     0\n",
       "happy      0\n",
       "sclmeet    0\n",
       "sclact     0\n",
       "gndr       0\n",
       "agea       0\n",
       "partner    0\n",
       "dtype: int64"
      ]
     },
     "execution_count": 198,
     "metadata": {},
     "output_type": "execute_result"
    }
   ],
   "source": [
    "df.isnull().sum()"
   ]
  },
  {
   "cell_type": "markdown",
   "metadata": {},
   "source": [
    "In this dataset, the same participants answered questions in 2012 and again 2014.\n",
    "\n",
    "    Did people become less trusting from 2012 to 2014? Compute results for each country in the sample.\n",
    "    Did people become happier from 2012 to 2014? Compute results for each country in the sample.\n",
    "    Who reported watching more TV in 2012, men or women?\n",
    "    Who was more likely to believe people were fair in 2012, people living with a partner or people living alone?\n",
    "    Pick three or four of the countries in the sample and compare how often people met socially in 2014. Are there differences, and if so, which countries stand out?\n",
    "    Pick three or four of the countries in the sample and compare how often people took part in social activities, relative to others their age, in 2014. Are there differences, and if so, which countries stand out?\n"
   ]
  },
  {
   "cell_type": "markdown",
   "metadata": {},
   "source": [
    "#### Did people become less trusting from 2012 to 2014? Compute results for each country in the sample."
   ]
  },
  {
   "cell_type": "code",
   "execution_count": 199,
   "metadata": {},
   "outputs": [
    {
     "name": "stdout",
     "output_type": "stream",
     "text": [
      "CH\n"
     ]
    },
    {
     "data": {
      "image/png": "[encoded data removed]",
      "text/plain": [
       "<Figure size 360x360 with 1 Axes>"
      ]
     },
     "metadata": {},
     "output_type": "display_data"
    },
    {
     "name": "stdout",
     "output_type": "stream",
     "text": [
      "CZ\n"
     ]
    },
    {
     "data": {
      "image/png": "[encoded data removed]",
      "text/plain": [
       "<Figure size 360x360 with 1 Axes>"
      ]
     },
     "metadata": {},
     "output_type": "display_data"
    },
    {
     "name": "stdout",
     "output_type": "stream",
     "text": [
      "DE\n"
     ]
    },
    {
     "data": {
      "image/png": "[encoded data removed]",
      "text/plain": [
       "<Figure size 360x360 with 1 Axes>"
      ]
     },
     "metadata": {},
     "output_type": "display_data"
    },
    {
     "name": "stdout",
     "output_type": "stream",
     "text": [
      "ES\n"
     ]
    },
    {
     "data": {
      "image/png": "[encoded data removed]",
      "text/plain": [
       "<Figure size 360x360 with 1 Axes>"
      ]
     },
     "metadata": {},
     "output_type": "display_data"
    },
    {
     "name": "stdout",
     "output_type": "stream",
     "text": [
      "NO\n"
     ]
    },
    {
     "data": {
      "image/png": "[encoded data removed]",
      "text/plain": [
       "<Figure size 360x360 with 1 Axes>"
      ]
     },
     "metadata": {},
     "output_type": "display_data"
    },
    {
     "name": "stdout",
     "output_type": "stream",
     "text": [
      "SE\n"
     ]
    },
    {
     "data": {
      "image/png": "[encoded data removed]",
      "text/plain": [
       "<Figure size 360x360 with 1 Axes>"
      ]
     },
     "metadata": {},
     "output_type": "display_data"
    }
   ],
   "source": [
    "for i in y2012.cntry.unique():\n",
    "    print(i)\n",
    "    plt.figure(figsize=(5,5))\n",
    "    plt.hist(df[df.cntry == i]['ppltrst'])\n",
    "    plt.show()"
   ]
  },
  {
   "cell_type": "code",
   "execution_count": 200,
   "metadata": {
    "scrolled": true
   },
   "outputs": [
    {
     "name": "stdout",
     "output_type": "stream",
     "text": [
      "CH\n"
     ]
    },
    {
     "data": {
      "image/png": "[encoded data removed]",
      "text/plain": [
       "<Figure size 360x360 with 1 Axes>"
      ]
     },
     "metadata": {},
     "output_type": "display_data"
    },
    {
     "name": "stdout",
     "output_type": "stream",
     "text": [
      "CZ\n"
     ]
    },
    {
     "data": {
      "image/png": "[encoded data removed]",
      "text/plain": [
       "<Figure size 360x360 with 1 Axes>"
      ]
     },
     "metadata": {},
     "output_type": "display_data"
    },
    {
     "name": "stdout",
     "output_type": "stream",
     "text": [
      "DE\n"
     ]
    },
    {
     "data": {
      "image/png": "[encoded data removed]",
      "text/plain": [
       "<Figure size 360x360 with 1 Axes>"
      ]
     },
     "metadata": {},
     "output_type": "display_data"
    },
    {
     "name": "stdout",
     "output_type": "stream",
     "text": [
      "ES\n"
     ]
    },
    {
     "data": {
      "image/png": "[encoded data removed]",
      "text/plain": [
       "<Figure size 360x360 with 1 Axes>"
      ]
     },
     "metadata": {},
     "output_type": "display_data"
    },
    {
     "name": "stdout",
     "output_type": "stream",
     "text": [
      "NO\n"
     ]
    },
    {
     "data": {
      "image/png": "[encoded data removed]",
      "text/plain": [
       "<Figure size 360x360 with 1 Axes>"
      ]
     },
     "metadata": {},
     "output_type": "display_data"
    },
    {
     "name": "stdout",
     "output_type": "stream",
     "text": [
      "SE\n"
     ]
    },
    {
     "data": {
      "image/png": "[encoded data removed]",
      "text/plain": [
       "<Figure size 360x360 with 1 Axes>"
      ]
     },
     "metadata": {},
     "output_type": "display_data"
    }
   ],
   "source": [
    "for i in y2014.cntry.unique():\n",
    "    print(i)\n",
    "    plt.figure(figsize=(5,5))\n",
    "    plt.hist(df[df.cntry == i]['ppltrst'])\n",
    "    plt.show()\n",
    "    "
   ]
  },
  {
   "cell_type": "markdown",
   "metadata": {},
   "source": [
    "The distributions arent particularly 'normal' but they will have to do."
   ]
  },
  {
   "cell_type": "code",
   "execution_count": 208,
   "metadata": {
    "scrolled": false
   },
   "outputs": [
    {
     "name": "stdout",
     "output_type": "stream",
     "text": [
      "Country:CH\n",
      "2012 Mean: count    773.000000\n",
      "mean       5.677878\n",
      "std        2.130701\n",
      "min        0.000000\n",
      "25%        4.000000\n",
      "50%        6.000000\n",
      "75%        7.000000\n",
      "max       10.000000\n",
      "Name: ppltrst, dtype: float64\n",
      "2014 Mean : count    773.000000\n",
      "mean       5.751617\n",
      "std        2.143888\n",
      "min        0.000000\n",
      "25%        5.000000\n",
      "50%        6.000000\n",
      "75%        7.000000\n",
      "max       10.000000\n",
      "Name: ppltrst, dtype: float64\n",
      "Ttest_relResult(statistic=-0.6586851756725737, pvalue=0.5102943511301135)\n",
      "Ttest_indResult(statistic=-0.6782716584661505, pvalue=0.49770110247151234)\n",
      "WilcoxonResult(statistic=106278.5, pvalue=0.4411286510952477)\n",
      "\n",
      "\n",
      "\n",
      "Country:CZ\n",
      "2012 Mean: count    658.000000\n",
      "mean       4.379939\n",
      "std        2.402756\n",
      "min        0.000000\n",
      "25%        3.000000\n",
      "50%        4.000000\n",
      "75%        6.000000\n",
      "max       10.000000\n",
      "Name: ppltrst, dtype: float64\n",
      "2014 Mean : count    658.000000\n",
      "mean       4.427052\n",
      "std        2.304452\n",
      "min        0.000000\n",
      "25%        3.000000\n",
      "50%        5.000000\n",
      "75%        6.000000\n",
      "max       10.000000\n",
      "Name: ppltrst, dtype: float64\n",
      "Ttest_relResult(statistic=-0.3505247744198508, pvalue=0.7260572552300646)\n",
      "Ttest_indResult(statistic=-0.36299921565336934, pvalue=0.7166638535739369)\n",
      "WilcoxonResult(statistic=85832.5, pvalue=0.7452250434946176)\n",
      "\n",
      "\n",
      "\n",
      "Country:DE\n",
      "2012 Mean: count    14.000000\n",
      "mean      5.214286\n",
      "std       1.528125\n",
      "min       3.000000\n",
      "25%       4.250000\n",
      "50%       5.000000\n",
      "75%       6.500000\n",
      "max       8.000000\n",
      "Name: ppltrst, dtype: float64\n",
      "2014 Mean : count    14.000000\n",
      "mean      5.357143\n",
      "std       2.530039\n",
      "min       2.000000\n",
      "25%       3.250000\n",
      "50%       5.500000\n",
      "75%       7.000000\n",
      "max      10.000000\n",
      "Name: ppltrst, dtype: float64\n",
      "Ttest_relResult(statistic=-0.18399501804849683, pvalue=0.8568563797095805)\n",
      "Ttest_indResult(statistic=-0.18084358577434545, pvalue=0.8578926631223287)\n",
      "WilcoxonResult(statistic=44.0, pvalue=0.9157134600899863)\n",
      "\n",
      "\n",
      "\n",
      "Country:ES\n",
      "2012 Mean: count    1213.000000\n",
      "mean        5.114592\n",
      "std         2.183623\n",
      "min         0.000000\n",
      "25%         4.000000\n",
      "50%         5.000000\n",
      "75%         7.000000\n",
      "max        10.000000\n",
      "Name: ppltrst, dtype: float64\n",
      "2014 Mean : count    1213.00000\n",
      "mean        4.89695\n",
      "std         2.14686\n",
      "min         0.00000\n",
      "25%         3.00000\n",
      "50%         5.00000\n",
      "75%         6.00000\n",
      "max        10.00000\n",
      "Name: ppltrst, dtype: float64\n",
      "Ttest_relResult(statistic=2.4654605168309875, pvalue=0.013821475296285565)\n",
      "Ttest_indResult(statistic=2.4753492215819755, pvalue=0.013378482103016485)\n",
      "WilcoxonResult(statistic=243886.5, pvalue=0.007377786388515002)\n",
      "\n",
      "\n",
      "\n",
      "Country:NO\n",
      "2012 Mean: count    731.000000\n",
      "mean       6.648427\n",
      "std        1.748834\n",
      "min        0.000000\n",
      "25%        5.000000\n",
      "50%        7.000000\n",
      "75%        8.000000\n",
      "max       10.000000\n",
      "Name: ppltrst, dtype: float64\n",
      "2014 Mean : count    731.000000\n",
      "mean       6.597811\n",
      "std        1.810077\n",
      "min        0.000000\n",
      "25%        5.000000\n",
      "50%        7.000000\n",
      "75%        8.000000\n",
      "max       10.000000\n",
      "Name: ppltrst, dtype: float64\n",
      "Ttest_relResult(statistic=0.536083058309722, pvalue=0.5920644526109955)\n",
      "Ttest_indResult(statistic=0.5437217006496845, pvalue=0.586716009174931)\n",
      "WilcoxonResult(statistic=85536.0, pvalue=0.6900902292621642)\n",
      "\n",
      "\n",
      "\n",
      "Country:SE\n",
      "2012 Mean: count    908.000000\n",
      "mean       6.058370\n",
      "std        2.053289\n",
      "min        0.000000\n",
      "25%        5.000000\n",
      "50%        7.000000\n",
      "75%        8.000000\n",
      "max       10.000000\n",
      "Name: ppltrst, dtype: float64\n",
      "2014 Mean : count    908.000000\n",
      "mean       6.257709\n",
      "std        2.005422\n",
      "min        0.000000\n",
      "25%        5.000000\n",
      "50%        7.000000\n",
      "75%        8.000000\n",
      "max       10.000000\n",
      "Name: ppltrst, dtype: float64\n",
      "Ttest_relResult(statistic=-2.077952635366614, pvalue=0.037994493452976834)\n",
      "Ttest_indResult(statistic=-2.0928226022748118, pvalue=0.03650361699245728)\n",
      "WilcoxonResult(statistic=131329.0, pvalue=0.03679036784404652)\n",
      "\n",
      "\n",
      "\n"
     ]
    }
   ],
   "source": [
    "y12 = df[df.year == 6]\n",
    "y14 = df[df.year == 7]\n",
    "for country in y12.cntry.unique():    \n",
    "    cntry_trst12 = y12[y12.cntry == country]['ppltrst']\n",
    "    cntry_trst14 = y14[y14.cntry == country]['ppltrst']\n",
    "    print(\"Country:{}\".format(country))\n",
    "    print('2012 Mean: {}'.format(cntry_trst12.describe()))\n",
    "    print('2014 Mean : {}'.format(cntry_trst14.describe()))\n",
    "    print(stats.ttest_rel(cntry_trst12,cntry_trst14))\n",
    "    print(stats.ttest_ind(cntry_trst12,cntry_trst14))\n",
    "    print(stats.wilcoxon(cntry_trst12,cntry_trst14))\n",
    "    print('\\n\\n')"
   ]
  },
  {
   "cell_type": "markdown",
   "metadata": {},
   "source": [
    "Answer: It appears that people became more trusting in general, but not significantly. Only two country had significant changes. People in Estonia become less trusting and people in Sweden became more trusting."
   ]
  },
  {
   "cell_type": "markdown",
   "metadata": {},
   "source": [
    "#### Did people become happier from 2012 to 2014? Compute results for each country in the sample."
   ]
  },
  {
   "cell_type": "code",
   "execution_count": 202,
   "metadata": {
    "scrolled": true
   },
   "outputs": [
    {
     "name": "stdout",
     "output_type": "stream",
     "text": [
      "CH\n"
     ]
    },
    {
     "data": {
      "image/png": "[encoded data removed]",
      "text/plain": [
       "<Figure size 360x360 with 1 Axes>"
      ]
     },
     "metadata": {},
     "output_type": "display_data"
    },
    {
     "name": "stdout",
     "output_type": "stream",
     "text": [
      "CZ\n"
     ]
    },
    {
     "data": {
      "image/png": "[encoded data removed]",
      "text/plain": [
       "<Figure size 360x360 with 1 Axes>"
      ]
     },
     "metadata": {},
     "output_type": "display_data"
    },
    {
     "name": "stdout",
     "output_type": "stream",
     "text": [
      "DE\n"
     ]
    },
    {
     "data": {
      "image/png": "[encoded data removed]",
      "text/plain": [
       "<Figure size 360x360 with 1 Axes>"
      ]
     },
     "metadata": {},
     "output_type": "display_data"
    },
    {
     "name": "stdout",
     "output_type": "stream",
     "text": [
      "ES\n"
     ]
    },
    {
     "data": {
      "image/png": "[encoded data removed]",
      "text/plain": [
       "<Figure size 360x360 with 1 Axes>"
      ]
     },
     "metadata": {},
     "output_type": "display_data"
    },
    {
     "name": "stdout",
     "output_type": "stream",
     "text": [
      "NO\n"
     ]
    },
    {
     "data": {
      "image/png": "[encoded data removed]",
      "text/plain": [
       "<Figure size 360x360 with 1 Axes>"
      ]
     },
     "metadata": {},
     "output_type": "display_data"
    },
    {
     "name": "stdout",
     "output_type": "stream",
     "text": [
      "SE\n"
     ]
    },
    {
     "data": {
      "image/png": "[encoded data removed]",
      "text/plain": [
       "<Figure size 360x360 with 1 Axes>"
      ]
     },
     "metadata": {},
     "output_type": "display_data"
    }
   ],
   "source": [
    "for i in y2012.cntry.unique():\n",
    "    print(i)\n",
    "    plt.figure(figsize=(5,5))\n",
    "    plt.hist(df[df.cntry == i]['happy'].dropna())\n",
    "    plt.show()"
   ]
  },
  {
   "cell_type": "code",
   "execution_count": 207,
   "metadata": {
    "scrolled": false
   },
   "outputs": [
    {
     "name": "stdout",
     "output_type": "stream",
     "text": [
      "Country:CH\n",
      "2012 Mean: count    773.000000\n",
      "mean       8.087969\n",
      "std        1.435134\n",
      "min        0.000000\n",
      "25%        7.000000\n",
      "50%        8.000000\n",
      "75%        9.000000\n",
      "max       10.000000\n",
      "Name: happy, dtype: float64\n",
      "2014 Mean : count    773.000000\n",
      "mean       8.116429\n",
      "std        1.405725\n",
      "min        0.000000\n",
      "25%        7.000000\n",
      "50%        8.000000\n",
      "75%        9.000000\n",
      "max       10.000000\n",
      "Name: happy, dtype: float64\n",
      "Ttest_relResult(statistic=-0.390038452178481, pvalue=0.6966156998700268)\n",
      "Ttest_indResult(statistic=-0.3938900009021593, pvalue=0.6937166425548135)\n",
      "WilcoxonResult(statistic=93384.0, pvalue=0.9248463130390704)\n",
      "\n",
      "\n",
      "\n",
      "Country:CZ\n",
      "2012 Mean: count    658.000000\n",
      "mean       6.793313\n",
      "std        2.041387\n",
      "min        0.000000\n",
      "25%        5.000000\n",
      "50%        7.000000\n",
      "75%        8.000000\n",
      "max       10.000000\n",
      "Name: happy, dtype: float64\n",
      "2014 Mean : count    658.000000\n",
      "mean       6.924012\n",
      "std        1.896966\n",
      "min        0.000000\n",
      "25%        6.000000\n",
      "50%        7.000000\n",
      "75%        8.000000\n",
      "max       10.000000\n",
      "Name: happy, dtype: float64\n",
      "Ttest_relResult(statistic=-1.191611779973662, pvalue=0.23384377298280165)\n",
      "Ttest_indResult(statistic=-1.2030788199274558, pvalue=0.22916253914803522)\n",
      "WilcoxonResult(statistic=78000.5, pvalue=0.2829630838149413)\n",
      "\n",
      "\n",
      "\n",
      "Country:DE\n",
      "2012 Mean: count    14.000000\n",
      "mean      7.428571\n",
      "std       1.650841\n",
      "min       4.000000\n",
      "25%       6.250000\n",
      "50%       8.000000\n",
      "75%       8.000000\n",
      "max      10.000000\n",
      "Name: happy, dtype: float64\n",
      "2014 Mean : count    14.000000\n",
      "mean      7.857143\n",
      "std       1.292412\n",
      "min       5.000000\n",
      "25%       7.250000\n",
      "50%       8.000000\n",
      "75%       8.750000\n",
      "max      10.000000\n",
      "Name: happy, dtype: float64\n",
      "Ttest_relResult(statistic=-0.8062257748298549, pvalue=0.4346138707734991)\n",
      "Ttest_indResult(statistic=-0.7648529270389165, pvalue=0.451246041120838)\n",
      "WilcoxonResult(statistic=23.5, pvalue=0.393351316918508)\n",
      "\n",
      "\n",
      "\n",
      "Country:ES\n",
      "2012 Mean: count    1213.000000\n",
      "mean        7.549052\n",
      "std         1.912339\n",
      "min         0.000000\n",
      "25%         7.000000\n",
      "50%         8.000000\n",
      "75%         9.000000\n",
      "max        10.000000\n",
      "Name: happy, dtype: float64\n",
      "2014 Mean : count    1213.000000\n",
      "mean        7.420445\n",
      "std         1.871616\n",
      "min         0.000000\n",
      "25%         7.000000\n",
      "50%         8.000000\n",
      "75%         9.000000\n",
      "max        10.000000\n",
      "Name: happy, dtype: float64\n",
      "Ttest_relResult(statistic=1.6346557511262296, pvalue=0.10238091547017748)\n",
      "Ttest_indResult(statistic=1.6739330259802805, pvalue=0.09427277579044786)\n",
      "WilcoxonResult(statistic=232720.5, pvalue=0.059772872562481524)\n",
      "\n",
      "\n",
      "\n",
      "Country:NO\n",
      "2012 Mean: count    731.000000\n",
      "mean       8.250342\n",
      "std        1.423476\n",
      "min        0.000000\n",
      "25%        8.000000\n",
      "50%        8.000000\n",
      "75%        9.000000\n",
      "max       10.000000\n",
      "Name: happy, dtype: float64\n",
      "2014 Mean : count    731.000000\n",
      "mean       7.915185\n",
      "std        1.581027\n",
      "min        0.000000\n",
      "25%        7.000000\n",
      "50%        8.000000\n",
      "75%        9.000000\n",
      "max       10.000000\n",
      "Name: happy, dtype: float64\n",
      "Ttest_relResult(statistic=4.242178236406809, pvalue=2.498488473525261e-05)\n",
      "Ttest_indResult(statistic=4.259449580949601, pvalue=2.180297264184891e-05)\n",
      "WilcoxonResult(statistic=68546.0, pvalue=1.1346429849504098e-05)\n",
      "\n",
      "\n",
      "\n",
      "Country:SE\n",
      "2012 Mean: count    908.000000\n",
      "mean       7.907489\n",
      "std        1.520978\n",
      "min        1.000000\n",
      "25%        7.000000\n",
      "50%        8.000000\n",
      "75%        9.000000\n",
      "max       10.000000\n",
      "Name: happy, dtype: float64\n",
      "2014 Mean : count    908.000000\n",
      "mean       7.947137\n",
      "std        1.403831\n",
      "min        3.000000\n",
      "25%        7.000000\n",
      "50%        8.000000\n",
      "75%        9.000000\n",
      "max       10.000000\n",
      "Name: happy, dtype: float64\n",
      "Ttest_relResult(statistic=-0.5738987833260265, pvalue=0.5661785789334561)\n",
      "Ttest_indResult(statistic=-0.5772036305720387, pvalue=0.5638735306506651)\n",
      "WilcoxonResult(statistic=126465.0, pvalue=0.682451144037987)\n",
      "\n",
      "\n",
      "\n"
     ]
    }
   ],
   "source": [
    "for country in y12.cntry.unique():    \n",
    "    cntry_trst12 = y12[y12.cntry == country]['happy']\n",
    "    cntry_trst14 = y14[y14.cntry == country]['happy']\n",
    "    cntry_trst12 = cntry_trst12.fillna(value=cntry_trst12.mean())\n",
    "    cntry_trst14 = cntry_trst14.fillna(value=cntry_trst14.mean())\n",
    "    print(\"Country:{}\".format(country))\n",
    "    print('2012 Mean: {}'.format(cntry_trst12.describe()))\n",
    "    print('2014 Mean : {}'.format(cntry_trst14.describe()))\n",
    "    print(stats.ttest_rel(cntry_trst12,cntry_trst14))\n",
    "    print(stats.ttest_ind(cntry_trst12,cntry_trst14))\n",
    "    print(stats.wilcoxon(cntry_trst12,cntry_trst14))\n",
    "    print('\\n\\n')"
   ]
  },
  {
   "cell_type": "markdown",
   "metadata": {},
   "source": [
    "Who reported watching more TV in 2012, men or women?"
   ]
  },
  {
   "cell_type": "code",
   "execution_count": 209,
   "metadata": {
    "scrolled": false
   },
   "outputs": [
    {
     "data": {
      "image/png": "[encoded data removed]",
      "text/plain": [
       "<Figure size 432x288 with 1 Axes>"
      ]
     },
     "metadata": {},
     "output_type": "display_data"
    },
    {
     "data": {
      "image/png": "[encoded data removed]",
      "text/plain": [
       "<Figure size 432x288 with 1 Axes>"
      ]
     },
     "metadata": {},
     "output_type": "display_data"
    }
   ],
   "source": [
    "mtv12 = y12[y12.gndr == 0]['tvtot']\n",
    "ftv12 = y12[y12.gndr == 1]['tvtot']\n",
    "plt.hist(y12[y12.gndr == 0]['tvtot'])\n",
    "plt.show()\n",
    "plt.hist(y12[y12.gndr == 1]['tvtot'])\n",
    "plt.show()"
   ]
  },
  {
   "cell_type": "code",
   "execution_count": 213,
   "metadata": {},
   "outputs": [
    {
     "data": {
      "text/plain": [
       "count    2143.000000\n",
       "mean        3.944470\n",
       "std         2.048022\n",
       "min         0.000000\n",
       "25%         2.000000\n",
       "50%         4.000000\n",
       "75%         6.000000\n",
       "max         7.000000\n",
       "Name: tvtot, dtype: float64"
      ]
     },
     "execution_count": 213,
     "metadata": {},
     "output_type": "execute_result"
    }
   ],
   "source": [
    "mtv12.describe()"
   ]
  },
  {
   "cell_type": "code",
   "execution_count": 214,
   "metadata": {},
   "outputs": [
    {
     "data": {
      "text/plain": [
       "count    2154.000000\n",
       "mean        3.902043\n",
       "std         1.982310\n",
       "min         0.000000\n",
       "25%         2.000000\n",
       "50%         4.000000\n",
       "75%         5.000000\n",
       "max         7.000000\n",
       "Name: tvtot, dtype: float64"
      ]
     },
     "execution_count": 214,
     "metadata": {},
     "output_type": "execute_result"
    }
   ],
   "source": [
    "ftv12.describe()"
   ]
  },
  {
   "cell_type": "code",
   "execution_count": 212,
   "metadata": {},
   "outputs": [
    {
     "name": "stdout",
     "output_type": "stream",
     "text": [
      "Ttest_indResult(statistic=0.6900012172591534, pvalue=0.49023070220255527)\n",
      "MannwhitneyuResult(statistic=2277450.5, pvalue=0.2237635506897072)\n",
      "Median_test:(0.10426985208133409, 0.7467645942644672, 4.0, array([[ 853,  846],\n",
      "       [1290, 1308]], dtype=int64))\n"
     ]
    }
   ],
   "source": [
    "print(stats.ttest_ind(mtv12,ftv12))\n",
    "#print(stats.wilcoxon(mtv12,ftv12))\n",
    "print(stats.mannwhitneyu(mtv12,ftv12))\n",
    "print(\"Median_test:{}\".format(stats.median_test(mtv12,ftv12)))\n"
   ]
  },
  {
   "cell_type": "markdown",
   "metadata": {},
   "source": [
    "Who was more likely to believe people were fair in 2012, people living with a partner or people living alone?"
   ]
  },
  {
   "cell_type": "code",
   "execution_count": 215,
   "metadata": {
    "scrolled": true
   },
   "outputs": [
    {
     "data": {
      "image/png": "[encoded data removed]",
      "text/plain": [
       "<Figure size 432x288 with 1 Axes>"
      ]
     },
     "metadata": {},
     "output_type": "display_data"
    },
    {
     "data": {
      "image/png": "[encoded data removed]",
      "text/plain": [
       "<Figure size 432x288 with 1 Axes>"
      ]
     },
     "metadata": {},
     "output_type": "display_data"
    }
   ],
   "source": [
    "pft12 = y12[y12.partner == 0]['pplfair']\n",
    "npft12 = y12[y12.partner == 1]['pplfair']\n",
    "plt.hist(pft12)\n",
    "plt.show()\n",
    "plt.hist(npft12)\n",
    "plt.show()"
   ]
  },
  {
   "cell_type": "code",
   "execution_count": 218,
   "metadata": {},
   "outputs": [
    {
     "name": "stdout",
     "output_type": "stream",
     "text": [
      "count    1616.000000\n",
      "mean        5.857673\n",
      "std         2.156890\n",
      "min         0.000000\n",
      "25%         5.000000\n",
      "50%         6.000000\n",
      "75%         7.000000\n",
      "max        10.000000\n",
      "Name: pplfair, dtype: float64\n",
      "count    2681.000000\n",
      "mean        6.082432\n",
      "std         2.111516\n",
      "min         0.000000\n",
      "25%         5.000000\n",
      "50%         7.000000\n",
      "75%         8.000000\n",
      "max        10.000000\n",
      "Name: pplfair, dtype: float64\n"
     ]
    }
   ],
   "source": [
    "print(pft12.describe())\n",
    "print(npft12.describe())"
   ]
  },
  {
   "cell_type": "code",
   "execution_count": 216,
   "metadata": {},
   "outputs": [
    {
     "name": "stdout",
     "output_type": "stream",
     "text": [
      "Ttest_indResult(statistic=-3.3526650393131754, pvalue=0.0008073002028865902)\n",
      "MannwhitneyuResult(statistic=2020679.0, pvalue=9.044005650613175e-05)\n",
      "Median_test:(17.358626970933436, 3.0949020186893266e-05, 6.0, array([[ 710, 1355],\n",
      "       [ 906, 1326]], dtype=int64))\n"
     ]
    }
   ],
   "source": [
    "print(stats.ttest_ind(pft12,npft12))\n",
    "#print(stats.wilcoxon(mtv12,ftv12))\n",
    "print(stats.mannwhitneyu(pft12,npft12))\n",
    "print(\"Median_test:{}\".format(stats.median_test(pft12,npft12)))"
   ]
  },
  {
   "cell_type": "markdown",
   "metadata": {},
   "source": [
    "It appears that those who live with a partner find people fairer than those who do not."
   ]
  },
  {
   "cell_type": "markdown",
   "metadata": {},
   "source": [
    "Pick three or four of the countries in the sample and compare how often people met socially in 2014. Are there differences, and if so, which countries stand out?"
   ]
  },
  {
   "cell_type": "code",
   "execution_count": 222,
   "metadata": {},
   "outputs": [],
   "source": [
    "chscl = y14[y14.cntry == 'CH']['sclmeet']\n",
    "descl = y14[y14.cntry == 'DE']['sclmeet']\n",
    "esscl = y14[y14.cntry == 'ES']['sclmeet']\n",
    "czscl = y14[y14.cntry == 'CZ']['sclmeet']"
   ]
  },
  {
   "cell_type": "code",
   "execution_count": 223,
   "metadata": {},
   "outputs": [
    {
     "data": {
      "image/png": "[encoded data removed]",
      "text/plain": [
       "<Figure size 864x864 with 4 Axes>"
      ]
     },
     "metadata": {},
     "output_type": "display_data"
    }
   ],
   "source": [
    "sns.set(style=\"whitegrid\",color_codes=True)\n",
    "f, axes = plt.subplots(2, 2, figsize=(12, 12), sharex=False)\n",
    "sns.despine(left=True)\n",
    "sns.distplot(chscl, color='g',kde=False, ax=axes[0, 0]).set_title('CH Sclmeet')\n",
    "sns.distplot(descl, color='b',kde=False,ax=axes[0, 1]).set_title('DE Sclmeet')\n",
    "sns.distplot(esscl,color='teal',kde=False, ax=axes[1, 0]).set_title('ES Sclmeet')\n",
    "sns.distplot(czscl,color='y', kde=False, ax=axes[1, 1]).set_title('CZ Sclmeet')\n",
    "plt.show()"
   ]
  },
  {
   "cell_type": "code",
   "execution_count": 232,
   "metadata": {},
   "outputs": [
    {
     "data": {
      "text/html": [
       "<table class=\"simpletable\">\n",
       "<caption>Multiple Comparison of Means - Tukey HSD,FWER=0.05</caption>\n",
       "<tr>\n",
       "  <th>group1</th> <th>group2</th> <th>meandiff</th>  <th>lower</th>   <th>upper</th>  <th>reject</th>\n",
       "</tr>\n",
       "<tr>\n",
       "    <td>CH</td>     <td>CZ</td>    <td>-0.7088</td> <td>-0.9029</td> <td>-0.5147</td>  <td>True</td> \n",
       "</tr>\n",
       "<tr>\n",
       "    <td>CH</td>     <td>DE</td>    <td>-0.7331</td> <td>-1.7201</td> <td>0.2538</td>   <td>False</td>\n",
       "</tr>\n",
       "<tr>\n",
       "    <td>CH</td>     <td>ES</td>    <td>0.0996</td>  <td>-0.0688</td> <td>0.2681</td>   <td>False</td>\n",
       "</tr>\n",
       "<tr>\n",
       "    <td>CZ</td>     <td>DE</td>    <td>-0.0243</td> <td>-1.0128</td> <td>0.9642</td>   <td>False</td>\n",
       "</tr>\n",
       "<tr>\n",
       "    <td>CZ</td>     <td>ES</td>    <td>0.8084</td>  <td>0.6313</td>  <td>0.9856</td>   <td>True</td> \n",
       "</tr>\n",
       "<tr>\n",
       "    <td>DE</td>     <td>ES</td>    <td>0.8328</td>  <td>-0.151</td>  <td>1.8165</td>   <td>False</td>\n",
       "</tr>\n",
       "</table>"
      ],
      "text/plain": [
       "<class 'statsmodels.iolib.table.SimpleTable'>"
      ]
     },
     "execution_count": 232,
     "metadata": {},
     "output_type": "execute_result"
    }
   ],
   "source": [
    "meets=np.asarray(\n",
    "    chscl.tolist() +\n",
    "    descl.tolist() +\n",
    "    esscl.tolist() +\n",
    "    czscl.tolist()\n",
    ")\n",
    "\n",
    "countries = np.array(['CH']*len(chscl) + ['DE']*len(descl) + ['ES']*len(esscl) + ['CZ']*len(czscl))\n",
    "\n",
    "\n",
    "tukey = pairwise_tukeyhsd(endog=meets,      # Data\n",
    "                          groups=countries,   # Groups\n",
    "                          alpha=0.05)         # Significance level\n",
    "\n",
    "tukey.summary()  "
   ]
  },
  {
   "cell_type": "code",
   "execution_count": 236,
   "metadata": {},
   "outputs": [
    {
     "data": {
      "text/plain": [
       "KruskalResult(statistic=154.34188584548144, pvalue=3.0482759927520903e-33)"
      ]
     },
     "execution_count": 236,
     "metadata": {},
     "output_type": "execute_result"
    }
   ],
   "source": [
    "stats.kruskal(chscl,descl,esscl,czscl)"
   ]
  },
  {
   "cell_type": "code",
   "execution_count": 246,
   "metadata": {
    "scrolled": false
   },
   "outputs": [
    {
     "data": {
      "text/plain": [
       "<matplotlib.axes._subplots.AxesSubplot at 0x20203635d68>"
      ]
     },
     "execution_count": 246,
     "metadata": {},
     "output_type": "execute_result"
    },
    {
     "data": {
      "image/png": "[encoded data removed]",
      "text/plain": [
       "<Figure size 432x288 with 1 Axes>"
      ]
     },
     "metadata": {},
     "output_type": "display_data"
    }
   ],
   "source": [
    "sns.boxplot(esscl)"
   ]
  },
  {
   "cell_type": "code",
   "execution_count": 264,
   "metadata": {},
   "outputs": [
    {
     "name": "stdout",
     "output_type": "stream",
     "text": [
      "49.752082337377566\n",
      "2.805511549308731e-31\n"
     ]
    }
   ],
   "source": [
    "F, p = stats.f_oneway(\n",
    "    chscl,\n",
    "    descl,\n",
    "    esscl,\n",
    "    czscl,\n",
    ")\n",
    "\n",
    "# The F statistic.\n",
    "print(F)\n",
    "\n",
    "# The probability. A p < .05 would lead us to believe the group means were\n",
    "# not all similar in the population.\n",
    "print(p)"
   ]
  },
  {
   "cell_type": "markdown",
   "metadata": {},
   "source": [
    "looks like the group means are not all similar. "
   ]
  },
  {
   "cell_type": "code",
   "execution_count": 273,
   "metadata": {},
   "outputs": [
    {
     "name": "stderr",
     "output_type": "stream",
     "text": [
      "C:\\Users\\willd\\Anaconda3\\lib\\site-packages\\seaborn\\axisgrid.py:715: UserWarning: Using the boxplot function without specifying `order` is likely to produce an incorrect plot.\n",
      "  warnings.warn(warning)\n"
     ]
    },
    {
     "data": {
      "image/png": "[encoded data removed]",
      "text/plain": [
       "<Figure size 288x288 with 1 Axes>"
      ]
     },
     "metadata": {},
     "output_type": "display_data"
    }
   ],
   "source": [
    "df_czch = df.loc[\n",
    "    ((df['cntry'] == 'CH') | (df['cntry'] == 'DE') | (df.cntry == 'ES') | (df.cntry == 'CZ'))\n",
    "    & (df['year'] == 7), ['cntry','sclmeet'] ]\n",
    "\n",
    "df_long = df_czch\n",
    "df_long = pd.melt(df_long, id_vars=['cntry'])\n",
    "\n",
    "g = sns.FacetGrid(df_long, col=\"variable\", height=4, aspect=1)\n",
    "g = g.map(sns.boxplot, \"cntry\", \"value\")\n",
    "plt.show()"
   ]
  },
  {
   "cell_type": "markdown",
   "metadata": {},
   "source": [
    "Pick three or four of the countries in the sample and compare how often people took part in social activities, relative to others their age, in 2014. Are there differences, and if so, which countries stand out?"
   ]
  },
  {
   "cell_type": "code",
   "execution_count": 275,
   "metadata": {},
   "outputs": [],
   "source": [
    "chslcact = y14[y14.cntry == 'CH'][['cntry','agea','sclact']]\n",
    "seslcact = y14[y14.cntry == 'SE'][['cntry','agea','sclact']]\n",
    "deslcact = y14[y14.cntry == 'DE'][['cntry','agea','sclact']]"
   ]
  },
  {
   "cell_type": "code",
   "execution_count": null,
   "metadata": {},
   "outputs": [],
   "source": []
  }
 ],
 "metadata": {
  "kernelspec": {
   "display_name": "Python 3",
   "language": "python",
   "name": "python3"
  },
  "language_info": {
   "codemirror_mode": {
    "name": "ipython",
    "version": 3
   },
   "file_extension": ".py",
   "mimetype": "text/x-python",
   "name": "python",
   "nbconvert_exporter": "python",
   "pygments_lexer": "ipython3",
   "version": "3.6.5"
  }
 },
 "nbformat": 4,
 "nbformat_minor": 2
}
