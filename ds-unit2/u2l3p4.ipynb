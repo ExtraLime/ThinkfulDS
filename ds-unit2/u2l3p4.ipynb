{
 "cells": [
  {
   "cell_type": "code",
   "execution_count": 182,
   "metadata": {},
   "outputs": [],
   "source": [
    "import numpy as np\n",
    "import pandas as pd\n",
    "import matplotlib.pyplot as plt\n",
    "import scipy\n",
    "import sklearn\n",
    "import seaborn as sns\n",
    "%matplotlib inline"
   ]
  },
  {
   "cell_type": "code",
   "execution_count": 183,
   "metadata": {},
   "outputs": [],
   "source": [
    "# Grab and process the raw data.\n",
    "data_path = 'C:/Users/willd/Desktop/sentances/yelp_labelled.txt'\n",
    "            \n",
    "df = pd.read_csv(data_path, delimiter= '\\t', header=None)\n",
    "df.columns = ['review', 'positive']"
   ]
  },
  {
   "cell_type": "markdown",
   "metadata": {},
   "source": [
    "## Classification Model\n",
    "### Build a model using yelp reviews"
   ]
  },
  {
   "cell_type": "code",
   "execution_count": 184,
   "metadata": {
    "scrolled": true
   },
   "outputs": [
    {
     "data": {
      "text/html": [
       "<div>\n",
       "<style scoped>\n",
       "    .dataframe tbody tr th:only-of-type {\n",
       "        vertical-align: middle;\n",
       "    }\n",
       "\n",
       "    .dataframe tbody tr th {\n",
       "        vertical-align: top;\n",
       "    }\n",
       "\n",
       "    .dataframe thead th {\n",
       "        text-align: right;\n",
       "    }\n",
       "</style>\n",
       "<table border=\"1\" class=\"dataframe\">\n",
       "  <thead>\n",
       "    <tr style=\"text-align: right;\">\n",
       "      <th></th>\n",
       "      <th>review</th>\n",
       "      <th>positive</th>\n",
       "    </tr>\n",
       "  </thead>\n",
       "  <tbody>\n",
       "    <tr>\n",
       "      <th>0</th>\n",
       "      <td>Wow... Loved this place.</td>\n",
       "      <td>1</td>\n",
       "    </tr>\n",
       "    <tr>\n",
       "      <th>1</th>\n",
       "      <td>Crust is not good.</td>\n",
       "      <td>0</td>\n",
       "    </tr>\n",
       "    <tr>\n",
       "      <th>2</th>\n",
       "      <td>Not tasty and the texture was just nasty.</td>\n",
       "      <td>0</td>\n",
       "    </tr>\n",
       "    <tr>\n",
       "      <th>3</th>\n",
       "      <td>Stopped by during the late May bank holiday of...</td>\n",
       "      <td>1</td>\n",
       "    </tr>\n",
       "    <tr>\n",
       "      <th>4</th>\n",
       "      <td>The selection on the menu was great and so wer...</td>\n",
       "      <td>1</td>\n",
       "    </tr>\n",
       "  </tbody>\n",
       "</table>\n",
       "</div>"
      ],
      "text/plain": [
       "                                              review  positive\n",
       "0                           Wow... Loved this place.         1\n",
       "1                                 Crust is not good.         0\n",
       "2          Not tasty and the texture was just nasty.         0\n",
       "3  Stopped by during the late May bank holiday of...         1\n",
       "4  The selection on the menu was great and so wer...         1"
      ]
     },
     "execution_count": 184,
     "metadata": {},
     "output_type": "execute_result"
    }
   ],
   "source": [
    "df.head()"
   ]
  },
  {
   "cell_type": "code",
   "execution_count": 185,
   "metadata": {},
   "outputs": [
    {
     "data": {
      "text/html": [
       "<div>\n",
       "<style scoped>\n",
       "    .dataframe tbody tr th:only-of-type {\n",
       "        vertical-align: middle;\n",
       "    }\n",
       "\n",
       "    .dataframe tbody tr th {\n",
       "        vertical-align: top;\n",
       "    }\n",
       "\n",
       "    .dataframe thead th {\n",
       "        text-align: right;\n",
       "    }\n",
       "</style>\n",
       "<table border=\"1\" class=\"dataframe\">\n",
       "  <thead>\n",
       "    <tr style=\"text-align: right;\">\n",
       "      <th></th>\n",
       "      <th>review</th>\n",
       "      <th>positive</th>\n",
       "    </tr>\n",
       "  </thead>\n",
       "  <tbody>\n",
       "    <tr>\n",
       "      <th>0</th>\n",
       "      <td>Wow    Loved this place</td>\n",
       "      <td>1</td>\n",
       "    </tr>\n",
       "    <tr>\n",
       "      <th>1</th>\n",
       "      <td>Crust is not good</td>\n",
       "      <td>0</td>\n",
       "    </tr>\n",
       "    <tr>\n",
       "      <th>2</th>\n",
       "      <td>Not tasty and the texture was just nasty</td>\n",
       "      <td>0</td>\n",
       "    </tr>\n",
       "    <tr>\n",
       "      <th>3</th>\n",
       "      <td>Stopped by during the late May bank holiday of...</td>\n",
       "      <td>1</td>\n",
       "    </tr>\n",
       "    <tr>\n",
       "      <th>4</th>\n",
       "      <td>The selection on the menu was great and so wer...</td>\n",
       "      <td>1</td>\n",
       "    </tr>\n",
       "  </tbody>\n",
       "</table>\n",
       "</div>"
      ],
      "text/plain": [
       "                                              review  positive\n",
       "0                           Wow    Loved this place          1\n",
       "1                                 Crust is not good          0\n",
       "2          Not tasty and the texture was just nasty          0\n",
       "3  Stopped by during the late May bank holiday of...         1\n",
       "4  The selection on the menu was great and so wer...         1"
      ]
     },
     "execution_count": 185,
     "metadata": {},
     "output_type": "execute_result"
    }
   ],
   "source": [
    "# the punctuation is difficult to capture reviews that end positively\n",
    "df['review'] = df['review'].str.replace('.', ' ')\n",
    "df.head()"
   ]
  },
  {
   "cell_type": "code",
   "execution_count": 186,
   "metadata": {},
   "outputs": [],
   "source": [
    "#choose keywords as features for positive\n",
    "keywords = ['great', \n",
    "            'love', \n",
    "            'mother',\n",
    "            'top',\n",
    "            'away',\n",
    "            'amazing',\n",
    "            'prompt',\n",
    "            'delicious',\n",
    "            'best',\n",
    "            'beautiful',\n",
    "            'wow', \n",
    "            'wonderful',\n",
    "            'good',\n",
    "            'reasonably',\n",
    "            'value',\n",
    "            'works',\n",
    "            'well',\n",
    "            'quickly',\n",
    "            'satisfied',\n",
    "            'fast',\n",
    "            'happy',\n",
    "            'comfort',\n",
    "            'nice',\n",
    "            'pleased',\n",
    "            'perfect',\n",
    "            'impressed',\n",
    "            'excellent',\n",
    "            'fantastic',\n",
    "            'durable',\n",
    "            'recommend',\n",
    "            'brilliant',\n",
    "            'enjoyed',\n",
    "            'liked',\n",
    "            'to die for']\n",
    "\n",
    "#Capture both the word, plus if its in a pattern\n",
    "\n",
    "\n",
    "for key in keywords:\n",
    "    df[str(key)] = df.review.str.contains(\n",
    "        '' + str(key) + '',\n",
    "        case=False\n",
    "    )"
   ]
  },
  {
   "cell_type": "code",
   "execution_count": 187,
   "metadata": {},
   "outputs": [],
   "source": [
    "#turn binary 'positive' to boolean T/F\n",
    "df['positive'] = (df['positive'] == 1)"
   ]
  },
  {
   "cell_type": "code",
   "execution_count": 188,
   "metadata": {},
   "outputs": [
    {
     "data": {
      "text/html": [
       "<div>\n",
       "<style scoped>\n",
       "    .dataframe tbody tr th:only-of-type {\n",
       "        vertical-align: middle;\n",
       "    }\n",
       "\n",
       "    .dataframe tbody tr th {\n",
       "        vertical-align: top;\n",
       "    }\n",
       "\n",
       "    .dataframe thead th {\n",
       "        text-align: right;\n",
       "    }\n",
       "</style>\n",
       "<table border=\"1\" class=\"dataframe\">\n",
       "  <thead>\n",
       "    <tr style=\"text-align: right;\">\n",
       "      <th></th>\n",
       "      <th>review</th>\n",
       "      <th>positive</th>\n",
       "      <th>great</th>\n",
       "      <th>love</th>\n",
       "      <th>mother</th>\n",
       "      <th>top</th>\n",
       "      <th>away</th>\n",
       "      <th>amazing</th>\n",
       "      <th>prompt</th>\n",
       "      <th>delicious</th>\n",
       "      <th>...</th>\n",
       "      <th>perfect</th>\n",
       "      <th>impressed</th>\n",
       "      <th>excellent</th>\n",
       "      <th>fantastic</th>\n",
       "      <th>durable</th>\n",
       "      <th>recommend</th>\n",
       "      <th>brilliant</th>\n",
       "      <th>enjoyed</th>\n",
       "      <th>liked</th>\n",
       "      <th>to die for</th>\n",
       "    </tr>\n",
       "  </thead>\n",
       "  <tbody>\n",
       "    <tr>\n",
       "      <th>0</th>\n",
       "      <td>Wow    Loved this place</td>\n",
       "      <td>True</td>\n",
       "      <td>False</td>\n",
       "      <td>True</td>\n",
       "      <td>False</td>\n",
       "      <td>False</td>\n",
       "      <td>False</td>\n",
       "      <td>False</td>\n",
       "      <td>False</td>\n",
       "      <td>False</td>\n",
       "      <td>...</td>\n",
       "      <td>False</td>\n",
       "      <td>False</td>\n",
       "      <td>False</td>\n",
       "      <td>False</td>\n",
       "      <td>False</td>\n",
       "      <td>False</td>\n",
       "      <td>False</td>\n",
       "      <td>False</td>\n",
       "      <td>False</td>\n",
       "      <td>False</td>\n",
       "    </tr>\n",
       "  </tbody>\n",
       "</table>\n",
       "<p>1 rows × 36 columns</p>\n",
       "</div>"
      ],
      "text/plain": [
       "                     review  positive  great  love  mother    top   away  \\\n",
       "0  Wow    Loved this place       True  False  True   False  False  False   \n",
       "\n",
       "   amazing  prompt  delicious     ...      perfect  impressed  excellent  \\\n",
       "0    False   False      False     ...        False      False      False   \n",
       "\n",
       "   fantastic  durable  recommend  brilliant  enjoyed  liked  to die for  \n",
       "0      False    False      False      False    False  False       False  \n",
       "\n",
       "[1 rows x 36 columns]"
      ]
     },
     "execution_count": 188,
     "metadata": {},
     "output_type": "execute_result"
    }
   ],
   "source": [
    "df.head(1)"
   ]
  },
  {
   "cell_type": "code",
   "execution_count": 189,
   "metadata": {
    "scrolled": false
   },
   "outputs": [
    {
     "data": {
      "image/png": "[encoded data removed]",
      "text/plain": [
       "<Figure size 864x648 with 2 Axes>"
      ]
     },
     "metadata": {},
     "output_type": "display_data"
    }
   ],
   "source": [
    "#Creat heatmap for correlation\n",
    "plt.figure(figsize=(12,9))\n",
    "sns.heatmap(df.corr(), cmap='YlGnBu')\n",
    "plt.show()"
   ]
  },
  {
   "cell_type": "markdown",
   "metadata": {},
   "source": [
    "Most of the variables seem to be independent. Some small correlations but enough independence"
   ]
  },
  {
   "cell_type": "code",
   "execution_count": 190,
   "metadata": {
    "scrolled": true
   },
   "outputs": [
    {
     "data": {
      "text/html": [
       "<div>\n",
       "<style scoped>\n",
       "    .dataframe tbody tr th:only-of-type {\n",
       "        vertical-align: middle;\n",
       "    }\n",
       "\n",
       "    .dataframe tbody tr th {\n",
       "        vertical-align: top;\n",
       "    }\n",
       "\n",
       "    .dataframe thead th {\n",
       "        text-align: right;\n",
       "    }\n",
       "</style>\n",
       "<table border=\"1\" class=\"dataframe\">\n",
       "  <thead>\n",
       "    <tr style=\"text-align: right;\">\n",
       "      <th></th>\n",
       "      <th>review</th>\n",
       "      <th>positive</th>\n",
       "      <th>great</th>\n",
       "      <th>love</th>\n",
       "      <th>mother</th>\n",
       "      <th>top</th>\n",
       "      <th>away</th>\n",
       "      <th>amazing</th>\n",
       "      <th>prompt</th>\n",
       "      <th>delicious</th>\n",
       "      <th>...</th>\n",
       "      <th>perfect</th>\n",
       "      <th>impressed</th>\n",
       "      <th>excellent</th>\n",
       "      <th>fantastic</th>\n",
       "      <th>durable</th>\n",
       "      <th>recommend</th>\n",
       "      <th>brilliant</th>\n",
       "      <th>enjoyed</th>\n",
       "      <th>liked</th>\n",
       "      <th>to die for</th>\n",
       "    </tr>\n",
       "  </thead>\n",
       "  <tbody>\n",
       "    <tr>\n",
       "      <th>False</th>\n",
       "      <td>NaN</td>\n",
       "      <td>NaN</td>\n",
       "      <td>935</td>\n",
       "      <td>964</td>\n",
       "      <td>999</td>\n",
       "      <td>991</td>\n",
       "      <td>995</td>\n",
       "      <td>976</td>\n",
       "      <td>998</td>\n",
       "      <td>976</td>\n",
       "      <td>...</td>\n",
       "      <td>985</td>\n",
       "      <td>992</td>\n",
       "      <td>990</td>\n",
       "      <td>988</td>\n",
       "      <td>1000.0</td>\n",
       "      <td>982</td>\n",
       "      <td>1000.0</td>\n",
       "      <td>995</td>\n",
       "      <td>997</td>\n",
       "      <td>998</td>\n",
       "    </tr>\n",
       "    <tr>\n",
       "      <th>True</th>\n",
       "      <td>NaN</td>\n",
       "      <td>NaN</td>\n",
       "      <td>65</td>\n",
       "      <td>36</td>\n",
       "      <td>1</td>\n",
       "      <td>9</td>\n",
       "      <td>5</td>\n",
       "      <td>24</td>\n",
       "      <td>2</td>\n",
       "      <td>24</td>\n",
       "      <td>...</td>\n",
       "      <td>15</td>\n",
       "      <td>8</td>\n",
       "      <td>10</td>\n",
       "      <td>12</td>\n",
       "      <td>NaN</td>\n",
       "      <td>18</td>\n",
       "      <td>NaN</td>\n",
       "      <td>5</td>\n",
       "      <td>3</td>\n",
       "      <td>2</td>\n",
       "    </tr>\n",
       "  </tbody>\n",
       "</table>\n",
       "<p>2 rows × 36 columns</p>\n",
       "</div>"
      ],
      "text/plain": [
       "      review positive  great  love  mother  top  away  amazing  prompt  \\\n",
       "False    NaN      NaN    935   964     999  991   995      976     998   \n",
       "True     NaN      NaN     65    36       1    9     5       24       2   \n",
       "\n",
       "       delicious     ...      perfect  impressed  excellent  fantastic  \\\n",
       "False        976     ...          985        992        990        988   \n",
       "True          24     ...           15          8         10         12   \n",
       "\n",
       "       durable  recommend  brilliant  enjoyed  liked  to die for  \n",
       "False   1000.0        982     1000.0      995    997         998  \n",
       "True       NaN         18        NaN        5      3           2  \n",
       "\n",
       "[2 rows x 36 columns]"
      ]
     },
     "execution_count": 190,
     "metadata": {},
     "output_type": "execute_result"
    }
   ],
   "source": [
    "#check instances of features\n",
    "for col in df.loc[:,'great':'to die for']:\n",
    "    df1=pd.DataFrame(columns=df.columns)\n",
    "    for col in df1.loc[:,'great':'to die for']:\n",
    "        df1[col]= df[col].value_counts()\n",
    "    \n",
    "df1.head()"
   ]
  },
  {
   "cell_type": "code",
   "execution_count": 191,
   "metadata": {},
   "outputs": [],
   "source": [
    "data = df[keywords]\n",
    "target = df['positive']"
   ]
  },
  {
   "cell_type": "code",
   "execution_count": 192,
   "metadata": {},
   "outputs": [
    {
     "name": "stdout",
     "output_type": "stream",
     "text": [
      "Number of mislabeled points out of a total 1000 points : 245\n"
     ]
    }
   ],
   "source": [
    "#As the outcome is categorical we use naive bayes to fit the model. More specifically,\n",
    "#the out come is binary so we choose the Bernoulli classifier\n",
    "from sklearn.naive_bayes import BernoulliNB\n",
    "\n",
    "bnb = BernoulliNB()\n",
    "bnb.fit(data, target)\n",
    "y_pred = bnb.predict(data)\n",
    "\n",
    "print(\"Number of mislabeled points out of a total {} points : {}\".format(\n",
    "    data.shape[0],\n",
    "    (target != y_pred).sum()\n",
    "))"
   ]
  },
  {
   "cell_type": "markdown",
   "metadata": {},
   "source": [
    "After compiling the list of keywords, the model can predict at around 75%"
   ]
  },
  {
   "cell_type": "markdown",
   "metadata": {},
   "source": [
    "# Evaluating the model"
   ]
  },
  {
   "cell_type": "code",
   "execution_count": 193,
   "metadata": {},
   "outputs": [
    {
     "name": "stdout",
     "output_type": "stream",
     "text": [
      "Accuracy of the model:75.5%\n"
     ]
    }
   ],
   "source": [
    "#Success rate\n",
    "srate = 100-(245/1000*100)\n",
    "print('Accuracy of the model:{}%'.format(srate))"
   ]
  },
  {
   "cell_type": "code",
   "execution_count": 194,
   "metadata": {
    "scrolled": true
   },
   "outputs": [
    {
     "name": "stdout",
     "output_type": "stream",
     "text": [
      "[[457  43]\n",
      " [202 298]]\n"
     ]
    },
    {
     "data": {
      "image/png": "[encoded data removed]",
      "text/plain": [
       "<Figure size 432x288 with 2 Axes>"
      ]
     },
     "metadata": {},
     "output_type": "display_data"
    },
    {
     "name": "stdout",
     "output_type": "stream",
     "text": [
      "500\n"
     ]
    }
   ],
   "source": [
    "#Confusion Matrix\n",
    "from sklearn.metrics import confusion_matrix\n",
    "\n",
    "print(confusion_matrix(target, y_pred))\n",
    "\n",
    "g = sns.heatmap(confusion_matrix(target, y_pred), annot=True, fmt='d')\n",
    "plt.title('Confusion Matrix')\n",
    "plt.show()\n",
    "print(len(df.loc[df['positive']==True]))"
   ]
  },
  {
   "cell_type": "markdown",
   "metadata": {},
   "source": [
    "Of 245 the mislabelled points:\n",
    "\n",
    "43 of them were reviews that the model identified as positive, but were negative. Type 1 error or false positive\n",
    "\n",
    "202 of the reviews were false negatives, in otherwords, the model failed to indentify these of positive reviews"
   ]
  },
  {
   "cell_type": "code",
   "execution_count": 195,
   "metadata": {
    "scrolled": false
   },
   "outputs": [
    {
     "name": "stdout",
     "output_type": "stream",
     "text": [
      "Sensitivity = 59.60%\n",
      "Specificity = 91.40%\n"
     ]
    }
   ],
   "source": [
    "#Sensitivity:\n",
    "sens = (298/500)\n",
    "spef = (457/500)\n",
    "print('Sensitivity = {0:.2f}%'.format(sens*100))\n",
    "print('Specificity = {0:.2f}%'.format(spef*100))"
   ]
  },
  {
   "cell_type": "code",
   "execution_count": 196,
   "metadata": {},
   "outputs": [],
   "source": [
    "#Examine Type I and Type II errors to ameliorate the success rate\n",
    "df['y_pred'] = y_pred\n",
    "errors = df[['review','y_pred','positive']]\n",
    "type1 = errors.loc[(errors['y_pred']==True)&(errors['positive']==False)]\n",
    "type2 = errors.loc[(errors['y_pred']==False)&(errors['positive']==True)]"
   ]
  },
  {
   "cell_type": "code",
   "execution_count": 197,
   "metadata": {
    "scrolled": false
   },
   "outputs": [
    {
     "data": {
      "text/html": [
       "<div>\n",
       "<style scoped>\n",
       "    .dataframe tbody tr th:only-of-type {\n",
       "        vertical-align: middle;\n",
       "    }\n",
       "\n",
       "    .dataframe tbody tr th {\n",
       "        vertical-align: top;\n",
       "    }\n",
       "\n",
       "    .dataframe thead th {\n",
       "        text-align: right;\n",
       "    }\n",
       "</style>\n",
       "<table border=\"1\" class=\"dataframe\">\n",
       "  <thead>\n",
       "    <tr style=\"text-align: right;\">\n",
       "      <th></th>\n",
       "      <th>review</th>\n",
       "      <th>y_pred</th>\n",
       "      <th>positive</th>\n",
       "    </tr>\n",
       "  </thead>\n",
       "  <tbody>\n",
       "    <tr>\n",
       "      <th>1</th>\n",
       "      <td>Crust is not good</td>\n",
       "      <td>True</td>\n",
       "      <td>False</td>\n",
       "    </tr>\n",
       "    <tr>\n",
       "      <th>33</th>\n",
       "      <td>seems like a good quick place to grab a bite o...</td>\n",
       "      <td>True</td>\n",
       "      <td>False</td>\n",
       "    </tr>\n",
       "    <tr>\n",
       "      <th>41</th>\n",
       "      <td>There is not a deal good enough that would dra...</td>\n",
       "      <td>True</td>\n",
       "      <td>False</td>\n",
       "    </tr>\n",
       "    <tr>\n",
       "      <th>42</th>\n",
       "      <td>Hard to judge whether these sides were good be...</td>\n",
       "      <td>True</td>\n",
       "      <td>False</td>\n",
       "    </tr>\n",
       "    <tr>\n",
       "      <th>79</th>\n",
       "      <td>There is so much good food in Vegas that I fee...</td>\n",
       "      <td>True</td>\n",
       "      <td>False</td>\n",
       "    </tr>\n",
       "    <tr>\n",
       "      <th>98</th>\n",
       "      <td>It was not good</td>\n",
       "      <td>True</td>\n",
       "      <td>False</td>\n",
       "    </tr>\n",
       "    <tr>\n",
       "      <th>110</th>\n",
       "      <td>REAL sushi lovers, let's be honest - Yama is n...</td>\n",
       "      <td>True</td>\n",
       "      <td>False</td>\n",
       "    </tr>\n",
       "    <tr>\n",
       "      <th>138</th>\n",
       "      <td>He was extremely rude and really, there are so...</td>\n",
       "      <td>True</td>\n",
       "      <td>False</td>\n",
       "    </tr>\n",
       "    <tr>\n",
       "      <th>167</th>\n",
       "      <td>So don't go there if you are looking for good ...</td>\n",
       "      <td>True</td>\n",
       "      <td>False</td>\n",
       "    </tr>\n",
       "    <tr>\n",
       "      <th>194</th>\n",
       "      <td>I'm not really sure how Joey's was voted best ...</td>\n",
       "      <td>True</td>\n",
       "      <td>False</td>\n",
       "    </tr>\n",
       "    <tr>\n",
       "      <th>216</th>\n",
       "      <td>Soggy and not good</td>\n",
       "      <td>True</td>\n",
       "      <td>False</td>\n",
       "    </tr>\n",
       "    <tr>\n",
       "      <th>287</th>\n",
       "      <td>We waited an hour for what was a breakfast I c...</td>\n",
       "      <td>True</td>\n",
       "      <td>False</td>\n",
       "    </tr>\n",
       "    <tr>\n",
       "      <th>328</th>\n",
       "      <td>I go to far too many places and I've never see...</td>\n",
       "      <td>True</td>\n",
       "      <td>False</td>\n",
       "    </tr>\n",
       "    <tr>\n",
       "      <th>374</th>\n",
       "      <td>And the beans and rice were mediocre at best</td>\n",
       "      <td>True</td>\n",
       "      <td>False</td>\n",
       "    </tr>\n",
       "    <tr>\n",
       "      <th>452</th>\n",
       "      <td>I am far from a sushi connoisseur but I can de...</td>\n",
       "      <td>True</td>\n",
       "      <td>False</td>\n",
       "    </tr>\n",
       "    <tr>\n",
       "      <th>483</th>\n",
       "      <td>The selection of food was not the best</td>\n",
       "      <td>True</td>\n",
       "      <td>False</td>\n",
       "    </tr>\n",
       "    <tr>\n",
       "      <th>488</th>\n",
       "      <td>It was attached to a gas station, and that is ...</td>\n",
       "      <td>True</td>\n",
       "      <td>False</td>\n",
       "    </tr>\n",
       "    <tr>\n",
       "      <th>554</th>\n",
       "      <td>However, my recent experience at this particul...</td>\n",
       "      <td>True</td>\n",
       "      <td>False</td>\n",
       "    </tr>\n",
       "    <tr>\n",
       "      <th>575</th>\n",
       "      <td>The pizza tasted old, super chewy in not a goo...</td>\n",
       "      <td>True</td>\n",
       "      <td>False</td>\n",
       "    </tr>\n",
       "    <tr>\n",
       "      <th>594</th>\n",
       "      <td>It was a pale color instead of nice and char a...</td>\n",
       "      <td>True</td>\n",
       "      <td>False</td>\n",
       "    </tr>\n",
       "    <tr>\n",
       "      <th>599</th>\n",
       "      <td>Not good for the money</td>\n",
       "      <td>True</td>\n",
       "      <td>False</td>\n",
       "    </tr>\n",
       "    <tr>\n",
       "      <th>601</th>\n",
       "      <td>We got sitting fairly fast, but, ended up wait...</td>\n",
       "      <td>True</td>\n",
       "      <td>False</td>\n",
       "    </tr>\n",
       "    <tr>\n",
       "      <th>626</th>\n",
       "      <td>Best of luck to the rude and non-customer serv...</td>\n",
       "      <td>True</td>\n",
       "      <td>False</td>\n",
       "    </tr>\n",
       "    <tr>\n",
       "      <th>638</th>\n",
       "      <td>After waiting an hour and being seated, I was ...</td>\n",
       "      <td>True</td>\n",
       "      <td>False</td>\n",
       "    </tr>\n",
       "    <tr>\n",
       "      <th>647</th>\n",
       "      <td>Food was average at best</td>\n",
       "      <td>True</td>\n",
       "      <td>False</td>\n",
       "    </tr>\n",
       "  </tbody>\n",
       "</table>\n",
       "</div>"
      ],
      "text/plain": [
       "                                                review  y_pred  positive\n",
       "1                                   Crust is not good     True     False\n",
       "33   seems like a good quick place to grab a bite o...    True     False\n",
       "41   There is not a deal good enough that would dra...    True     False\n",
       "42   Hard to judge whether these sides were good be...    True     False\n",
       "79   There is so much good food in Vegas that I fee...    True     False\n",
       "98                                    It was not good     True     False\n",
       "110  REAL sushi lovers, let's be honest - Yama is n...    True     False\n",
       "138  He was extremely rude and really, there are so...    True     False\n",
       "167  So don't go there if you are looking for good ...    True     False\n",
       "194  I'm not really sure how Joey's was voted best ...    True     False\n",
       "216                                Soggy and not good     True     False\n",
       "287  We waited an hour for what was a breakfast I c...    True     False\n",
       "328  I go to far too many places and I've never see...    True     False\n",
       "374      And the beans and rice were mediocre at best     True     False\n",
       "452  I am far from a sushi connoisseur but I can de...    True     False\n",
       "483            The selection of food was not the best     True     False\n",
       "488  It was attached to a gas station, and that is ...    True     False\n",
       "554  However, my recent experience at this particul...    True     False\n",
       "575  The pizza tasted old, super chewy in not a goo...    True     False\n",
       "594  It was a pale color instead of nice and char a...    True     False\n",
       "599                            Not good for the money     True     False\n",
       "601  We got sitting fairly fast, but, ended up wait...    True     False\n",
       "626  Best of luck to the rude and non-customer serv...    True     False\n",
       "638  After waiting an hour and being seated, I was ...    True     False\n",
       "647                          Food was average at best     True     False"
      ]
     },
     "execution_count": 197,
     "metadata": {},
     "output_type": "execute_result"
    }
   ],
   "source": [
    "#Look at the false positives\n",
    "type1.head(25)"
   ]
  },
  {
   "cell_type": "markdown",
   "metadata": {},
   "source": [
    "Phrases like \"instead of nice\", \"arent as good\", \"i do love, but\" etc. creates problems for this kinds of model.\n",
    "Any sort of negation to positive sentiment it flagged as positive."
   ]
  },
  {
   "cell_type": "code",
   "execution_count": 198,
   "metadata": {
    "scrolled": false
   },
   "outputs": [
    {
     "data": {
      "text/html": [
       "<div>\n",
       "<style scoped>\n",
       "    .dataframe tbody tr th:only-of-type {\n",
       "        vertical-align: middle;\n",
       "    }\n",
       "\n",
       "    .dataframe tbody tr th {\n",
       "        vertical-align: top;\n",
       "    }\n",
       "\n",
       "    .dataframe thead th {\n",
       "        text-align: right;\n",
       "    }\n",
       "</style>\n",
       "<table border=\"1\" class=\"dataframe\">\n",
       "  <thead>\n",
       "    <tr style=\"text-align: right;\">\n",
       "      <th></th>\n",
       "      <th>review</th>\n",
       "      <th>y_pred</th>\n",
       "      <th>positive</th>\n",
       "    </tr>\n",
       "  </thead>\n",
       "  <tbody>\n",
       "    <tr>\n",
       "      <th>13</th>\n",
       "      <td>I tried the Cape Cod ravoli, chicken,with cran...</td>\n",
       "      <td>False</td>\n",
       "      <td>True</td>\n",
       "    </tr>\n",
       "    <tr>\n",
       "      <th>16</th>\n",
       "      <td>Highly recommended</td>\n",
       "      <td>False</td>\n",
       "      <td>True</td>\n",
       "    </tr>\n",
       "    <tr>\n",
       "      <th>22</th>\n",
       "      <td>Service is also cute</td>\n",
       "      <td>False</td>\n",
       "      <td>True</td>\n",
       "    </tr>\n",
       "    <tr>\n",
       "      <th>24</th>\n",
       "      <td>So they performed</td>\n",
       "      <td>False</td>\n",
       "      <td>True</td>\n",
       "    </tr>\n",
       "    <tr>\n",
       "      <th>30</th>\n",
       "      <td>Also there are combos like a burger, fries, an...</td>\n",
       "      <td>False</td>\n",
       "      <td>True</td>\n",
       "    </tr>\n",
       "    <tr>\n",
       "      <th>32</th>\n",
       "      <td>I found this place by accident and I could not...</td>\n",
       "      <td>False</td>\n",
       "      <td>True</td>\n",
       "    </tr>\n",
       "    <tr>\n",
       "      <th>34</th>\n",
       "      <td>Overall, I like this place a lot</td>\n",
       "      <td>False</td>\n",
       "      <td>True</td>\n",
       "    </tr>\n",
       "    <tr>\n",
       "      <th>35</th>\n",
       "      <td>The only redeeming quality of the restaurant w...</td>\n",
       "      <td>False</td>\n",
       "      <td>True</td>\n",
       "    </tr>\n",
       "    <tr>\n",
       "      <th>38</th>\n",
       "      <td>My first visit to Hiro was a delight!</td>\n",
       "      <td>False</td>\n",
       "      <td>True</td>\n",
       "    </tr>\n",
       "    <tr>\n",
       "      <th>40</th>\n",
       "      <td>The shrimp tender and moist</td>\n",
       "      <td>False</td>\n",
       "      <td>True</td>\n",
       "    </tr>\n",
       "    <tr>\n",
       "      <th>45</th>\n",
       "      <td>The only thing I did like was the prime rib an...</td>\n",
       "      <td>False</td>\n",
       "      <td>True</td>\n",
       "    </tr>\n",
       "    <tr>\n",
       "      <th>48</th>\n",
       "      <td>If you want a sandwich just go to any Firehous...</td>\n",
       "      <td>False</td>\n",
       "      <td>True</td>\n",
       "    </tr>\n",
       "    <tr>\n",
       "      <th>49</th>\n",
       "      <td>My side Greek salad with the Greek dressing wa...</td>\n",
       "      <td>False</td>\n",
       "      <td>True</td>\n",
       "    </tr>\n",
       "    <tr>\n",
       "      <th>51</th>\n",
       "      <td>He came running after us when he realized my h...</td>\n",
       "      <td>False</td>\n",
       "      <td>True</td>\n",
       "    </tr>\n",
       "    <tr>\n",
       "      <th>54</th>\n",
       "      <td>The portion was huge!</td>\n",
       "      <td>False</td>\n",
       "      <td>True</td>\n",
       "    </tr>\n",
       "    <tr>\n",
       "      <th>61</th>\n",
       "      <td>This place receives stars for their APPETIZERS!!!</td>\n",
       "      <td>False</td>\n",
       "      <td>True</td>\n",
       "    </tr>\n",
       "    <tr>\n",
       "      <th>63</th>\n",
       "      <td>We'd definitely go back here again</td>\n",
       "      <td>False</td>\n",
       "      <td>True</td>\n",
       "    </tr>\n",
       "    <tr>\n",
       "      <th>64</th>\n",
       "      <td>We are so glad we found this place</td>\n",
       "      <td>False</td>\n",
       "      <td>True</td>\n",
       "    </tr>\n",
       "    <tr>\n",
       "      <th>70</th>\n",
       "      <td>The deal included 5 tastings and 2 drinks, and...</td>\n",
       "      <td>False</td>\n",
       "      <td>True</td>\n",
       "    </tr>\n",
       "    <tr>\n",
       "      <th>83</th>\n",
       "      <td>This place has it!</td>\n",
       "      <td>False</td>\n",
       "      <td>True</td>\n",
       "    </tr>\n",
       "    <tr>\n",
       "      <th>91</th>\n",
       "      <td>It's like a really sexy party in your mouth, w...</td>\n",
       "      <td>False</td>\n",
       "      <td>True</td>\n",
       "    </tr>\n",
       "    <tr>\n",
       "      <th>96</th>\n",
       "      <td>Will be back again!</td>\n",
       "      <td>False</td>\n",
       "      <td>True</td>\n",
       "    </tr>\n",
       "    <tr>\n",
       "      <th>97</th>\n",
       "      <td>Food arrived quickly!</td>\n",
       "      <td>False</td>\n",
       "      <td>True</td>\n",
       "    </tr>\n",
       "    <tr>\n",
       "      <th>104</th>\n",
       "      <td>This is one of the better buffets that I have ...</td>\n",
       "      <td>False</td>\n",
       "      <td>True</td>\n",
       "    </tr>\n",
       "    <tr>\n",
       "      <th>108</th>\n",
       "      <td>Will go back next trip out</td>\n",
       "      <td>False</td>\n",
       "      <td>True</td>\n",
       "    </tr>\n",
       "  </tbody>\n",
       "</table>\n",
       "</div>"
      ],
      "text/plain": [
       "                                                review  y_pred  positive\n",
       "13   I tried the Cape Cod ravoli, chicken,with cran...   False      True\n",
       "16                                 Highly recommended    False      True\n",
       "22                               Service is also cute    False      True\n",
       "24                                  So they performed    False      True\n",
       "30   Also there are combos like a burger, fries, an...   False      True\n",
       "32   I found this place by accident and I could not...   False      True\n",
       "34                   Overall, I like this place a lot    False      True\n",
       "35   The only redeeming quality of the restaurant w...   False      True\n",
       "38               My first visit to Hiro was a delight!   False      True\n",
       "40                        The shrimp tender and moist    False      True\n",
       "45   The only thing I did like was the prime rib an...   False      True\n",
       "48   If you want a sandwich just go to any Firehous...   False      True\n",
       "49   My side Greek salad with the Greek dressing wa...   False      True\n",
       "51   He came running after us when he realized my h...   False      True\n",
       "54                               The portion was huge!   False      True\n",
       "61   This place receives stars for their APPETIZERS!!!   False      True\n",
       "63                 We'd definitely go back here again    False      True\n",
       "64                 We are so glad we found this place    False      True\n",
       "70   The deal included 5 tastings and 2 drinks, and...   False      True\n",
       "83                                  This place has it!   False      True\n",
       "91   It's like a really sexy party in your mouth, w...   False      True\n",
       "96                                 Will be back again!   False      True\n",
       "97                               Food arrived quickly!   False      True\n",
       "104  This is one of the better buffets that I have ...   False      True\n",
       "108                        Will go back next trip out    False      True"
      ]
     },
     "execution_count": 198,
     "metadata": {},
     "output_type": "execute_result"
    }
   ],
   "source": [
    "#Take a look at the false negatives.\n",
    "type2.head(25)"
   ]
  },
  {
   "cell_type": "markdown",
   "metadata": {},
   "source": [
    "Examining the false negatives could help in improving the models performance. Some new features can be added based on this case."
   ]
  },
  {
   "cell_type": "markdown",
   "metadata": {},
   "source": [
    "# Cross Validation"
   ]
  },
  {
   "cell_type": "code",
   "execution_count": 199,
   "metadata": {
    "scrolled": true
   },
   "outputs": [],
   "source": [
    "#Write a function to do the cross validation \n",
    "# Create n folds\n",
    "def crossv (df):\n",
    "    fold1, fold2, fold3, fold4, fold5 = np.array_split(df, 5)\n",
    "    folds = [fold1, fold2, fold3, fold4, fold5]\n",
    "    scores = []    \n",
    "    for i in range(len(folds)):\n",
    "        allfolds = [fold1, fold2, fold3, fold4, fold5]            \n",
    "        fold = folds[i]\n",
    "        test = pd.DataFrame(fold)\n",
    "        trainFolds = allfolds.pop(i)\n",
    "        train = pd.concat([trainFolds])\n",
    "        data = train[keywords]\n",
    "        data2 = test[keywords]\n",
    "        target = train['positive']\n",
    "        bnb.fit(data, target)\n",
    "        y_pred = bnb.predict(data2)        \n",
    "        scores.append(1-((test['positive'] != y_pred).sum())/data2.shape[0])\n",
    "    scores = np.array(scores)        \n",
    "    print ('Accuracy per fold:{}'.format(scores))\n",
    "    print('Mean Accuracy and std: {0:.2f}% , {1:.2f}%'.format((scores.mean()*100),(scores.std()*100)))\n",
    "     \n",
    "\n"
   ]
  },
  {
   "cell_type": "code",
   "execution_count": 200,
   "metadata": {},
   "outputs": [
    {
     "name": "stdout",
     "output_type": "stream",
     "text": [
      "Accuracy per fold:[0.75  0.775 0.77  0.685 0.835]\n",
      "Mean Accuracy and std: 76.30% , 4.82%\n"
     ]
    }
   ],
   "source": [
    "crossv(df)"
   ]
  },
  {
   "cell_type": "code",
   "execution_count": 201,
   "metadata": {},
   "outputs": [
    {
     "name": "stdout",
     "output_type": "stream",
     "text": [
      "Accuracy per fold:[0.75  0.775 0.77  0.685 0.835]\n",
      "Mean Accuracy and std: 76.30% , 4.82%\n"
     ]
    }
   ],
   "source": [
    "crossv(df)"
   ]
  },
  {
   "cell_type": "code",
   "execution_count": 202,
   "metadata": {},
   "outputs": [
    {
     "name": "stdout",
     "output_type": "stream",
     "text": [
      "Accuracy per fold:[0.71 0.78 0.72 0.81 0.77 0.71 0.77 0.71 0.74 0.78]\n",
      "Mean Accuracy and std: 75.00% , 3.46%\n"
     ]
    }
   ],
   "source": [
    "#Compare to sklearns built in function\n",
    "from sklearn.model_selection import cross_val_score\n",
    "cv = cross_val_score(bnb, data, target, cv=10)\n",
    "\n",
    "print ('Accuracy per fold:{}'.format(cv.round(2)))\n",
    "print('Mean Accuracy and std: {0:.2f}% , {1:.2f}%'.format((cv.mean()*100),(cv.std()*100)))\n"
   ]
  },
  {
   "cell_type": "markdown",
   "metadata": {},
   "source": [
    "A few things to note about the cross validation. When the model was tested against the full data set, it had an accuracy of 76%%, the average accuracy for the 5 folds was 76.3% and the accuracy for 10 folds was 75%. "
   ]
  },
  {
   "cell_type": "markdown",
   "metadata": {},
   "source": [
    "## IMDB reviews"
   ]
  },
  {
   "cell_type": "code",
   "execution_count": 203,
   "metadata": {},
   "outputs": [],
   "source": [
    "# Grab and process the raw data.\n",
    "imdb_path = 'C:/Users/willd/Desktop/sentances/imdb_labelled.txt'\n",
    "            \n",
    "imdb = pd.read_csv(imdb_path, delimiter= '\\t', header=None)\n",
    "imdb.columns = ['review', 'positive']\n",
    "imdb['review'] = imdb['review'].str.replace('.', ' ')\n",
    "\n",
    "imdb['positive'] = (imdb['positive'] == 1)\n"
   ]
  },
  {
   "cell_type": "code",
   "execution_count": 204,
   "metadata": {},
   "outputs": [],
   "source": [
    "for key in keywords:\n",
    "    imdb[str(key)] = imdb.review.str.contains(\n",
    "        '' + str(key) + '',\n",
    "        case=False\n",
    "    )"
   ]
  },
  {
   "cell_type": "code",
   "execution_count": 205,
   "metadata": {},
   "outputs": [
    {
     "data": {
      "image/png": "[encoded data removed]",
      "text/plain": [
       "<Figure size 864x648 with 2 Axes>"
      ]
     },
     "metadata": {},
     "output_type": "display_data"
    }
   ],
   "source": [
    "#Creat heatmap for correlation\n",
    "plt.figure(figsize=(12,9))\n",
    "sns.heatmap(imdb.corr(), cmap='YlGnBu')\n",
    "plt.show()"
   ]
  },
  {
   "cell_type": "markdown",
   "metadata": {},
   "source": [
    "The heatmap show some highly correlated variable, particularly 'mother' and 'impressed'. We will leave it how it is for the moment"
   ]
  },
  {
   "cell_type": "code",
   "execution_count": 206,
   "metadata": {},
   "outputs": [],
   "source": [
    "data = imdb[keywords]\n",
    "target = imdb['positive']"
   ]
  },
  {
   "cell_type": "code",
   "execution_count": 207,
   "metadata": {
    "scrolled": true
   },
   "outputs": [
    {
     "name": "stdout",
     "output_type": "stream",
     "text": [
      "Number of mislabeled points out of a total 748 points : 250\n"
     ]
    }
   ],
   "source": [
    "bnb.fit(data,target)\n",
    "y_pred = bnb.predict(data)\n",
    "\n",
    "print(\"Number of mislabeled points out of a total {} points : {}\".format(\n",
    "    data.shape[0],(target != y_pred).sum()))"
   ]
  },
  {
   "cell_type": "markdown",
   "metadata": {},
   "source": [
    "### Cross Validation"
   ]
  },
  {
   "cell_type": "code",
   "execution_count": 208,
   "metadata": {},
   "outputs": [
    {
     "name": "stdout",
     "output_type": "stream",
     "text": [
      "Accuracy per fold:[0.68       0.71333333 0.76       0.67785235 0.68456376]\n",
      "Mean Accuracy and std: 70.31% , 3.12%\n"
     ]
    }
   ],
   "source": [
    "crossv(imdb)"
   ]
  },
  {
   "cell_type": "markdown",
   "metadata": {},
   "source": [
    "## Amazon product reviews"
   ]
  },
  {
   "cell_type": "code",
   "execution_count": 209,
   "metadata": {},
   "outputs": [
    {
     "data": {
      "text/html": [
       "<div>\n",
       "<style scoped>\n",
       "    .dataframe tbody tr th:only-of-type {\n",
       "        vertical-align: middle;\n",
       "    }\n",
       "\n",
       "    .dataframe tbody tr th {\n",
       "        vertical-align: top;\n",
       "    }\n",
       "\n",
       "    .dataframe thead th {\n",
       "        text-align: right;\n",
       "    }\n",
       "</style>\n",
       "<table border=\"1\" class=\"dataframe\">\n",
       "  <thead>\n",
       "    <tr style=\"text-align: right;\">\n",
       "      <th></th>\n",
       "      <th>review</th>\n",
       "      <th>positive</th>\n",
       "    </tr>\n",
       "  </thead>\n",
       "  <tbody>\n",
       "    <tr>\n",
       "      <th>0</th>\n",
       "      <td>So there is no way for me to plug it in here i...</td>\n",
       "      <td>False</td>\n",
       "    </tr>\n",
       "  </tbody>\n",
       "</table>\n",
       "</div>"
      ],
      "text/plain": [
       "                                              review  positive\n",
       "0  So there is no way for me to plug it in here i...     False"
      ]
     },
     "execution_count": 209,
     "metadata": {},
     "output_type": "execute_result"
    }
   ],
   "source": [
    "az_path = 'C:/Users/willd/Desktop/sentances/amazon_cells_labelled.txt'\n",
    "\n",
    "azprod = pd.read_csv(az_path, delimiter='\\t', header=None)\n",
    "azprod.columns = ['review','positive']\n",
    "azprod['review'] = azprod['review'].str.replace('.', ' ')\n",
    "azprod['positive'] = (azprod['positive'] == 1)\n",
    "azprod.head(1)"
   ]
  },
  {
   "cell_type": "code",
   "execution_count": 210,
   "metadata": {},
   "outputs": [],
   "source": [
    "for key in keywords:\n",
    "    azprod[str(key)] = azprod.review.str.contains(\n",
    "    \"\" + str(key)+\"\", case=False)"
   ]
  },
  {
   "cell_type": "code",
   "execution_count": 211,
   "metadata": {},
   "outputs": [
    {
     "data": {
      "image/png": "[encoded data removed]",
      "text/plain": [
       "<Figure size 864x648 with 2 Axes>"
      ]
     },
     "metadata": {},
     "output_type": "display_data"
    }
   ],
   "source": [
    "plt.figure(figsize=(12,9))\n",
    "sns.heatmap(azprod.corr(), cmap='YlGnBu')\n",
    "plt.show()"
   ]
  },
  {
   "cell_type": "code",
   "execution_count": 212,
   "metadata": {},
   "outputs": [],
   "source": [
    "data = azprod[keywords]\n",
    "target = azprod['positive']"
   ]
  },
  {
   "cell_type": "code",
   "execution_count": 213,
   "metadata": {
    "scrolled": true
   },
   "outputs": [
    {
     "name": "stdout",
     "output_type": "stream",
     "text": [
      "Number of mislabeled points out of a total 1000 points : 222\n"
     ]
    }
   ],
   "source": [
    "bnb.fit(data, target)\n",
    "y_pred = bnb.predict(data)\n",
    "print(\"Number of mislabeled points out of a total {} points : {}\".format(\n",
    "    data.shape[0],(target != y_pred).sum()))"
   ]
  },
  {
   "cell_type": "code",
   "execution_count": 214,
   "metadata": {},
   "outputs": [
    {
     "name": "stdout",
     "output_type": "stream",
     "text": [
      "Accuracy per fold:[0.82  0.795 0.745 0.765 0.76 ]\n",
      "Mean Accuracy and std: 77.70% , 2.69%\n"
     ]
    }
   ],
   "source": [
    "crossv(azprod)"
   ]
  },
  {
   "cell_type": "markdown",
   "metadata": {},
   "source": [
    "For this data, the Bernoulli classifier was the best choice. It out performed the others.\n",
    "Again, this is not surprising as our outcome data was binary.\n",
    "To engineer the features, I thought of words that people use as positive descriptors. Since i knew that we needed to apply the model to other data sets, I included keywords that didn't necessarily only apply to restaurants. Some of the keywords showed slight correlation, but the only concerning correlation was between 'mother' and 'impressed'.\n",
    "Overall, a model that is correct only around 75% is better than no model."
   ]
  },
  {
   "cell_type": "markdown",
   "metadata": {},
   "source": [
    "# Revisit Original Model"
   ]
  },
  {
   "cell_type": "code",
   "execution_count": 216,
   "metadata": {},
   "outputs": [],
   "source": [
    "data_path = 'C:/Users/willd/Desktop/sentances/yelp_labelled.txt'\n",
    "            \n",
    "df = pd.read_csv(data_path, delimiter= '\\t', header=None)\n",
    "df.columns = ['review', 'positive']\n",
    "#remove all punctuation\n",
    "df['review'] = df['review'].str.replace('[^\\s\\w]+', '')"
   ]
  },
  {
   "cell_type": "code",
   "execution_count": 217,
   "metadata": {},
   "outputs": [
    {
     "name": "stdout",
     "output_type": "stream",
     "text": [
      "      review positive  great  love  mother  top  away  amazing  prompt  \\\n",
      "False    NaN      NaN    935   964     999  991   995      976     998   \n",
      "True     NaN      NaN     65    36       1    9     5       24       2   \n",
      "\n",
      "       delicious     ...      perfect  impressed  excellent  fantastic  \\\n",
      "False        976     ...          985        992        990        988   \n",
      "True          24     ...           15          8         10         12   \n",
      "\n",
      "       durable  recommend  brilliant  enjoyed  liked  to die for  \n",
      "False   1000.0        982     1000.0      995    997         998  \n",
      "True       NaN         18        NaN        5      3           2  \n",
      "\n",
      "[2 rows x 36 columns]\n"
     ]
    }
   ],
   "source": [
    "#check instances of features\n",
    "for col in df.loc[:,'great':'to die for']:\n",
    "    df1=pd.DataFrame(columns=df.columns)\n",
    "    for col in df1.loc[:,'great':'to die for']:\n",
    "        df1[col]= df[col].value_counts()\n",
    "print(df1)"
   ]
  },
  {
   "cell_type": "code",
   "execution_count": 218,
   "metadata": {},
   "outputs": [],
   "source": [
    "#using adjested keywords from evaluating errors\n",
    "keywords = ['great', \n",
    "            'love', \n",
    "            'delight',\n",
    "            'top',\n",
    "            'away',\n",
    "            'amazing',\n",
    "            'amazed',\n",
    "            'amazes',\n",
    "            'prompt',\n",
    "            'delicious',\n",
    "            'huge',\n",
    "            'exceeded',\n",
    "            'exceeds',\n",
    "            'glad',\n",
    "            'deal',\n",
    "            'best',\n",
    "            'beautiful',\n",
    "            'wow', \n",
    "            'wonderful',\n",
    "            'good',\n",
    "            'reasonably',\n",
    "            'value',\n",
    "            'works',\n",
    "            'well',\n",
    "            'quickly',\n",
    "            'satisfied',\n",
    "            'fast',\n",
    "            'happy',\n",
    "            'comfort',\n",
    "            'nice',\n",
    "            'pleased',\n",
    "            'perfect',\n",
    "            'impressed',\n",
    "            'excellent',\n",
    "            'fantastic',\n",
    "            'durable',\n",
    "            'recommend',\n",
    "            'brilliant',\n",
    "            'enjoyed',\n",
    "            'liked',\n",
    "            'to die for']\n",
    "\n",
    "#Capture both the word, plus if its in a pattern\n",
    "\n",
    "\n",
    "for key in keywords:\n",
    "    df[str(key)] = df.review.str.contains(\n",
    "        '' + str(key) + '',\n",
    "        case=False\n",
    "    )"
   ]
  },
  {
   "cell_type": "code",
   "execution_count": 219,
   "metadata": {},
   "outputs": [],
   "source": [
    "#turn binary 'positive' to boolean T/F\n",
    "df['positive'] = (df['positive'] == 1)"
   ]
  },
  {
   "cell_type": "code",
   "execution_count": 220,
   "metadata": {
    "scrolled": false
   },
   "outputs": [
    {
     "data": {
      "image/png": "[encoded data removed]",
      "text/plain": [
       "<Figure size 864x648 with 2 Axes>"
      ]
     },
     "metadata": {},
     "output_type": "display_data"
    }
   ],
   "source": [
    "#Creat heatmap for correlation\n",
    "plt.figure(figsize=(12,9))\n",
    "sns.heatmap(df.corr(), cmap='YlGnBu')\n",
    "plt.show()"
   ]
  },
  {
   "cell_type": "code",
   "execution_count": 221,
   "metadata": {},
   "outputs": [],
   "source": [
    "data = df[keywords]\n",
    "target = df['positive']"
   ]
  },
  {
   "cell_type": "code",
   "execution_count": 222,
   "metadata": {},
   "outputs": [
    {
     "name": "stdout",
     "output_type": "stream",
     "text": [
      "Number of mislabeled points out of a total 1000 points : 239\n"
     ]
    }
   ],
   "source": [
    "bnb = BernoulliNB()\n",
    "bnb.fit(data, target)\n",
    "y_pred = bnb.predict(data)\n",
    "\n",
    "print(\"Number of mislabeled points out of a total {} points : {}\".format(\n",
    "    data.shape[0],\n",
    "    (target != y_pred).sum()\n",
    "))"
   ]
  },
  {
   "cell_type": "markdown",
   "metadata": {},
   "source": [
    "# Evaluating the model"
   ]
  },
  {
   "cell_type": "code",
   "execution_count": 223,
   "metadata": {},
   "outputs": [
    {
     "name": "stdout",
     "output_type": "stream",
     "text": [
      "Accuracy of the model:76.1%\n"
     ]
    }
   ],
   "source": [
    "#Success rate\n",
    "srate = 100-(239/1000*100)\n",
    "print('Accuracy of the model:{}%'.format(srate))"
   ]
  },
  {
   "cell_type": "code",
   "execution_count": 224,
   "metadata": {
    "scrolled": true
   },
   "outputs": [
    {
     "name": "stdout",
     "output_type": "stream",
     "text": [
      "[[456  44]\n",
      " [195 305]]\n"
     ]
    },
    {
     "data": {
      "image/png": "[encoded data removed]",
      "text/plain": [
       "<Figure size 432x288 with 2 Axes>"
      ]
     },
     "metadata": {},
     "output_type": "display_data"
    },
    {
     "name": "stdout",
     "output_type": "stream",
     "text": [
      "500\n"
     ]
    }
   ],
   "source": [
    "#Confusion Matrix\n",
    "from sklearn.metrics import confusion_matrix\n",
    "\n",
    "print(confusion_matrix(target, y_pred))\n",
    "\n",
    "g = sns.heatmap(confusion_matrix(target, y_pred), annot=True, fmt='d')\n",
    "plt.title('Confusion Matrix')\n",
    "plt.show()\n",
    "print(len(df.loc[df['positive']==True]))"
   ]
  },
  {
   "cell_type": "markdown",
   "metadata": {},
   "source": [
    "Of 239 the mislabelled points:\n",
    "\n",
    "44 were reviews that the model identified as positive, but were negative. Type 1 error or false positive\n",
    "\n",
    "195 of the reviews were false negatives, in otherwords, the model failed to indentify these as positive reviews"
   ]
  },
  {
   "cell_type": "code",
   "execution_count": 225,
   "metadata": {
    "scrolled": false
   },
   "outputs": [
    {
     "name": "stdout",
     "output_type": "stream",
     "text": [
      "Sensitivity = 61.00%\n",
      "Specificity = 91.20%\n"
     ]
    }
   ],
   "source": [
    "#Sensitivity:\n",
    "sens = (305/500)\n",
    "spef = (456/500)\n",
    "print('Sensitivity = {0:.2f}%'.format(sens*100))\n",
    "print('Specificity = {0:.2f}%'.format(spef*100))"
   ]
  },
  {
   "cell_type": "code",
   "execution_count": 226,
   "metadata": {},
   "outputs": [],
   "source": [
    "#Examine Type I and Type II errors to ameliorate the success rate\n",
    "df['y_pred'] = y_pred\n",
    "errors = df[['review','y_pred','positive']]\n",
    "type1 = errors.loc[(errors['y_pred']==True)&(errors['positive']==False)]\n",
    "type2 = errors.loc[(errors['y_pred']==False)&(errors['positive']==True)]"
   ]
  },
  {
   "cell_type": "code",
   "execution_count": 227,
   "metadata": {
    "scrolled": false
   },
   "outputs": [],
   "source": [
    "#Look at the false positives\n",
    "#type1.head(25)"
   ]
  },
  {
   "cell_type": "markdown",
   "metadata": {},
   "source": [
    "Phrases like \"instead of nice\", \"arent as good\", \"i do love, but\" etc. creates problems for this kinds of model.\n",
    "Any sort of negation to positive sentiment it flagged as positive."
   ]
  },
  {
   "cell_type": "code",
   "execution_count": 228,
   "metadata": {
    "scrolled": false
   },
   "outputs": [],
   "source": [
    "#Take a look at the false positives.\n",
    "#type2.head(25)"
   ]
  },
  {
   "cell_type": "markdown",
   "metadata": {},
   "source": [
    "Examining the false negatives could help in improving the models performance. Some new features can be added based on this case."
   ]
  },
  {
   "cell_type": "markdown",
   "metadata": {},
   "source": [
    "# Cross Validation"
   ]
  },
  {
   "cell_type": "code",
   "execution_count": 229,
   "metadata": {
    "scrolled": true
   },
   "outputs": [
    {
     "name": "stdout",
     "output_type": "stream",
     "text": [
      "Accuracy per fold:[0.77  0.785 0.77  0.615 0.81 ]\n",
      "Mean Accuracy and std: 75.00% , 6.91%\n",
      "None\n"
     ]
    }
   ],
   "source": [
    "#Use crossv()\n",
    "print(crossv(df))\n"
   ]
  },
  {
   "cell_type": "code",
   "execution_count": 230,
   "metadata": {},
   "outputs": [
    {
     "name": "stdout",
     "output_type": "stream",
     "text": [
      "Accuracy per fold:[0.74 0.78 0.71 0.81 0.77 0.71 0.77 0.71 0.75 0.79]\n",
      "Mean Accuracy and std: 75.40% , 3.41%\n"
     ]
    }
   ],
   "source": [
    "#Compare to sklearns built in function\n",
    "from sklearn.model_selection import cross_val_score\n",
    "cv = cross_val_score(bnb, data, target, cv=10)\n",
    "\n",
    "print ('Accuracy per fold:{}'.format(cv.round(2)))\n",
    "print('Mean Accuracy and std: {0:.2f}% , {1:.2f}%'.format((cv.mean()*100),(cv.std()*100)))\n"
   ]
  },
  {
   "cell_type": "code",
   "execution_count": 231,
   "metadata": {},
   "outputs": [
    {
     "name": "stdout",
     "output_type": "stream",
     "text": [
      "Number of mislabeled points out of a total 1000 points : 337\n"
     ]
    }
   ],
   "source": [
    "#Try another distribution\n",
    "from sklearn.naive_bayes import GaussianNB\n",
    "\n",
    "gnb = GaussianNB()\n",
    "gnb.fit(data, target)\n",
    "y_pred = gnb.predict(data)\n",
    "\n",
    "print(\"Number of mislabeled points out of a total {} points : {}\".format(\n",
    "    data.shape[0],\n",
    "    (target != y_pred).sum()\n",
    "))\n"
   ]
  },
  {
   "cell_type": "markdown",
   "metadata": {},
   "source": [
    "# More results"
   ]
  },
  {
   "cell_type": "markdown",
   "metadata": {},
   "source": [
    "## IMDB revisted"
   ]
  },
  {
   "cell_type": "code",
   "execution_count": 232,
   "metadata": {},
   "outputs": [
    {
     "name": "stdout",
     "output_type": "stream",
     "text": [
      "Number of mislabeled points out of a total 748 points : 246\n",
      "Accuracy per fold:[0.68       0.71333333 0.74666667 0.67785235 0.69127517]\n",
      "Mean Accuracy and std: 70.18% , 2.57%\n"
     ]
    }
   ],
   "source": [
    "# Grab and process the raw data.\n",
    "imdb_path = 'C:/Users/willd/Desktop/sentances/imdb_labelled.txt'\n",
    "            \n",
    "imdb = pd.read_csv(imdb_path, delimiter= '\\t', header=None)\n",
    "imdb.columns = ['review', 'positive']\n",
    "imdb['review'] = imdb['review'].str.replace('[^\\w\\s]+', '') #remove all punctuation\n",
    "\n",
    "imdb['positive'] = (imdb['positive'] == 1)\n",
    "\n",
    "for key in keywords:\n",
    "    imdb[str(key)] = imdb.review.str.contains(\n",
    "        '' + str(key) + '',\n",
    "        case=False\n",
    "    )\n",
    "    \n",
    "data = imdb[keywords]\n",
    "target = imdb['positive']\n",
    "\n",
    "bnb.fit(data,target)\n",
    "y_pred = bnb.predict(data)\n",
    "\n",
    "print(\"Number of mislabeled points out of a total {} points : {}\".format(\n",
    "    data.shape[0],(target != y_pred).sum()))\n",
    "\n",
    "crossv(imdb)"
   ]
  },
  {
   "cell_type": "markdown",
   "metadata": {},
   "source": [
    "## Amazon revisited"
   ]
  },
  {
   "cell_type": "code",
   "execution_count": 233,
   "metadata": {},
   "outputs": [
    {
     "name": "stdout",
     "output_type": "stream",
     "text": [
      "Number of mislabeled points out of a total 1000 points : 214\n",
      "Accuracy per fold:[0.82  0.795 0.735 0.775 0.76 ]\n",
      "Mean Accuracy and std: 77.70% , 2.91%\n"
     ]
    }
   ],
   "source": [
    "az_path = 'C:/Users/willd/Desktop/sentances/amazon_cells_labelled.txt'\n",
    "\n",
    "azprod = pd.read_csv(az_path, delimiter='\\t', header=None)\n",
    "azprod.columns = ['review','positive']\n",
    "azprod['review'] = azprod['review'].str.replace('[^\\w\\s]+', '')\n",
    "azprod['positive'] = (azprod['positive'] == 1)\n",
    "for key in keywords:\n",
    "    azprod[str(key)] = azprod.review.str.contains(\n",
    "    \"\" + str(key)+\"\", case=False)\n",
    "data = azprod[keywords]\n",
    "target = azprod['positive']\n",
    "bnb.fit(data, target)\n",
    "y_pred = bnb.predict(data)\n",
    "print(\"Number of mislabeled points out of a total {} points : {}\".format(\n",
    "    data.shape[0],(target != y_pred).sum()))\n",
    "crossv(azprod)"
   ]
  },
  {
   "cell_type": "code",
   "execution_count": null,
   "metadata": {},
   "outputs": [],
   "source": []
  },
  {
   "cell_type": "code",
   "execution_count": 234,
   "metadata": {},
   "outputs": [
    {
     "name": "stdout",
     "output_type": "stream",
     "text": [
      "Number of mislabeled points out of a total 1000 points : 343\n"
     ]
    }
   ],
   "source": [
    "from sklearn.naive_bayes import GaussianNB\n",
    "\n",
    "gnb = GaussianNB()\n",
    "\n",
    "gnb.fit(data, target)\n",
    "\n",
    "y_pred = gnb.predict(data)\n",
    "\n",
    "print(\"Number of mislabeled points out of a total {} points : {}\".format(\n",
    "    data.shape[0],\n",
    "    (target != y_pred).sum()\n",
    "))"
   ]
  },
  {
   "cell_type": "code",
   "execution_count": 235,
   "metadata": {},
   "outputs": [
    {
     "name": "stdout",
     "output_type": "stream",
     "text": [
      "Number of mislabeled points out of a total 1000 points : 297\n"
     ]
    }
   ],
   "source": [
    "#and another\n",
    "from sklearn.naive_bayes import MultinomialNB\n",
    "\n",
    "mnb = MultinomialNB()\n",
    "\n",
    "mnb.fit(data, target)\n",
    "\n",
    "y_pred = mnb.predict(data)\n",
    "\n",
    "print(\"Number of mislabeled points out of a total {} points : {}\".format(\n",
    "    data.shape[0],\n",
    "    (target != y_pred).sum()\n",
    "))"
   ]
  },
  {
   "cell_type": "markdown",
   "metadata": {},
   "source": [
    "Overall, the Bernoulli had the best results, this isnt suprising as the outcome data in binary.  We can apply this model to other data sets with binary outcomes"
   ]
  },
  {
   "cell_type": "code",
   "execution_count": null,
   "metadata": {},
   "outputs": [],
   "source": []
  }
 ],
 "metadata": {
  "kernelspec": {
   "display_name": "Python 3",
   "language": "python",
   "name": "python3"
  },
  "language_info": {
   "codemirror_mode": {
    "name": "ipython",
    "version": 3
   },
   "file_extension": ".py",
   "mimetype": "text/x-python",
   "name": "python",
   "nbconvert_exporter": "python",
   "pygments_lexer": "ipython3",
   "version": "3.6.5"
  }
 },
 "nbformat": 4,
 "nbformat_minor": 2
}
