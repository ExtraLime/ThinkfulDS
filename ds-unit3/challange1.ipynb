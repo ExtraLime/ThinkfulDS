{
 "cells": [
  {
   "cell_type": "code",
   "execution_count": 855,
   "metadata": {},
   "outputs": [],
   "source": [
    "import numpy as np\n",
    "import pandas as pd\n",
    "import matplotlib.pyplot as plt\n",
    "import scipy\n",
    "import seaborn as sns\n",
    "%matplotlib inline\n",
    "import warnings\n",
    "from sklearn.feature_selection import RFECV\n",
    "from sklearn import ensemble\n",
    "from sklearn.ensemble import RandomForestRegressor\n",
    "\n",
    "warnings.filterwarnings(\n",
    "    module='scipy',\n",
    "    action='ignore',\n",
    "    message='Using a'\n",
    "    )"
   ]
  },
  {
   "cell_type": "code",
   "execution_count": 856,
   "metadata": {},
   "outputs": [],
   "source": [
    "raw = pd.read_csv('epi_r.csv')# read data\n",
    "raw = raw.drop(['calories', 'protein', 'fat', 'sodium','title'],1)#drop nulls/non-numeric\n",
    "raw.rating = np.where(raw.rating>4,1,0)#convert rating to binary at 4+\n",
    "raw.columns = raw.columns.str.replace('[^a-zA-Z]', '')#replace space,non-alpha\n",
    "_, i = np.unique(raw.columns, return_index=True)#list unique columns\n",
    "raw = raw.iloc[:, i]#select unique columns"
   ]
  },
  {
   "cell_type": "code",
   "execution_count": 857,
   "metadata": {
    "scrolled": true
   },
   "outputs": [
    {
     "data": {
      "text/plain": [
       "'for col in common[1]:   \\n    pdf = pd.DataFrame()\\n    pdf[\"g_att\"] = plotdf.loc[plotdf[col]==1][col]\\n    pdf[\\'rate\\'] = plotdf.loc[plotdf[col]==1][\\'rating\\']\\n    g = plt.figure(figsize=(9,6))\\n    g = sns.barplot(y=plotdf[col],x=plotdf[\\'rating\\'],palette=\\'Blues_d\\')\\n    plt.title(\\'Rating Distribution, {}\\'.format(col))\\n    plt.show()'"
      ]
     },
     "execution_count": 857,
     "metadata": {},
     "output_type": "execute_result"
    }
   ],
   "source": [
    "cols = []\n",
    "usage = []\n",
    "#append attribute names and the percentage used in the data\n",
    "for col in raw.select_dtypes(include=['float64']):\n",
    "    cols.append(col)\n",
    "    usage.append(raw[col].mean())\n",
    "#pop the 'rating' entry out for plotting purposes'\n",
    "cols.pop(0)\n",
    "usage.pop(0)\n",
    "\n",
    "ingreds = pd.DataFrame(\n",
    "    sorted(zip(map(lambda x: round(x, 4), usage), \n",
    "               cols), reverse=True))\n",
    "ingreds[0] = ingreds[0]*100\n",
    "\n",
    "common = ingreds[ingreds[0]>20]\n",
    "\n",
    "plotdf = raw.copy()\n",
    "plotdf.rating = np.where(plotdf['rating']>4,1,0)\n",
    "'''for col in common[1]:   \n",
    "    pdf = pd.DataFrame()\n",
    "    pdf[\"g_att\"] = plotdf.loc[plotdf[col]==1][col]\n",
    "    pdf['rate'] = plotdf.loc[plotdf[col]==1]['rating']\n",
    "    g = plt.figure(figsize=(9,6))\n",
    "    g = sns.barplot(y=plotdf[col],x=plotdf['rating'],palette='Blues_d')\n",
    "    plt.title('Rating Distribution, {}'.format(col))\n",
    "    plt.show()'''"
   ]
  },
  {
   "cell_type": "code",
   "execution_count": null,
   "metadata": {},
   "outputs": [],
   "source": []
  },
  {
   "cell_type": "code",
   "execution_count": null,
   "metadata": {},
   "outputs": [],
   "source": []
  },
  {
   "cell_type": "code",
   "execution_count": 858,
   "metadata": {
    "scrolled": false
   },
   "outputs": [],
   "source": [
    "#create lists for some attribute examination.\n",
    "#For each, attribute I will find out how often it occurs, what the odds are of it being a '0' recipe, \n",
    "#and of the number of occurances, what it the probabilty that it is a 1.\n",
    "cols = []\n",
    "odds_of_zero = []\n",
    "present = []\n",
    "pct_good = []\n",
    "variance = []\n",
    "\n",
    "\n",
    "#loop to compare the odds of getting rating = 0 vs rating 1\n",
    "for col in raw.loc[:, ~(raw.columns).isin(['rating'])]:\n",
    "    variance.append(raw[col].mean())\n",
    "    odds = raw.loc[raw[col]==1] #locate entries where attribute value is 1\n",
    "    cols.append(col)#append the attribute name\n",
    "    present.append(len(odds.rating))#the occurance of attribute\n",
    "    pct_good.append(odds.rating.mean())#percent good recipes when attribute present\n",
    "    #in the case of zero occurance of good ratings\n",
    "    if odds.rating.sum() == 0:\n",
    "        odds_of_zero.append(100)\n",
    "    # if sum() not 0, calculate odds.\n",
    "    if odds.rating.sum() != 0:\n",
    "        that = len(odds.rating)-odds.rating.sum()\n",
    "        this = odds.rating.sum()\n",
    "        odds_of_zero.append(that/this)\n",
    "\n",
    "corrmat = raw.drop(['rating'],1).corr().abs()#create correlation matrix\n",
    "c = corrmat.unstack().reset_index()"
   ]
  },
  {
   "cell_type": "code",
   "execution_count": 859,
   "metadata": {
    "scrolled": false
   },
   "outputs": [],
   "source": [
    "pdf = pd.DataFrame()\n",
    "pdf['col'] = cols\n",
    "pdf['odds_of_zero'] = odds_of_zero\n",
    "pdf['present'] = present\n",
    "pdf['variance'] = variance\n",
    "pdf['pct_good'] = pct_good"
   ]
  },
  {
   "cell_type": "code",
   "execution_count": 860,
   "metadata": {},
   "outputs": [
    {
     "data": {
      "text/html": [
       "<div>\n",
       "<style scoped>\n",
       "    .dataframe tbody tr th:only-of-type {\n",
       "        vertical-align: middle;\n",
       "    }\n",
       "\n",
       "    .dataframe tbody tr th {\n",
       "        vertical-align: top;\n",
       "    }\n",
       "\n",
       "    .dataframe thead th {\n",
       "        text-align: right;\n",
       "    }\n",
       "</style>\n",
       "<table border=\"1\" class=\"dataframe\">\n",
       "  <thead>\n",
       "    <tr style=\"text-align: right;\">\n",
       "      <th></th>\n",
       "      <th>col</th>\n",
       "      <th>odds_of_zero</th>\n",
       "      <th>present</th>\n",
       "      <th>variance</th>\n",
       "      <th>pct_good</th>\n",
       "    </tr>\n",
       "  </thead>\n",
       "  <tbody>\n",
       "    <tr>\n",
       "      <th>0</th>\n",
       "      <td>advancepreprequired</td>\n",
       "      <td>1.096154</td>\n",
       "      <td>109</td>\n",
       "      <td>0.005436</td>\n",
       "      <td>0.477064</td>\n",
       "    </tr>\n",
       "    <tr>\n",
       "      <th>1</th>\n",
       "      <td>alabama</td>\n",
       "      <td>2.000000</td>\n",
       "      <td>3</td>\n",
       "      <td>0.000150</td>\n",
       "      <td>0.333333</td>\n",
       "    </tr>\n",
       "    <tr>\n",
       "      <th>2</th>\n",
       "      <td>alaska</td>\n",
       "      <td>100.000000</td>\n",
       "      <td>2</td>\n",
       "      <td>0.000100</td>\n",
       "      <td>0.000000</td>\n",
       "    </tr>\n",
       "    <tr>\n",
       "      <th>3</th>\n",
       "      <td>alcoholic</td>\n",
       "      <td>1.849829</td>\n",
       "      <td>835</td>\n",
       "      <td>0.041642</td>\n",
       "      <td>0.350898</td>\n",
       "    </tr>\n",
       "    <tr>\n",
       "      <th>4</th>\n",
       "      <td>almond</td>\n",
       "      <td>0.654391</td>\n",
       "      <td>584</td>\n",
       "      <td>0.029124</td>\n",
       "      <td>0.604452</td>\n",
       "    </tr>\n",
       "  </tbody>\n",
       "</table>\n",
       "</div>"
      ],
      "text/plain": [
       "                   col  odds_of_zero  present  variance  pct_good\n",
       "0  advancepreprequired      1.096154      109  0.005436  0.477064\n",
       "1              alabama      2.000000        3  0.000150  0.333333\n",
       "2               alaska    100.000000        2  0.000100  0.000000\n",
       "3            alcoholic      1.849829      835  0.041642  0.350898\n",
       "4               almond      0.654391      584  0.029124  0.604452"
      ]
     },
     "execution_count": 860,
     "metadata": {},
     "output_type": "execute_result"
    }
   ],
   "source": [
    "pdf.head()"
   ]
  },
  {
   "cell_type": "code",
   "execution_count": 861,
   "metadata": {
    "scrolled": false
   },
   "outputs": [
    {
     "name": "stdout",
     "output_type": "stream",
     "text": [
      "(672, 672)\n"
     ]
    },
    {
     "name": "stderr",
     "output_type": "stream",
     "text": [
      "C:\\Users\\willd\\Anaconda3\\lib\\site-packages\\matplotlib\\axes\\_axes.py:6462: UserWarning: The 'normed' kwarg is deprecated, and has been replaced by the 'density' kwarg.\n",
      "  warnings.warn(\"The 'normed' kwarg is deprecated, and has been \"\n"
     ]
    },
    {
     "data": {
      "image/png": "[encoded data removed]",
      "text/plain": [
       "<Figure size 432x288 with 1 Axes>"
      ]
     },
     "metadata": {},
     "output_type": "display_data"
    },
    {
     "data": {
      "text/html": [
       "<div>\n",
       "<style scoped>\n",
       "    .dataframe tbody tr th:only-of-type {\n",
       "        vertical-align: middle;\n",
       "    }\n",
       "\n",
       "    .dataframe tbody tr th {\n",
       "        vertical-align: top;\n",
       "    }\n",
       "\n",
       "    .dataframe thead th {\n",
       "        text-align: right;\n",
       "    }\n",
       "</style>\n",
       "<table border=\"1\" class=\"dataframe\">\n",
       "  <thead>\n",
       "    <tr style=\"text-align: right;\">\n",
       "      <th></th>\n",
       "      <th>level_0</th>\n",
       "      <th>level_1</th>\n",
       "      <th>0</th>\n",
       "    </tr>\n",
       "  </thead>\n",
       "  <tbody>\n",
       "    <tr>\n",
       "      <th>0</th>\n",
       "      <td>advancepreprequired</td>\n",
       "      <td>advancepreprequired</td>\n",
       "      <td>1.0</td>\n",
       "    </tr>\n",
       "    <tr>\n",
       "      <th>148733</th>\n",
       "      <td>frittata</td>\n",
       "      <td>frittata</td>\n",
       "      <td>1.0</td>\n",
       "    </tr>\n",
       "    <tr>\n",
       "      <th>154117</th>\n",
       "      <td>georgia</td>\n",
       "      <td>georgia</td>\n",
       "      <td>1.0</td>\n",
       "    </tr>\n",
       "    <tr>\n",
       "      <th>153444</th>\n",
       "      <td>garlic</td>\n",
       "      <td>garlic</td>\n",
       "      <td>1.0</td>\n",
       "    </tr>\n",
       "    <tr>\n",
       "      <th>152771</th>\n",
       "      <td>game</td>\n",
       "      <td>game</td>\n",
       "      <td>1.0</td>\n",
       "    </tr>\n",
       "    <tr>\n",
       "      <th>152098</th>\n",
       "      <td>fry</td>\n",
       "      <td>fry</td>\n",
       "      <td>1.0</td>\n",
       "    </tr>\n",
       "    <tr>\n",
       "      <th>151425</th>\n",
       "      <td>fruitjuice</td>\n",
       "      <td>fruitjuice</td>\n",
       "      <td>1.0</td>\n",
       "    </tr>\n",
       "    <tr>\n",
       "      <th>150752</th>\n",
       "      <td>fruit</td>\n",
       "      <td>fruit</td>\n",
       "      <td>1.0</td>\n",
       "    </tr>\n",
       "    <tr>\n",
       "      <th>150079</th>\n",
       "      <td>frozendessert</td>\n",
       "      <td>frozendessert</td>\n",
       "      <td>1.0</td>\n",
       "    </tr>\n",
       "    <tr>\n",
       "      <th>149406</th>\n",
       "      <td>fritter</td>\n",
       "      <td>fritter</td>\n",
       "      <td>1.0</td>\n",
       "    </tr>\n",
       "    <tr>\n",
       "      <th>148060</th>\n",
       "      <td>friendsgiving</td>\n",
       "      <td>friendsgiving</td>\n",
       "      <td>1.0</td>\n",
       "    </tr>\n",
       "    <tr>\n",
       "      <th>225455</th>\n",
       "      <td>losangeles</td>\n",
       "      <td>losangeles</td>\n",
       "      <td>1.0</td>\n",
       "    </tr>\n",
       "    <tr>\n",
       "      <th>147387</th>\n",
       "      <td>freezerfood</td>\n",
       "      <td>freezerfood</td>\n",
       "      <td>1.0</td>\n",
       "    </tr>\n",
       "    <tr>\n",
       "      <th>146714</th>\n",
       "      <td>freezechill</td>\n",
       "      <td>freezechill</td>\n",
       "      <td>1.0</td>\n",
       "    </tr>\n",
       "    <tr>\n",
       "      <th>146041</th>\n",
       "      <td>frankenrecipe</td>\n",
       "      <td>frankenrecipe</td>\n",
       "      <td>1.0</td>\n",
       "    </tr>\n",
       "  </tbody>\n",
       "</table>\n",
       "</div>"
      ],
      "text/plain": [
       "                    level_0              level_1    0\n",
       "0       advancepreprequired  advancepreprequired  1.0\n",
       "148733             frittata             frittata  1.0\n",
       "154117              georgia              georgia  1.0\n",
       "153444               garlic               garlic  1.0\n",
       "152771                 game                 game  1.0\n",
       "152098                  fry                  fry  1.0\n",
       "151425           fruitjuice           fruitjuice  1.0\n",
       "150752                fruit                fruit  1.0\n",
       "150079        frozendessert        frozendessert  1.0\n",
       "149406              fritter              fritter  1.0\n",
       "148060        friendsgiving        friendsgiving  1.0\n",
       "225455           losangeles           losangeles  1.0\n",
       "147387          freezerfood          freezerfood  1.0\n",
       "146714          freezechill          freezechill  1.0\n",
       "146041        frankenrecipe        frankenrecipe  1.0"
      ]
     },
     "execution_count": 861,
     "metadata": {},
     "output_type": "execute_result"
    }
   ],
   "source": [
    "corrmat = raw.drop(['rating'],1).corr().abs()#create correlation matrix\n",
    "print(corrmat.shape)\n",
    "c = corrmat.unstack().reset_index()\n",
    "#take a look at the distribution of the higher correlated pairs.\n",
    "\n",
    "#plot a histogram\n",
    "fig = sns.distplot(c[0],kde=False,bins=50)\n",
    "plt.show()\n",
    "c.sort_values(by=0,ascending=False).head(15)"
   ]
  },
  {
   "cell_type": "code",
   "execution_count": 862,
   "metadata": {
    "scrolled": true
   },
   "outputs": [
    {
     "name": "stderr",
     "output_type": "stream",
     "text": [
      "C:\\Users\\willd\\Anaconda3\\lib\\site-packages\\matplotlib\\axes\\_axes.py:6462: UserWarning: The 'normed' kwarg is deprecated, and has been replaced by the 'density' kwarg.\n",
      "  warnings.warn(\"The 'normed' kwarg is deprecated, and has been \"\n"
     ]
    },
    {
     "data": {
      "image/png": "[encoded data removed]",
      "text/plain": [
       "<Figure size 432x288 with 1 Axes>"
      ]
     },
     "metadata": {},
     "output_type": "display_data"
    }
   ],
   "source": [
    "d = c.loc[(c[0]!=1)&(c[0]>.40)]\n",
    "e = c[c[0] != 1]\n",
    "fig = sns.distplot(e[0],kde=False,bins=50)\n",
    "plt.show()"
   ]
  },
  {
   "cell_type": "code",
   "execution_count": 863,
   "metadata": {},
   "outputs": [],
   "source": [
    "d = d.rename(columns={0:'corr'})\n",
    "e = e.rename(columns={0:'corr'})"
   ]
  },
  {
   "cell_type": "code",
   "execution_count": 864,
   "metadata": {},
   "outputs": [
    {
     "data": {
      "text/html": [
       "<div>\n",
       "<style scoped>\n",
       "    .dataframe tbody tr th:only-of-type {\n",
       "        vertical-align: middle;\n",
       "    }\n",
       "\n",
       "    .dataframe tbody tr th {\n",
       "        vertical-align: top;\n",
       "    }\n",
       "\n",
       "    .dataframe thead th {\n",
       "        text-align: right;\n",
       "    }\n",
       "</style>\n",
       "<table border=\"1\" class=\"dataframe\">\n",
       "  <thead>\n",
       "    <tr style=\"text-align: right;\">\n",
       "      <th></th>\n",
       "      <th>col</th>\n",
       "      <th>odds_of_zero</th>\n",
       "      <th>present</th>\n",
       "      <th>variance</th>\n",
       "      <th>pct_good</th>\n",
       "      <th>n_corrs&gt;.40</th>\n",
       "      <th>avg_corr</th>\n",
       "    </tr>\n",
       "  </thead>\n",
       "  <tbody>\n",
       "    <tr>\n",
       "      <th>0</th>\n",
       "      <td>advancepreprequired</td>\n",
       "      <td>1.096154</td>\n",
       "      <td>109</td>\n",
       "      <td>0.005436</td>\n",
       "      <td>0.477064</td>\n",
       "      <td>6.0</td>\n",
       "      <td>0.550141</td>\n",
       "    </tr>\n",
       "    <tr>\n",
       "      <th>1</th>\n",
       "      <td>alabama</td>\n",
       "      <td>2.000000</td>\n",
       "      <td>3</td>\n",
       "      <td>0.000150</td>\n",
       "      <td>0.333333</td>\n",
       "      <td>1.0</td>\n",
       "      <td>0.499950</td>\n",
       "    </tr>\n",
       "    <tr>\n",
       "      <th>2</th>\n",
       "      <td>alaska</td>\n",
       "      <td>100.000000</td>\n",
       "      <td>2</td>\n",
       "      <td>0.000100</td>\n",
       "      <td>0.000000</td>\n",
       "      <td>1.0</td>\n",
       "      <td>0.591416</td>\n",
       "    </tr>\n",
       "    <tr>\n",
       "      <th>3</th>\n",
       "      <td>alcoholic</td>\n",
       "      <td>1.849829</td>\n",
       "      <td>835</td>\n",
       "      <td>0.041642</td>\n",
       "      <td>0.350898</td>\n",
       "      <td>2.0</td>\n",
       "      <td>0.532399</td>\n",
       "    </tr>\n",
       "    <tr>\n",
       "      <th>4</th>\n",
       "      <td>almond</td>\n",
       "      <td>0.654391</td>\n",
       "      <td>584</td>\n",
       "      <td>0.029124</td>\n",
       "      <td>0.604452</td>\n",
       "      <td>1.0</td>\n",
       "      <td>0.658596</td>\n",
       "    </tr>\n",
       "    <tr>\n",
       "      <th>5</th>\n",
       "      <td>amaretto</td>\n",
       "      <td>0.560000</td>\n",
       "      <td>39</td>\n",
       "      <td>0.001945</td>\n",
       "      <td>0.641026</td>\n",
       "      <td>1.0</td>\n",
       "      <td>0.712295</td>\n",
       "    </tr>\n",
       "    <tr>\n",
       "      <th>6</th>\n",
       "      <td>anchovy</td>\n",
       "      <td>0.800000</td>\n",
       "      <td>45</td>\n",
       "      <td>0.002244</td>\n",
       "      <td>0.555556</td>\n",
       "      <td>1.0</td>\n",
       "      <td>0.712295</td>\n",
       "    </tr>\n",
       "    <tr>\n",
       "      <th>7</th>\n",
       "      <td>anise</td>\n",
       "      <td>1.071429</td>\n",
       "      <td>116</td>\n",
       "      <td>0.005785</td>\n",
       "      <td>0.482759</td>\n",
       "      <td>1.0</td>\n",
       "      <td>0.707089</td>\n",
       "    </tr>\n",
       "    <tr>\n",
       "      <th>8</th>\n",
       "      <td>anniversary</td>\n",
       "      <td>0.761905</td>\n",
       "      <td>111</td>\n",
       "      <td>0.005536</td>\n",
       "      <td>0.567568</td>\n",
       "      <td>1.0</td>\n",
       "      <td>0.707036</td>\n",
       "    </tr>\n",
       "    <tr>\n",
       "      <th>9</th>\n",
       "      <td>anthonybourdain</td>\n",
       "      <td>100.000000</td>\n",
       "      <td>2</td>\n",
       "      <td>0.000100</td>\n",
       "      <td>0.000000</td>\n",
       "      <td>1.0</td>\n",
       "      <td>0.424484</td>\n",
       "    </tr>\n",
       "    <tr>\n",
       "      <th>10</th>\n",
       "      <td>aperitif</td>\n",
       "      <td>11.000000</td>\n",
       "      <td>12</td>\n",
       "      <td>0.000598</td>\n",
       "      <td>0.083333</td>\n",
       "      <td>1.0</td>\n",
       "      <td>0.480036</td>\n",
       "    </tr>\n",
       "    <tr>\n",
       "      <th>11</th>\n",
       "      <td>appetizer</td>\n",
       "      <td>0.798165</td>\n",
       "      <td>1372</td>\n",
       "      <td>0.068422</td>\n",
       "      <td>0.556122</td>\n",
       "      <td>1.0</td>\n",
       "      <td>0.480036</td>\n",
       "    </tr>\n",
       "    <tr>\n",
       "      <th>12</th>\n",
       "      <td>apple</td>\n",
       "      <td>0.780749</td>\n",
       "      <td>666</td>\n",
       "      <td>0.033214</td>\n",
       "      <td>0.561562</td>\n",
       "      <td>2.0</td>\n",
       "      <td>0.541637</td>\n",
       "    </tr>\n",
       "    <tr>\n",
       "      <th>13</th>\n",
       "      <td>applejuice</td>\n",
       "      <td>0.500000</td>\n",
       "      <td>6</td>\n",
       "      <td>0.000299</td>\n",
       "      <td>0.666667</td>\n",
       "      <td>2.0</td>\n",
       "      <td>0.540587</td>\n",
       "    </tr>\n",
       "    <tr>\n",
       "      <th>14</th>\n",
       "      <td>apricot</td>\n",
       "      <td>0.691824</td>\n",
       "      <td>269</td>\n",
       "      <td>0.013415</td>\n",
       "      <td>0.591078</td>\n",
       "      <td>1.0</td>\n",
       "      <td>0.480265</td>\n",
       "    </tr>\n",
       "    <tr>\n",
       "      <th>15</th>\n",
       "      <td>arizona</td>\n",
       "      <td>0.600000</td>\n",
       "      <td>8</td>\n",
       "      <td>0.000399</td>\n",
       "      <td>0.625000</td>\n",
       "      <td>1.0</td>\n",
       "      <td>0.577321</td>\n",
       "    </tr>\n",
       "    <tr>\n",
       "      <th>16</th>\n",
       "      <td>artichoke</td>\n",
       "      <td>1.250000</td>\n",
       "      <td>153</td>\n",
       "      <td>0.007630</td>\n",
       "      <td>0.444444</td>\n",
       "      <td>6.0</td>\n",
       "      <td>0.462426</td>\n",
       "    </tr>\n",
       "    <tr>\n",
       "      <th>17</th>\n",
       "      <td>arugula</td>\n",
       "      <td>0.570621</td>\n",
       "      <td>278</td>\n",
       "      <td>0.013864</td>\n",
       "      <td>0.636691</td>\n",
       "      <td>1.0</td>\n",
       "      <td>0.466043</td>\n",
       "    </tr>\n",
       "    <tr>\n",
       "      <th>18</th>\n",
       "      <td>asianpear</td>\n",
       "      <td>1.857143</td>\n",
       "      <td>20</td>\n",
       "      <td>0.000997</td>\n",
       "      <td>0.350000</td>\n",
       "      <td>1.0</td>\n",
       "      <td>0.408177</td>\n",
       "    </tr>\n",
       "    <tr>\n",
       "      <th>19</th>\n",
       "      <td>asparagus</td>\n",
       "      <td>0.754237</td>\n",
       "      <td>207</td>\n",
       "      <td>0.010323</td>\n",
       "      <td>0.570048</td>\n",
       "      <td>1.0</td>\n",
       "      <td>0.409538</td>\n",
       "    </tr>\n",
       "    <tr>\n",
       "      <th>20</th>\n",
       "      <td>aspen</td>\n",
       "      <td>0.000000</td>\n",
       "      <td>1</td>\n",
       "      <td>0.000050</td>\n",
       "      <td>1.000000</td>\n",
       "      <td>5.0</td>\n",
       "      <td>0.543703</td>\n",
       "    </tr>\n",
       "    <tr>\n",
       "      <th>21</th>\n",
       "      <td>atlanta</td>\n",
       "      <td>0.166667</td>\n",
       "      <td>7</td>\n",
       "      <td>0.000349</td>\n",
       "      <td>0.857143</td>\n",
       "      <td>1.0</td>\n",
       "      <td>0.426306</td>\n",
       "    </tr>\n",
       "    <tr>\n",
       "      <th>22</th>\n",
       "      <td>australia</td>\n",
       "      <td>0.400000</td>\n",
       "      <td>7</td>\n",
       "      <td>0.000349</td>\n",
       "      <td>0.714286</td>\n",
       "      <td>1.0</td>\n",
       "      <td>0.408177</td>\n",
       "    </tr>\n",
       "    <tr>\n",
       "      <th>23</th>\n",
       "      <td>avocado</td>\n",
       "      <td>0.820000</td>\n",
       "      <td>273</td>\n",
       "      <td>0.013615</td>\n",
       "      <td>0.549451</td>\n",
       "      <td>1.0</td>\n",
       "      <td>0.554576</td>\n",
       "    </tr>\n",
       "    <tr>\n",
       "      <th>24</th>\n",
       "      <td>backtoschool</td>\n",
       "      <td>0.787611</td>\n",
       "      <td>202</td>\n",
       "      <td>0.010074</td>\n",
       "      <td>0.559406</td>\n",
       "      <td>1.0</td>\n",
       "      <td>0.516688</td>\n",
       "    </tr>\n",
       "    <tr>\n",
       "      <th>25</th>\n",
       "      <td>backyardbbq</td>\n",
       "      <td>0.555556</td>\n",
       "      <td>938</td>\n",
       "      <td>0.046778</td>\n",
       "      <td>0.642857</td>\n",
       "      <td>1.0</td>\n",
       "      <td>0.591416</td>\n",
       "    </tr>\n",
       "    <tr>\n",
       "      <th>26</th>\n",
       "      <td>bacon</td>\n",
       "      <td>0.681948</td>\n",
       "      <td>587</td>\n",
       "      <td>0.029274</td>\n",
       "      <td>0.594549</td>\n",
       "      <td>3.0</td>\n",
       "      <td>0.424909</td>\n",
       "    </tr>\n",
       "    <tr>\n",
       "      <th>27</th>\n",
       "      <td>bake</td>\n",
       "      <td>0.770156</td>\n",
       "      <td>4413</td>\n",
       "      <td>0.220078</td>\n",
       "      <td>0.564922</td>\n",
       "      <td>1.0</td>\n",
       "      <td>0.658596</td>\n",
       "    </tr>\n",
       "    <tr>\n",
       "      <th>28</th>\n",
       "      <td>banana</td>\n",
       "      <td>1.528571</td>\n",
       "      <td>177</td>\n",
       "      <td>0.008827</td>\n",
       "      <td>0.395480</td>\n",
       "      <td>2.0</td>\n",
       "      <td>0.590537</td>\n",
       "    </tr>\n",
       "    <tr>\n",
       "      <th>29</th>\n",
       "      <td>barley</td>\n",
       "      <td>0.724138</td>\n",
       "      <td>50</td>\n",
       "      <td>0.002494</td>\n",
       "      <td>0.580000</td>\n",
       "      <td>2.0</td>\n",
       "      <td>0.560684</td>\n",
       "    </tr>\n",
       "    <tr>\n",
       "      <th>...</th>\n",
       "      <td>...</td>\n",
       "      <td>...</td>\n",
       "      <td>...</td>\n",
       "      <td>...</td>\n",
       "      <td>...</td>\n",
       "      <td>...</td>\n",
       "      <td>...</td>\n",
       "    </tr>\n",
       "    <tr>\n",
       "      <th>70</th>\n",
       "      <td>brunch</td>\n",
       "      <td>0.803030</td>\n",
       "      <td>833</td>\n",
       "      <td>0.041542</td>\n",
       "      <td>0.554622</td>\n",
       "      <td>1.0</td>\n",
       "      <td>0.780163</td>\n",
       "    </tr>\n",
       "    <tr>\n",
       "      <th>71</th>\n",
       "      <td>brusselsprout</td>\n",
       "      <td>0.473684</td>\n",
       "      <td>56</td>\n",
       "      <td>0.002793</td>\n",
       "      <td>0.678571</td>\n",
       "      <td>1.0</td>\n",
       "      <td>0.780163</td>\n",
       "    </tr>\n",
       "    <tr>\n",
       "      <th>72</th>\n",
       "      <td>buffalo</td>\n",
       "      <td>0.333333</td>\n",
       "      <td>8</td>\n",
       "      <td>0.000399</td>\n",
       "      <td>0.750000</td>\n",
       "      <td>9.0</td>\n",
       "      <td>0.624125</td>\n",
       "    </tr>\n",
       "    <tr>\n",
       "      <th>73</th>\n",
       "      <td>buffet</td>\n",
       "      <td>0.783784</td>\n",
       "      <td>132</td>\n",
       "      <td>0.006583</td>\n",
       "      <td>0.560606</td>\n",
       "      <td>1.0</td>\n",
       "      <td>0.448869</td>\n",
       "    </tr>\n",
       "    <tr>\n",
       "      <th>74</th>\n",
       "      <td>bulgaria</td>\n",
       "      <td>0.000000</td>\n",
       "      <td>1</td>\n",
       "      <td>0.000050</td>\n",
       "      <td>1.000000</td>\n",
       "      <td>1.0</td>\n",
       "      <td>0.542326</td>\n",
       "    </tr>\n",
       "    <tr>\n",
       "      <th>75</th>\n",
       "      <td>bulgur</td>\n",
       "      <td>0.875000</td>\n",
       "      <td>30</td>\n",
       "      <td>0.001496</td>\n",
       "      <td>0.533333</td>\n",
       "      <td>1.0</td>\n",
       "      <td>0.706983</td>\n",
       "    </tr>\n",
       "    <tr>\n",
       "      <th>76</th>\n",
       "      <td>burrito</td>\n",
       "      <td>0.000000</td>\n",
       "      <td>1</td>\n",
       "      <td>0.000050</td>\n",
       "      <td>1.000000</td>\n",
       "      <td>2.0</td>\n",
       "      <td>0.437810</td>\n",
       "    </tr>\n",
       "    <tr>\n",
       "      <th>77</th>\n",
       "      <td>butter</td>\n",
       "      <td>0.857143</td>\n",
       "      <td>195</td>\n",
       "      <td>0.009725</td>\n",
       "      <td>0.538462</td>\n",
       "      <td>1.0</td>\n",
       "      <td>0.425695</td>\n",
       "    </tr>\n",
       "    <tr>\n",
       "      <th>78</th>\n",
       "      <td>buttermilk</td>\n",
       "      <td>0.921053</td>\n",
       "      <td>73</td>\n",
       "      <td>0.003641</td>\n",
       "      <td>0.520548</td>\n",
       "      <td>1.0</td>\n",
       "      <td>0.466043</td>\n",
       "    </tr>\n",
       "    <tr>\n",
       "      <th>79</th>\n",
       "      <td>butternutsquash</td>\n",
       "      <td>0.685185</td>\n",
       "      <td>182</td>\n",
       "      <td>0.009076</td>\n",
       "      <td>0.593407</td>\n",
       "      <td>8.0</td>\n",
       "      <td>0.595588</td>\n",
       "    </tr>\n",
       "    <tr>\n",
       "      <th>80</th>\n",
       "      <td>butterscotchcaramel</td>\n",
       "      <td>1.400000</td>\n",
       "      <td>12</td>\n",
       "      <td>0.000598</td>\n",
       "      <td>0.416667</td>\n",
       "      <td>1.0</td>\n",
       "      <td>0.484213</td>\n",
       "    </tr>\n",
       "    <tr>\n",
       "      <th>81</th>\n",
       "      <td>cabbage</td>\n",
       "      <td>1.379845</td>\n",
       "      <td>307</td>\n",
       "      <td>0.015310</td>\n",
       "      <td>0.420195</td>\n",
       "      <td>4.0</td>\n",
       "      <td>0.612741</td>\n",
       "    </tr>\n",
       "    <tr>\n",
       "      <th>82</th>\n",
       "      <td>cake</td>\n",
       "      <td>0.621622</td>\n",
       "      <td>720</td>\n",
       "      <td>0.035907</td>\n",
       "      <td>0.616667</td>\n",
       "      <td>1.0</td>\n",
       "      <td>0.619926</td>\n",
       "    </tr>\n",
       "    <tr>\n",
       "      <th>83</th>\n",
       "      <td>cakeweek</td>\n",
       "      <td>2.000000</td>\n",
       "      <td>6</td>\n",
       "      <td>0.000299</td>\n",
       "      <td>0.333333</td>\n",
       "      <td>7.0</td>\n",
       "      <td>0.520750</td>\n",
       "    </tr>\n",
       "    <tr>\n",
       "      <th>84</th>\n",
       "      <td>california</td>\n",
       "      <td>0.640449</td>\n",
       "      <td>146</td>\n",
       "      <td>0.007281</td>\n",
       "      <td>0.609589</td>\n",
       "      <td>1.0</td>\n",
       "      <td>0.542326</td>\n",
       "    </tr>\n",
       "    <tr>\n",
       "      <th>85</th>\n",
       "      <td>calvados</td>\n",
       "      <td>0.428571</td>\n",
       "      <td>20</td>\n",
       "      <td>0.000997</td>\n",
       "      <td>0.700000</td>\n",
       "      <td>0.0</td>\n",
       "      <td>0.000000</td>\n",
       "    </tr>\n",
       "    <tr>\n",
       "      <th>86</th>\n",
       "      <td>cambridge</td>\n",
       "      <td>0.000000</td>\n",
       "      <td>4</td>\n",
       "      <td>0.000199</td>\n",
       "      <td>1.000000</td>\n",
       "      <td>0.0</td>\n",
       "      <td>0.000000</td>\n",
       "    </tr>\n",
       "    <tr>\n",
       "      <th>87</th>\n",
       "      <td>campari</td>\n",
       "      <td>2.166667</td>\n",
       "      <td>19</td>\n",
       "      <td>0.000948</td>\n",
       "      <td>0.315789</td>\n",
       "      <td>0.0</td>\n",
       "      <td>0.000000</td>\n",
       "    </tr>\n",
       "    <tr>\n",
       "      <th>88</th>\n",
       "      <td>camping</td>\n",
       "      <td>100.000000</td>\n",
       "      <td>1</td>\n",
       "      <td>0.000050</td>\n",
       "      <td>0.000000</td>\n",
       "      <td>0.0</td>\n",
       "      <td>0.000000</td>\n",
       "    </tr>\n",
       "    <tr>\n",
       "      <th>89</th>\n",
       "      <td>canada</td>\n",
       "      <td>0.500000</td>\n",
       "      <td>9</td>\n",
       "      <td>0.000449</td>\n",
       "      <td>0.666667</td>\n",
       "      <td>0.0</td>\n",
       "      <td>0.000000</td>\n",
       "    </tr>\n",
       "    <tr>\n",
       "      <th>90</th>\n",
       "      <td>candy</td>\n",
       "      <td>1.142857</td>\n",
       "      <td>75</td>\n",
       "      <td>0.003740</td>\n",
       "      <td>0.466667</td>\n",
       "      <td>0.0</td>\n",
       "      <td>0.000000</td>\n",
       "    </tr>\n",
       "    <tr>\n",
       "      <th>91</th>\n",
       "      <td>candythermometer</td>\n",
       "      <td>0.650000</td>\n",
       "      <td>66</td>\n",
       "      <td>0.003291</td>\n",
       "      <td>0.606061</td>\n",
       "      <td>0.0</td>\n",
       "      <td>0.000000</td>\n",
       "    </tr>\n",
       "    <tr>\n",
       "      <th>92</th>\n",
       "      <td>cantaloupe</td>\n",
       "      <td>1.125000</td>\n",
       "      <td>51</td>\n",
       "      <td>0.002543</td>\n",
       "      <td>0.470588</td>\n",
       "      <td>0.0</td>\n",
       "      <td>0.000000</td>\n",
       "    </tr>\n",
       "    <tr>\n",
       "      <th>93</th>\n",
       "      <td>capers</td>\n",
       "      <td>0.697248</td>\n",
       "      <td>185</td>\n",
       "      <td>0.009226</td>\n",
       "      <td>0.589189</td>\n",
       "      <td>0.0</td>\n",
       "      <td>0.000000</td>\n",
       "    </tr>\n",
       "    <tr>\n",
       "      <th>94</th>\n",
       "      <td>caraway</td>\n",
       "      <td>0.812500</td>\n",
       "      <td>29</td>\n",
       "      <td>0.001446</td>\n",
       "      <td>0.551724</td>\n",
       "      <td>0.0</td>\n",
       "      <td>0.000000</td>\n",
       "    </tr>\n",
       "    <tr>\n",
       "      <th>95</th>\n",
       "      <td>cardamom</td>\n",
       "      <td>1.444444</td>\n",
       "      <td>44</td>\n",
       "      <td>0.002194</td>\n",
       "      <td>0.409091</td>\n",
       "      <td>0.0</td>\n",
       "      <td>0.000000</td>\n",
       "    </tr>\n",
       "    <tr>\n",
       "      <th>96</th>\n",
       "      <td>carrot</td>\n",
       "      <td>0.904891</td>\n",
       "      <td>701</td>\n",
       "      <td>0.034959</td>\n",
       "      <td>0.524964</td>\n",
       "      <td>0.0</td>\n",
       "      <td>0.000000</td>\n",
       "    </tr>\n",
       "    <tr>\n",
       "      <th>97</th>\n",
       "      <td>cashew</td>\n",
       "      <td>0.888889</td>\n",
       "      <td>68</td>\n",
       "      <td>0.003391</td>\n",
       "      <td>0.529412</td>\n",
       "      <td>0.0</td>\n",
       "      <td>0.000000</td>\n",
       "    </tr>\n",
       "    <tr>\n",
       "      <th>98</th>\n",
       "      <td>casserolegratin</td>\n",
       "      <td>0.950980</td>\n",
       "      <td>199</td>\n",
       "      <td>0.009924</td>\n",
       "      <td>0.512563</td>\n",
       "      <td>0.0</td>\n",
       "      <td>0.000000</td>\n",
       "    </tr>\n",
       "    <tr>\n",
       "      <th>99</th>\n",
       "      <td>cauliflower</td>\n",
       "      <td>1.222222</td>\n",
       "      <td>120</td>\n",
       "      <td>0.005984</td>\n",
       "      <td>0.450000</td>\n",
       "      <td>0.0</td>\n",
       "      <td>0.000000</td>\n",
       "    </tr>\n",
       "  </tbody>\n",
       "</table>\n",
       "<p>100 rows × 7 columns</p>\n",
       "</div>"
      ],
      "text/plain": [
       "                    col  odds_of_zero  present  variance  pct_good  \\\n",
       "0   advancepreprequired      1.096154      109  0.005436  0.477064   \n",
       "1               alabama      2.000000        3  0.000150  0.333333   \n",
       "2                alaska    100.000000        2  0.000100  0.000000   \n",
       "3             alcoholic      1.849829      835  0.041642  0.350898   \n",
       "4                almond      0.654391      584  0.029124  0.604452   \n",
       "5              amaretto      0.560000       39  0.001945  0.641026   \n",
       "6               anchovy      0.800000       45  0.002244  0.555556   \n",
       "7                 anise      1.071429      116  0.005785  0.482759   \n",
       "8           anniversary      0.761905      111  0.005536  0.567568   \n",
       "9       anthonybourdain    100.000000        2  0.000100  0.000000   \n",
       "10             aperitif     11.000000       12  0.000598  0.083333   \n",
       "11            appetizer      0.798165     1372  0.068422  0.556122   \n",
       "12                apple      0.780749      666  0.033214  0.561562   \n",
       "13           applejuice      0.500000        6  0.000299  0.666667   \n",
       "14              apricot      0.691824      269  0.013415  0.591078   \n",
       "15              arizona      0.600000        8  0.000399  0.625000   \n",
       "16            artichoke      1.250000      153  0.007630  0.444444   \n",
       "17              arugula      0.570621      278  0.013864  0.636691   \n",
       "18            asianpear      1.857143       20  0.000997  0.350000   \n",
       "19            asparagus      0.754237      207  0.010323  0.570048   \n",
       "20                aspen      0.000000        1  0.000050  1.000000   \n",
       "21              atlanta      0.166667        7  0.000349  0.857143   \n",
       "22            australia      0.400000        7  0.000349  0.714286   \n",
       "23              avocado      0.820000      273  0.013615  0.549451   \n",
       "24         backtoschool      0.787611      202  0.010074  0.559406   \n",
       "25          backyardbbq      0.555556      938  0.046778  0.642857   \n",
       "26                bacon      0.681948      587  0.029274  0.594549   \n",
       "27                 bake      0.770156     4413  0.220078  0.564922   \n",
       "28               banana      1.528571      177  0.008827  0.395480   \n",
       "29               barley      0.724138       50  0.002494  0.580000   \n",
       "..                  ...           ...      ...       ...       ...   \n",
       "70               brunch      0.803030      833  0.041542  0.554622   \n",
       "71        brusselsprout      0.473684       56  0.002793  0.678571   \n",
       "72              buffalo      0.333333        8  0.000399  0.750000   \n",
       "73               buffet      0.783784      132  0.006583  0.560606   \n",
       "74             bulgaria      0.000000        1  0.000050  1.000000   \n",
       "75               bulgur      0.875000       30  0.001496  0.533333   \n",
       "76              burrito      0.000000        1  0.000050  1.000000   \n",
       "77               butter      0.857143      195  0.009725  0.538462   \n",
       "78           buttermilk      0.921053       73  0.003641  0.520548   \n",
       "79      butternutsquash      0.685185      182  0.009076  0.593407   \n",
       "80  butterscotchcaramel      1.400000       12  0.000598  0.416667   \n",
       "81              cabbage      1.379845      307  0.015310  0.420195   \n",
       "82                 cake      0.621622      720  0.035907  0.616667   \n",
       "83             cakeweek      2.000000        6  0.000299  0.333333   \n",
       "84           california      0.640449      146  0.007281  0.609589   \n",
       "85             calvados      0.428571       20  0.000997  0.700000   \n",
       "86            cambridge      0.000000        4  0.000199  1.000000   \n",
       "87              campari      2.166667       19  0.000948  0.315789   \n",
       "88              camping    100.000000        1  0.000050  0.000000   \n",
       "89               canada      0.500000        9  0.000449  0.666667   \n",
       "90                candy      1.142857       75  0.003740  0.466667   \n",
       "91     candythermometer      0.650000       66  0.003291  0.606061   \n",
       "92           cantaloupe      1.125000       51  0.002543  0.470588   \n",
       "93               capers      0.697248      185  0.009226  0.589189   \n",
       "94              caraway      0.812500       29  0.001446  0.551724   \n",
       "95             cardamom      1.444444       44  0.002194  0.409091   \n",
       "96               carrot      0.904891      701  0.034959  0.524964   \n",
       "97               cashew      0.888889       68  0.003391  0.529412   \n",
       "98      casserolegratin      0.950980      199  0.009924  0.512563   \n",
       "99          cauliflower      1.222222      120  0.005984  0.450000   \n",
       "\n",
       "    n_corrs>.40  avg_corr  \n",
       "0           6.0  0.550141  \n",
       "1           1.0  0.499950  \n",
       "2           1.0  0.591416  \n",
       "3           2.0  0.532399  \n",
       "4           1.0  0.658596  \n",
       "5           1.0  0.712295  \n",
       "6           1.0  0.712295  \n",
       "7           1.0  0.707089  \n",
       "8           1.0  0.707036  \n",
       "9           1.0  0.424484  \n",
       "10          1.0  0.480036  \n",
       "11          1.0  0.480036  \n",
       "12          2.0  0.541637  \n",
       "13          2.0  0.540587  \n",
       "14          1.0  0.480265  \n",
       "15          1.0  0.577321  \n",
       "16          6.0  0.462426  \n",
       "17          1.0  0.466043  \n",
       "18          1.0  0.408177  \n",
       "19          1.0  0.409538  \n",
       "20          5.0  0.543703  \n",
       "21          1.0  0.426306  \n",
       "22          1.0  0.408177  \n",
       "23          1.0  0.554576  \n",
       "24          1.0  0.516688  \n",
       "25          1.0  0.591416  \n",
       "26          3.0  0.424909  \n",
       "27          1.0  0.658596  \n",
       "28          2.0  0.590537  \n",
       "29          2.0  0.560684  \n",
       "..          ...       ...  \n",
       "70          1.0  0.780163  \n",
       "71          1.0  0.780163  \n",
       "72          9.0  0.624125  \n",
       "73          1.0  0.448869  \n",
       "74          1.0  0.542326  \n",
       "75          1.0  0.706983  \n",
       "76          2.0  0.437810  \n",
       "77          1.0  0.425695  \n",
       "78          1.0  0.466043  \n",
       "79          8.0  0.595588  \n",
       "80          1.0  0.484213  \n",
       "81          4.0  0.612741  \n",
       "82          1.0  0.619926  \n",
       "83          7.0  0.520750  \n",
       "84          1.0  0.542326  \n",
       "85          0.0  0.000000  \n",
       "86          0.0  0.000000  \n",
       "87          0.0  0.000000  \n",
       "88          0.0  0.000000  \n",
       "89          0.0  0.000000  \n",
       "90          0.0  0.000000  \n",
       "91          0.0  0.000000  \n",
       "92          0.0  0.000000  \n",
       "93          0.0  0.000000  \n",
       "94          0.0  0.000000  \n",
       "95          0.0  0.000000  \n",
       "96          0.0  0.000000  \n",
       "97          0.0  0.000000  \n",
       "98          0.0  0.000000  \n",
       "99          0.0  0.000000  \n",
       "\n",
       "[100 rows x 7 columns]"
      ]
     },
     "execution_count": 864,
     "metadata": {},
     "output_type": "execute_result"
    }
   ],
   "source": [
    "corrgroup = d.groupby('level_0')['level_1'].value_counts()\n",
    "pdf['n_corrs>.40'] = corrgroup.groupby('level_0').describe().reset_index()['count']\n",
    "corrgroup = d.groupby('level_0')['level_1'].value_counts()\n",
    "pdf['avg_corr'] = d.groupby('level_0')['corr'].mean().reset_index()['corr']\n",
    "pdf.fillna(0,inplace=True)\n",
    "\n",
    "\n",
    "pdf.head(100)"
   ]
  },
  {
   "cell_type": "code",
   "execution_count": 865,
   "metadata": {},
   "outputs": [
    {
     "name": "stdout",
     "output_type": "stream",
     "text": [
      "                 level_0                                            level_1\n",
      "0              alcoholic  [cocktail, cocktailparty, drink, gin, housegar...\n",
      "1        anthonybourdain                                         [meatloaf]\n",
      "2                atlanta                                          [georgia]\n",
      "3            backyardbbq                             [grill, grillbarbecue]\n",
      "4              bonapptit                                          [gourmet]\n",
      "5              breakfast                                           [brunch]\n",
      "6                 brunch                                        [breakfast]\n",
      "7                 caviar                                      [potatosalad]\n",
      "8                chicago                                         [illinois]\n",
      "9                chicken                                          [poultry]\n",
      "10             christmas                                     [christmaseve]\n",
      "11          christmaseve                                        [christmas]\n",
      "12              cocktail                                 [alcoholic, drink]\n",
      "13         cocktailparty                                 [alcoholic, drink]\n",
      "14              columbus                                             [ohio]\n",
      "15                  cuba                                         [marinade]\n",
      "16             dairyfree  [paleo, peanutfree, soyfree, treenutfree, vega...\n",
      "17                dallas                                            [texas]\n",
      "18                denver                                           [omelet]\n",
      "19               dessert                                   [kidneyfriendly]\n",
      "20                 drink  [alcoholic, cocktail, cocktailparty, gin, nona...\n",
      "21                drinks                                       [icedcoffee]\n",
      "22  epilovesthemicrowave                                          [lasagna]\n",
      "23                france                                            [paris]\n",
      "24         frozendessert                                  [icecreammachine]\n",
      "25               georgia                                          [atlanta]\n",
      "26                   gin                    [alcoholic, drink, housegarden]\n",
      "27               gourmet                                        [bonapptit]\n",
      "28                 grill                       [backyardbbq, grillbarbecue]\n",
      "29         grillbarbecue                               [backyardbbq, grill]\n",
      "..                   ...                                                ...\n",
      "55                  ohio                                         [columbus]\n",
      "56                omelet                                           [denver]\n",
      "57                oregon                                         [portland]\n",
      "58                 paleo                                        [dairyfree]\n",
      "59                 paris                                           [france]\n",
      "60            peanutfree  [dairyfree, kosher, nosugaradded, pescatarian,...\n",
      "61          pennsylvania                                       [pittsburgh]\n",
      "62           pescatarian  [kidneyfriendly, kosher, peanutfree, soyfree, ...\n",
      "63            pittsburgh                                     [pennsylvania]\n",
      "64              portland                                           [oregon]\n",
      "65           potatosalad                                           [caviar]\n",
      "66               poultry                                          [chicken]\n",
      "67                   rub                                         [lasvegas]\n",
      "68               seattle                                       [washington]\n",
      "69                  side                                     [nosugaradded]\n",
      "70                 snack                                        [snackweek]\n",
      "71             snackweek                                            [snack]\n",
      "72               soyfree  [dairyfree, kidneyfriendly, kosher, nosugaradd...\n",
      "73                spirit                                        [alcoholic]\n",
      "74               stirfry                                              [wok]\n",
      "75               stlouis                                         [missouri]\n",
      "76        sugarconscious                        [nosugaradded, treenutfree]\n",
      "77               tequila                                        [margarita]\n",
      "78                 texas                                           [dallas]\n",
      "79           treenutfree  [dairyfree, kosher, nosugaradded, peanutfree, ...\n",
      "80                 vegan                                        [dairyfree]\n",
      "81            vegetarian         [kosher, peanutfree, pescatarian, soyfree]\n",
      "82            washington                                          [seattle]\n",
      "83       wheatglutenfree  [dairyfree, kosher, nosugaradded, peanutfree, ...\n",
      "84                   wok                                          [stirfry]\n",
      "\n",
      "[85 rows x 2 columns]\n",
      "                 level_0  count\n",
      "0              alcoholic    6.0\n",
      "1        anthonybourdain    1.0\n",
      "2                atlanta    1.0\n",
      "3            backyardbbq    2.0\n",
      "4              bonapptit    1.0\n",
      "5              breakfast    1.0\n",
      "6                 brunch    1.0\n",
      "7                 caviar    1.0\n",
      "8                chicago    1.0\n",
      "9                chicken    1.0\n",
      "10             christmas    1.0\n",
      "11          christmaseve    1.0\n",
      "12              cocktail    2.0\n",
      "13         cocktailparty    2.0\n",
      "14              columbus    1.0\n",
      "15                  cuba    1.0\n",
      "16             dairyfree    6.0\n",
      "17                dallas    1.0\n",
      "18                denver    1.0\n",
      "19               dessert    1.0\n",
      "20                 drink    5.0\n",
      "21                drinks    1.0\n",
      "22  epilovesthemicrowave    1.0\n",
      "23                france    1.0\n",
      "24         frozendessert    1.0\n",
      "25               georgia    1.0\n",
      "26                   gin    3.0\n",
      "27               gourmet    1.0\n",
      "28                 grill    2.0\n",
      "29         grillbarbecue    2.0\n",
      "..                   ...    ...\n",
      "55                  ohio    1.0\n",
      "56                omelet    1.0\n",
      "57                oregon    1.0\n",
      "58                 paleo    1.0\n",
      "59                 paris    1.0\n",
      "60            peanutfree    8.0\n",
      "61          pennsylvania    1.0\n",
      "62           pescatarian    7.0\n",
      "63            pittsburgh    1.0\n",
      "64              portland    1.0\n",
      "65           potatosalad    1.0\n",
      "66               poultry    1.0\n",
      "67                   rub    1.0\n",
      "68               seattle    1.0\n",
      "69                  side    1.0\n",
      "70                 snack    1.0\n",
      "71             snackweek    1.0\n",
      "72               soyfree    9.0\n",
      "73                spirit    1.0\n",
      "74               stirfry    1.0\n",
      "75               stlouis    1.0\n",
      "76        sugarconscious    2.0\n",
      "77               tequila    1.0\n",
      "78                 texas    1.0\n",
      "79           treenutfree    8.0\n",
      "80                 vegan    1.0\n",
      "81            vegetarian    4.0\n",
      "82            washington    1.0\n",
      "83       wheatglutenfree    7.0\n",
      "84                   wok    1.0\n",
      "\n",
      "[85 rows x 2 columns]\n"
     ]
    }
   ],
   "source": [
    "x = d.groupby('level_0')['level_1'].unique().reset_index()\n",
    "\n",
    "y = corrgroup.groupby('level_0').describe().reset_index()[['level_0','count']]\n"
   ]
  },
  {
   "cell_type": "code",
   "execution_count": 866,
   "metadata": {},
   "outputs": [],
   "source": [
    "correlates = []\n",
    "above75 = []\n",
    "avgcorr = []\n",
    "#corrmat = raw.corr()"
   ]
  },
  {
   "cell_type": "code",
   "execution_count": 867,
   "metadata": {
    "scrolled": false
   },
   "outputs": [
    {
     "name": "stderr",
     "output_type": "stream",
     "text": [
      "No handles with labels found to put in legend.\n",
      "No handles with labels found to put in legend.\n",
      "No handles with labels found to put in legend.\n",
      "No handles with labels found to put in legend.\n",
      "No handles with labels found to put in legend.\n",
      "No handles with labels found to put in legend.\n"
     ]
    },
    {
     "data": {
      "image/png": "[encoded data removed]",
      "text/plain": [
       "<Figure size 1080x1080 with 42 Axes>"
      ]
     },
     "metadata": {},
     "output_type": "display_data"
    }
   ],
   "source": [
    "#A quick visuaization,\n",
    "sns.set_style('darkgrid')\n",
    "g = sns.PairGrid(pdf, diag_sharey=False)\n",
    "\n",
    "g.map_upper(plt.scatter, alpha=.5)\n",
    "\n",
    "g.map_lower(sns.regplot, scatter_kws=dict(alpha=0))\n",
    "\n",
    "g.map_diag(sns.kdeplot, lw=3)\n",
    "plt.show()"
   ]
  },
  {
   "cell_type": "markdown",
   "metadata": {},
   "source": [
    "The pair plot sheds some light on could be happening in the data.\n",
    "note, that all observations of '100' in 'odds_of_zero' were forced to 0\n",
    "and represent the observation where all of the recipes in which the atribute was prsent had a rating of 0.\n",
    "ie '#observations/0' (good recipes) ~ n/0 = -inf, these cases should be examined more closely. \n",
    "The plots that stand out here are scatter between pct good and odds of zero and the density distribution of pct good.\n",
    "All of points at 100 on the prior correspond the peak at 0 in the latter.\n",
    "The smooth curve between the odds and pct_good shouldnt be a surprise as they are function of the same data.\n",
    "We can make some adjustments and replot the two"
   ]
  },
  {
   "cell_type": "code",
   "execution_count": 868,
   "metadata": {},
   "outputs": [
    {
     "name": "stderr",
     "output_type": "stream",
     "text": [
      "C:\\Users\\willd\\Anaconda3\\lib\\site-packages\\matplotlib\\axes\\_axes.py:6462: UserWarning: The 'normed' kwarg is deprecated, and has been replaced by the 'density' kwarg.\n",
      "  warnings.warn(\"The 'normed' kwarg is deprecated, and has been \"\n"
     ]
    },
    {
     "data": {
      "image/png": "[encoded data removed]",
      "text/plain": [
       "<Figure size 648x432 with 1 Axes>"
      ]
     },
     "metadata": {},
     "output_type": "display_data"
    },
    {
     "data": {
      "text/plain": [
       "<Figure size 648x432 with 0 Axes>"
      ]
     },
     "metadata": {},
     "output_type": "display_data"
    },
    {
     "data": {
      "image/png": "[encoded data removed]",
      "text/plain": [
       "<Figure size 417.75x360 with 1 Axes>"
      ]
     },
     "metadata": {},
     "output_type": "display_data"
    },
    {
     "data": {
      "text/plain": [
       "<seaborn.axisgrid.FacetGrid at 0x26c83f32b00>"
      ]
     },
     "execution_count": 868,
     "metadata": {},
     "output_type": "execute_result"
    },
    {
     "data": {
      "text/plain": [
       "<Figure size 648x432 with 0 Axes>"
      ]
     },
     "metadata": {},
     "output_type": "display_data"
    },
    {
     "data": {
      "image/png": "[encoded data removed]",
      "text/plain": [
       "<Figure size 417.75x360 with 1 Axes>"
      ]
     },
     "metadata": {},
     "output_type": "display_data"
    }
   ],
   "source": [
    "oscat = pdf[pdf.odds_of_zero != 100]\n",
    "\n",
    "g = plt.figure(figsize=(9,6))\n",
    "sns.distplot(pdf['pct_good'],bins=25,kde=False)\n",
    "plt.title(\"Distribution of percent good recipe by att\")\n",
    "plt.show()\n",
    "\n",
    "#this historgram is showing us that are particular attributes that are unique to the respective rating classes \n",
    "\n",
    "g = plt.figure(figsize=(9,6))\n",
    "sns.lmplot(x='odds_of_zero',y='pct_good',hue='n_corrs>.40', data=oscat,fit_reg=False)\n",
    "plt.show()\n",
    "\n",
    "g = plt.figure(figsize=(9,6))\n",
    "sns.lmplot(x='avg_corr',y='pct_good',hue='n_corrs>.40',data=oscat,fit_reg=False)\n",
    "\n",
    "#sns.regplot(x='odds_of_zero',y='pct_good',data=oscat,ax=axes[0, 1]).set_title(\"Pct good vs odds of 0\")\n"
   ]
  },
  {
   "cell_type": "code",
   "execution_count": 869,
   "metadata": {},
   "outputs": [
    {
     "name": "stderr",
     "output_type": "stream",
     "text": [
      "C:\\Users\\willd\\Anaconda3\\lib\\site-packages\\ipykernel_launcher.py:3: SettingWithCopyWarning: \n",
      "A value is trying to be set on a copy of a slice from a DataFrame.\n",
      "Try using .loc[row_indexer,col_indexer] = value instead\n",
      "\n",
      "See the caveats in the documentation: http://pandas.pydata.org/pandas-docs/stable/indexing.html#indexing-view-versus-copy\n",
      "  This is separate from the ipykernel package so we can avoid doing imports until\n"
     ]
    }
   ],
   "source": [
    "wow = oscat['pct_good']\n",
    "wow = [(1 - x) for x in wow]\n",
    "oscat['pct_bad'] = wow"
   ]
  },
  {
   "cell_type": "code",
   "execution_count": 870,
   "metadata": {},
   "outputs": [
    {
     "data": {
      "image/png": "[encoded data removed]",
      "text/plain": [
       "<Figure size 417.75x360 with 1 Axes>"
      ]
     },
     "metadata": {},
     "output_type": "display_data"
    }
   ],
   "source": [
    "\n",
    "g =sns.lmplot(x='odds_of_zero',y='pct_bad',hue='n_corrs>.40', data=oscat,fit_reg=False)\n",
    "plt.title('Pct present in bad recipes vss odd of being bad recipe by n_correlates >.5')\n",
    "\n",
    "\n",
    "plt.show()"
   ]
  },
  {
   "cell_type": "code",
   "execution_count": 871,
   "metadata": {},
   "outputs": [],
   "source": [
    "always_good = pdf[pdf.pct_good==1]\n",
    "always_bad = pdf[pdf.pct_good==0]"
   ]
  },
  {
   "cell_type": "code",
   "execution_count": 1001,
   "metadata": {},
   "outputs": [],
   "source": [
    "extremes = pd.concat([always_good,always_bad])"
   ]
  },
  {
   "cell_type": "code",
   "execution_count": 872,
   "metadata": {},
   "outputs": [
    {
     "name": "stderr",
     "output_type": "stream",
     "text": [
      "C:\\Users\\willd\\Anaconda3\\lib\\site-packages\\matplotlib\\axes\\_axes.py:6462: UserWarning: The 'normed' kwarg is deprecated, and has been replaced by the 'density' kwarg.\n",
      "  warnings.warn(\"The 'normed' kwarg is deprecated, and has been \"\n"
     ]
    },
    {
     "data": {
      "image/png": "[encoded data removed]",
      "text/plain": [
       "<Figure size 648x432 with 1 Axes>"
      ]
     },
     "metadata": {},
     "output_type": "display_data"
    },
    {
     "data": {
      "image/png": "[encoded data removed]",
      "text/plain": [
       "<Figure size 648x432 with 1 Axes>"
      ]
     },
     "metadata": {},
     "output_type": "display_data"
    }
   ],
   "source": [
    "g = plt.figure(figsize=(9,6))\n",
    "sns.distplot(pdf['pct_good'],bins=25,kde=False)\n",
    "plt.title(\"Distribution of percent good recipe by att\")\n",
    "plt.show()\n",
    "\n",
    "plt.figure(figsize=(9,6))\n",
    "plt.hist(always_good.present, alpha=1, label=\"Always good {}\".format(len(always_good.present)))\n",
    "plt.hist(always_bad.present,  alpha=.5, label='Always bad {}'.format(len(always_bad.present)))\n",
    "plt.title(\"Distribution of 0% good and 100% good\")\n",
    "plt.legend(loc='upper right')\n",
    "plt.show()"
   ]
  },
  {
   "cell_type": "markdown",
   "metadata": {},
   "source": [
    "These attribute will be dropped first because 1. they dont show up frequently enough in the data, and the attribute variance is 0 (only one value is present), these attributes have little impact on a model, other add noise."
   ]
  },
  {
   "cell_type": "code",
   "execution_count": 873,
   "metadata": {},
   "outputs": [],
   "source": [
    "pdf = pdf[~pdf['col'].isin(always_good.col)]\n",
    "pdf = pdf[~pdf['col'].isin(always_bad.col)]"
   ]
  },
  {
   "cell_type": "code",
   "execution_count": 874,
   "metadata": {},
   "outputs": [
    {
     "data": {
      "text/plain": [
       "603"
      ]
     },
     "execution_count": 874,
     "metadata": {},
     "output_type": "execute_result"
    }
   ],
   "source": [
    "len(pdf.col)"
   ]
  },
  {
   "cell_type": "code",
   "execution_count": 875,
   "metadata": {
    "scrolled": true
   },
   "outputs": [
    {
     "name": "stderr",
     "output_type": "stream",
     "text": [
      "C:\\Users\\willd\\Anaconda3\\lib\\site-packages\\matplotlib\\axes\\_axes.py:6462: UserWarning: The 'normed' kwarg is deprecated, and has been replaced by the 'density' kwarg.\n",
      "  warnings.warn(\"The 'normed' kwarg is deprecated, and has been \"\n"
     ]
    },
    {
     "data": {
      "image/png": "[encoded data removed]",
      "text/plain": [
       "<Figure size 648x432 with 1 Axes>"
      ]
     },
     "metadata": {},
     "output_type": "display_data"
    }
   ],
   "source": [
    "g = plt.figure(figsize=(9,6))\n",
    "sns.distplot(pdf['pct_good'],bins=25,kde=False)\n",
    "plt.title(\"Distribution of percent good recipe by att\")\n",
    "plt.show()"
   ]
  },
  {
   "cell_type": "code",
   "execution_count": 883,
   "metadata": {},
   "outputs": [
    {
     "data": {
      "text/html": [
       "<div>\n",
       "<style scoped>\n",
       "    .dataframe tbody tr th:only-of-type {\n",
       "        vertical-align: middle;\n",
       "    }\n",
       "\n",
       "    .dataframe tbody tr th {\n",
       "        vertical-align: top;\n",
       "    }\n",
       "\n",
       "    .dataframe thead th {\n",
       "        text-align: right;\n",
       "    }\n",
       "</style>\n",
       "<table border=\"1\" class=\"dataframe\">\n",
       "  <thead>\n",
       "    <tr style=\"text-align: right;\">\n",
       "      <th></th>\n",
       "      <th>col</th>\n",
       "      <th>odds_of_zero</th>\n",
       "      <th>present</th>\n",
       "      <th>variance</th>\n",
       "      <th>pct_good</th>\n",
       "      <th>n_corrs&gt;.40</th>\n",
       "      <th>avg_corr</th>\n",
       "    </tr>\n",
       "  </thead>\n",
       "  <tbody>\n",
       "    <tr>\n",
       "      <th>0</th>\n",
       "      <td>advancepreprequired</td>\n",
       "      <td>1.096154</td>\n",
       "      <td>109</td>\n",
       "      <td>0.005436</td>\n",
       "      <td>0.477064</td>\n",
       "      <td>6.0</td>\n",
       "      <td>0.550141</td>\n",
       "    </tr>\n",
       "    <tr>\n",
       "      <th>1</th>\n",
       "      <td>alabama</td>\n",
       "      <td>2.000000</td>\n",
       "      <td>3</td>\n",
       "      <td>0.000150</td>\n",
       "      <td>0.333333</td>\n",
       "      <td>1.0</td>\n",
       "      <td>0.499950</td>\n",
       "    </tr>\n",
       "    <tr>\n",
       "      <th>3</th>\n",
       "      <td>alcoholic</td>\n",
       "      <td>1.849829</td>\n",
       "      <td>835</td>\n",
       "      <td>0.041642</td>\n",
       "      <td>0.350898</td>\n",
       "      <td>2.0</td>\n",
       "      <td>0.532399</td>\n",
       "    </tr>\n",
       "    <tr>\n",
       "      <th>4</th>\n",
       "      <td>almond</td>\n",
       "      <td>0.654391</td>\n",
       "      <td>584</td>\n",
       "      <td>0.029124</td>\n",
       "      <td>0.604452</td>\n",
       "      <td>1.0</td>\n",
       "      <td>0.658596</td>\n",
       "    </tr>\n",
       "    <tr>\n",
       "      <th>5</th>\n",
       "      <td>amaretto</td>\n",
       "      <td>0.560000</td>\n",
       "      <td>39</td>\n",
       "      <td>0.001945</td>\n",
       "      <td>0.641026</td>\n",
       "      <td>1.0</td>\n",
       "      <td>0.712295</td>\n",
       "    </tr>\n",
       "  </tbody>\n",
       "</table>\n",
       "</div>"
      ],
      "text/plain": [
       "                   col  odds_of_zero  present  variance  pct_good  \\\n",
       "0  advancepreprequired      1.096154      109  0.005436  0.477064   \n",
       "1              alabama      2.000000        3  0.000150  0.333333   \n",
       "3            alcoholic      1.849829      835  0.041642  0.350898   \n",
       "4               almond      0.654391      584  0.029124  0.604452   \n",
       "5             amaretto      0.560000       39  0.001945  0.641026   \n",
       "\n",
       "   n_corrs>.40  avg_corr  \n",
       "0          6.0  0.550141  \n",
       "1          1.0  0.499950  \n",
       "3          2.0  0.532399  \n",
       "4          1.0  0.658596  \n",
       "5          1.0  0.712295  "
      ]
     },
     "execution_count": 883,
     "metadata": {},
     "output_type": "execute_result"
    }
   ],
   "source": [
    "pdf.head()"
   ]
  },
  {
   "cell_type": "code",
   "execution_count": 884,
   "metadata": {},
   "outputs": [],
   "source": [
    "# now that the zero variance attributes are gone, lets look closer at the lower variance attributes\n",
    "good = pdf.loc[((pdf['pct_good']>.80))]\n",
    "bad = pdf.loc[((pdf['pct_good']<.20))]\n",
    "lower_var = pd.concat([good,bad])\n",
    "lower_var_corrmat = raw[lower_var.col].corr()"
   ]
  },
  {
   "cell_type": "code",
   "execution_count": 898,
   "metadata": {},
   "outputs": [
    {
     "data": {
      "image/png": "[encoded data removed]",
      "text/plain": [
       "<Figure size 648x432 with 1 Axes>"
      ]
     },
     "metadata": {},
     "output_type": "display_data"
    }
   ],
   "source": [
    "plt.figure(figsize=(9,6))\n",
    "plt.hist(good.present, alpha=1, label=\"Always good {}\".format(len(good.present)))\n",
    "plt.hist(bad.present,  alpha=.5, label='Always bad {}'.format(len(bad.present)))\n",
    "plt.title(\"Distribution of 0% good and 100% good\")\n",
    "plt.legend(loc='upper right')\n",
    "plt.show()"
   ]
  },
  {
   "cell_type": "code",
   "execution_count": 893,
   "metadata": {},
   "outputs": [
    {
     "data": {
      "text/plain": [
       "<seaborn.axisgrid.FacetGrid at 0x26c85d83240>"
      ]
     },
     "execution_count": 893,
     "metadata": {},
     "output_type": "execute_result"
    },
    {
     "data": {
      "image/png": "[encoded data removed]",
      "text/plain": [
       "<Figure size 417.75x360 with 1 Axes>"
      ]
     },
     "metadata": {},
     "output_type": "display_data"
    }
   ],
   "source": [
    "lower_var.sort_values(by='pct_good',ascending=False)\n",
    "sns.set_palette('mako_r')\n",
    "sns.lmplot(x='present',y='pct_good',hue='n_corrs>.40', data=lower_var,fit_reg=False)\n"
   ]
  },
  {
   "cell_type": "code",
   "execution_count": 918,
   "metadata": {},
   "outputs": [],
   "source": [
    "pdf = pdf[~pdf['col'].isin(lower_var.col)]"
   ]
  },
  {
   "cell_type": "code",
   "execution_count": 919,
   "metadata": {},
   "outputs": [
    {
     "data": {
      "text/plain": [
       "583"
      ]
     },
     "execution_count": 919,
     "metadata": {},
     "output_type": "execute_result"
    }
   ],
   "source": [
    "len(pdf.col)"
   ]
  },
  {
   "cell_type": "code",
   "execution_count": 925,
   "metadata": {},
   "outputs": [
    {
     "name": "stderr",
     "output_type": "stream",
     "text": [
      "C:\\Users\\willd\\Anaconda3\\lib\\site-packages\\matplotlib\\axes\\_axes.py:6462: UserWarning: The 'normed' kwarg is deprecated, and has been replaced by the 'density' kwarg.\n",
      "  warnings.warn(\"The 'normed' kwarg is deprecated, and has been \"\n"
     ]
    },
    {
     "data": {
      "image/png": "[encoded data removed]",
      "text/plain": [
       "<Figure size 648x432 with 1 Axes>"
      ]
     },
     "metadata": {},
     "output_type": "display_data"
    },
    {
     "data": {
      "image/png": "[encoded data removed]",
      "text/plain": [
       "<Figure size 417.75x360 with 1 Axes>"
      ]
     },
     "metadata": {},
     "output_type": "display_data"
    },
    {
     "data": {
      "image/png": "[encoded data removed]",
      "text/plain": [
       "<Figure size 417.75x360 with 1 Axes>"
      ]
     },
     "metadata": {},
     "output_type": "display_data"
    }
   ],
   "source": [
    "g = plt.figure(figsize=(9,6))\n",
    "sns.distplot(pdf['pct_good'],bins=25,kde=False)\n",
    "plt.hist(pdf['odds_of_zero'],bins=25)\n",
    "plt.title(\"Distribution of percent good recipe by att\")\n",
    "plt.show()\n",
    "g =sns.lmplot(x='pct_good',y='odds_of_zero', hue='n_corrs>.40',data=pdf,fit_reg=False)\n",
    "plt.show()\n",
    "g =sns.lmplot(x='present',y='odds_of_zero', hue='n_corrs>.40',data=pdf,fit_reg=False)\n",
    "plt.show()"
   ]
  },
  {
   "cell_type": "code",
   "execution_count": 927,
   "metadata": {},
   "outputs": [
    {
     "name": "stderr",
     "output_type": "stream",
     "text": [
      "C:\\Users\\willd\\Anaconda3\\lib\\site-packages\\matplotlib\\axes\\_axes.py:6462: UserWarning: The 'normed' kwarg is deprecated, and has been replaced by the 'density' kwarg.\n",
      "  warnings.warn(\"The 'normed' kwarg is deprecated, and has been \"\n"
     ]
    },
    {
     "data": {
      "image/png": "[encoded data removed]",
      "text/plain": [
       "<Figure size 432x288 with 1 Axes>"
      ]
     },
     "metadata": {},
     "output_type": "display_data"
    }
   ],
   "source": [
    "sns.distplot(pdf.odds_of_zero)\n",
    "plt.show()"
   ]
  },
  {
   "cell_type": "code",
   "execution_count": 932,
   "metadata": {},
   "outputs": [
    {
     "name": "stderr",
     "output_type": "stream",
     "text": [
      "C:\\Users\\willd\\Anaconda3\\lib\\site-packages\\matplotlib\\axes\\_axes.py:6462: UserWarning: The 'normed' kwarg is deprecated, and has been replaced by the 'density' kwarg.\n",
      "  warnings.warn(\"The 'normed' kwarg is deprecated, and has been \"\n"
     ]
    },
    {
     "data": {
      "image/png": "[encoded data removed]",
      "text/plain": [
       "<Figure size 432x288 with 1 Axes>"
      ]
     },
     "metadata": {},
     "output_type": "display_data"
    }
   ],
   "source": [
    "sns.distplot(np.log(pdf.odds_of_zero),kde=False)\n",
    "plt.show()"
   ]
  },
  {
   "cell_type": "code",
   "execution_count": 935,
   "metadata": {},
   "outputs": [
    {
     "data": {
      "text/html": [
       "<div>\n",
       "<style scoped>\n",
       "    .dataframe tbody tr th:only-of-type {\n",
       "        vertical-align: middle;\n",
       "    }\n",
       "\n",
       "    .dataframe tbody tr th {\n",
       "        vertical-align: top;\n",
       "    }\n",
       "\n",
       "    .dataframe thead th {\n",
       "        text-align: right;\n",
       "    }\n",
       "</style>\n",
       "<table border=\"1\" class=\"dataframe\">\n",
       "  <thead>\n",
       "    <tr style=\"text-align: right;\">\n",
       "      <th></th>\n",
       "      <th>col</th>\n",
       "      <th>odds_of_zero</th>\n",
       "      <th>present</th>\n",
       "      <th>variance</th>\n",
       "      <th>pct_good</th>\n",
       "      <th>n_corrs&gt;.40</th>\n",
       "      <th>avg_corr</th>\n",
       "      <th>log_odds</th>\n",
       "    </tr>\n",
       "  </thead>\n",
       "  <tbody>\n",
       "    <tr>\n",
       "      <th>3</th>\n",
       "      <td>alcoholic</td>\n",
       "      <td>1.849829</td>\n",
       "      <td>835</td>\n",
       "      <td>0.041642</td>\n",
       "      <td>0.350898</td>\n",
       "      <td>2.0</td>\n",
       "      <td>0.532399</td>\n",
       "      <td>0.615093</td>\n",
       "    </tr>\n",
       "    <tr>\n",
       "      <th>4</th>\n",
       "      <td>almond</td>\n",
       "      <td>0.654391</td>\n",
       "      <td>584</td>\n",
       "      <td>0.029124</td>\n",
       "      <td>0.604452</td>\n",
       "      <td>1.0</td>\n",
       "      <td>0.658596</td>\n",
       "      <td>-0.424050</td>\n",
       "    </tr>\n",
       "    <tr>\n",
       "      <th>11</th>\n",
       "      <td>appetizer</td>\n",
       "      <td>0.798165</td>\n",
       "      <td>1372</td>\n",
       "      <td>0.068422</td>\n",
       "      <td>0.556122</td>\n",
       "      <td>1.0</td>\n",
       "      <td>0.480036</td>\n",
       "      <td>-0.225440</td>\n",
       "    </tr>\n",
       "    <tr>\n",
       "      <th>12</th>\n",
       "      <td>apple</td>\n",
       "      <td>0.780749</td>\n",
       "      <td>666</td>\n",
       "      <td>0.033214</td>\n",
       "      <td>0.561562</td>\n",
       "      <td>2.0</td>\n",
       "      <td>0.541637</td>\n",
       "      <td>-0.247502</td>\n",
       "    </tr>\n",
       "    <tr>\n",
       "      <th>14</th>\n",
       "      <td>apricot</td>\n",
       "      <td>0.691824</td>\n",
       "      <td>269</td>\n",
       "      <td>0.013415</td>\n",
       "      <td>0.591078</td>\n",
       "      <td>1.0</td>\n",
       "      <td>0.480265</td>\n",
       "      <td>-0.368424</td>\n",
       "    </tr>\n",
       "    <tr>\n",
       "      <th>17</th>\n",
       "      <td>arugula</td>\n",
       "      <td>0.570621</td>\n",
       "      <td>278</td>\n",
       "      <td>0.013864</td>\n",
       "      <td>0.636691</td>\n",
       "      <td>1.0</td>\n",
       "      <td>0.466043</td>\n",
       "      <td>-0.561029</td>\n",
       "    </tr>\n",
       "    <tr>\n",
       "      <th>19</th>\n",
       "      <td>asparagus</td>\n",
       "      <td>0.754237</td>\n",
       "      <td>207</td>\n",
       "      <td>0.010323</td>\n",
       "      <td>0.570048</td>\n",
       "      <td>1.0</td>\n",
       "      <td>0.409538</td>\n",
       "      <td>-0.282048</td>\n",
       "    </tr>\n",
       "    <tr>\n",
       "      <th>23</th>\n",
       "      <td>avocado</td>\n",
       "      <td>0.820000</td>\n",
       "      <td>273</td>\n",
       "      <td>0.013615</td>\n",
       "      <td>0.549451</td>\n",
       "      <td>1.0</td>\n",
       "      <td>0.554576</td>\n",
       "      <td>-0.198451</td>\n",
       "    </tr>\n",
       "    <tr>\n",
       "      <th>24</th>\n",
       "      <td>backtoschool</td>\n",
       "      <td>0.787611</td>\n",
       "      <td>202</td>\n",
       "      <td>0.010074</td>\n",
       "      <td>0.559406</td>\n",
       "      <td>1.0</td>\n",
       "      <td>0.516688</td>\n",
       "      <td>-0.238751</td>\n",
       "    </tr>\n",
       "    <tr>\n",
       "      <th>25</th>\n",
       "      <td>backyardbbq</td>\n",
       "      <td>0.555556</td>\n",
       "      <td>938</td>\n",
       "      <td>0.046778</td>\n",
       "      <td>0.642857</td>\n",
       "      <td>1.0</td>\n",
       "      <td>0.591416</td>\n",
       "      <td>-0.587787</td>\n",
       "    </tr>\n",
       "    <tr>\n",
       "      <th>26</th>\n",
       "      <td>bacon</td>\n",
       "      <td>0.681948</td>\n",
       "      <td>587</td>\n",
       "      <td>0.029274</td>\n",
       "      <td>0.594549</td>\n",
       "      <td>3.0</td>\n",
       "      <td>0.424909</td>\n",
       "      <td>-0.382801</td>\n",
       "    </tr>\n",
       "    <tr>\n",
       "      <th>27</th>\n",
       "      <td>bake</td>\n",
       "      <td>0.770156</td>\n",
       "      <td>4413</td>\n",
       "      <td>0.220078</td>\n",
       "      <td>0.564922</td>\n",
       "      <td>1.0</td>\n",
       "      <td>0.658596</td>\n",
       "      <td>-0.261162</td>\n",
       "    </tr>\n",
       "    <tr>\n",
       "      <th>30</th>\n",
       "      <td>basil</td>\n",
       "      <td>0.834416</td>\n",
       "      <td>565</td>\n",
       "      <td>0.028177</td>\n",
       "      <td>0.545133</td>\n",
       "      <td>1.0</td>\n",
       "      <td>0.408197</td>\n",
       "      <td>-0.181024</td>\n",
       "    </tr>\n",
       "    <tr>\n",
       "      <th>33</th>\n",
       "      <td>bean</td>\n",
       "      <td>0.910596</td>\n",
       "      <td>577</td>\n",
       "      <td>0.028775</td>\n",
       "      <td>0.523397</td>\n",
       "      <td>1.0</td>\n",
       "      <td>0.516688</td>\n",
       "      <td>-0.093656</td>\n",
       "    </tr>\n",
       "    <tr>\n",
       "      <th>34</th>\n",
       "      <td>beef</td>\n",
       "      <td>0.686071</td>\n",
       "      <td>811</td>\n",
       "      <td>0.040445</td>\n",
       "      <td>0.593095</td>\n",
       "      <td>1.0</td>\n",
       "      <td>0.426306</td>\n",
       "      <td>-0.376775</td>\n",
       "    </tr>\n",
       "    <tr>\n",
       "      <th>39</th>\n",
       "      <td>beet</td>\n",
       "      <td>0.707317</td>\n",
       "      <td>210</td>\n",
       "      <td>0.010473</td>\n",
       "      <td>0.585714</td>\n",
       "      <td>2.0</td>\n",
       "      <td>0.603526</td>\n",
       "      <td>-0.346276</td>\n",
       "    </tr>\n",
       "    <tr>\n",
       "      <th>40</th>\n",
       "      <td>bellpepper</td>\n",
       "      <td>0.981912</td>\n",
       "      <td>767</td>\n",
       "      <td>0.038251</td>\n",
       "      <td>0.504563</td>\n",
       "      <td>7.0</td>\n",
       "      <td>0.649574</td>\n",
       "      <td>-0.018253</td>\n",
       "    </tr>\n",
       "    <tr>\n",
       "      <th>41</th>\n",
       "      <td>berry</td>\n",
       "      <td>0.614583</td>\n",
       "      <td>465</td>\n",
       "      <td>0.023190</td>\n",
       "      <td>0.619355</td>\n",
       "      <td>1.0</td>\n",
       "      <td>0.408177</td>\n",
       "      <td>-0.486811</td>\n",
       "    </tr>\n",
       "    <tr>\n",
       "      <th>47</th>\n",
       "      <td>blender</td>\n",
       "      <td>0.937304</td>\n",
       "      <td>618</td>\n",
       "      <td>0.030820</td>\n",
       "      <td>0.516181</td>\n",
       "      <td>1.0</td>\n",
       "      <td>0.499950</td>\n",
       "      <td>-0.064748</td>\n",
       "    </tr>\n",
       "    <tr>\n",
       "      <th>49</th>\n",
       "      <td>bluecheese</td>\n",
       "      <td>0.643357</td>\n",
       "      <td>235</td>\n",
       "      <td>0.011720</td>\n",
       "      <td>0.608511</td>\n",
       "      <td>1.0</td>\n",
       "      <td>0.426306</td>\n",
       "      <td>-0.441056</td>\n",
       "    </tr>\n",
       "    <tr>\n",
       "      <th>50</th>\n",
       "      <td>boil</td>\n",
       "      <td>0.787149</td>\n",
       "      <td>445</td>\n",
       "      <td>0.022192</td>\n",
       "      <td>0.559551</td>\n",
       "      <td>1.0</td>\n",
       "      <td>0.426306</td>\n",
       "      <td>-0.239338</td>\n",
       "    </tr>\n",
       "    <tr>\n",
       "      <th>52</th>\n",
       "      <td>bonapptit</td>\n",
       "      <td>0.702767</td>\n",
       "      <td>9355</td>\n",
       "      <td>0.466537</td>\n",
       "      <td>0.587280</td>\n",
       "      <td>2.0</td>\n",
       "      <td>0.707080</td>\n",
       "      <td>-0.352730</td>\n",
       "    </tr>\n",
       "    <tr>\n",
       "      <th>55</th>\n",
       "      <td>braise</td>\n",
       "      <td>0.563981</td>\n",
       "      <td>330</td>\n",
       "      <td>0.016457</td>\n",
       "      <td>0.639394</td>\n",
       "      <td>1.0</td>\n",
       "      <td>0.480265</td>\n",
       "      <td>-0.572735</td>\n",
       "    </tr>\n",
       "    <tr>\n",
       "      <th>57</th>\n",
       "      <td>brandy</td>\n",
       "      <td>1.125984</td>\n",
       "      <td>270</td>\n",
       "      <td>0.013465</td>\n",
       "      <td>0.470370</td>\n",
       "      <td>1.0</td>\n",
       "      <td>0.829149</td>\n",
       "      <td>0.118658</td>\n",
       "    </tr>\n",
       "    <tr>\n",
       "      <th>58</th>\n",
       "      <td>bread</td>\n",
       "      <td>1.227679</td>\n",
       "      <td>499</td>\n",
       "      <td>0.024885</td>\n",
       "      <td>0.448898</td>\n",
       "      <td>1.0</td>\n",
       "      <td>0.453105</td>\n",
       "      <td>0.205125</td>\n",
       "    </tr>\n",
       "    <tr>\n",
       "      <th>60</th>\n",
       "      <td>breakfast</td>\n",
       "      <td>0.863874</td>\n",
       "      <td>712</td>\n",
       "      <td>0.035508</td>\n",
       "      <td>0.536517</td>\n",
       "      <td>8.0</td>\n",
       "      <td>0.661693</td>\n",
       "      <td>-0.146328</td>\n",
       "    </tr>\n",
       "    <tr>\n",
       "      <th>66</th>\n",
       "      <td>broil</td>\n",
       "      <td>0.692042</td>\n",
       "      <td>489</td>\n",
       "      <td>0.024387</td>\n",
       "      <td>0.591002</td>\n",
       "      <td>1.0</td>\n",
       "      <td>0.424484</td>\n",
       "      <td>-0.368109</td>\n",
       "    </tr>\n",
       "    <tr>\n",
       "      <th>70</th>\n",
       "      <td>brunch</td>\n",
       "      <td>0.803030</td>\n",
       "      <td>833</td>\n",
       "      <td>0.041542</td>\n",
       "      <td>0.554622</td>\n",
       "      <td>1.0</td>\n",
       "      <td>0.780163</td>\n",
       "      <td>-0.219363</td>\n",
       "    </tr>\n",
       "    <tr>\n",
       "      <th>81</th>\n",
       "      <td>cabbage</td>\n",
       "      <td>1.379845</td>\n",
       "      <td>307</td>\n",
       "      <td>0.015310</td>\n",
       "      <td>0.420195</td>\n",
       "      <td>4.0</td>\n",
       "      <td>0.612741</td>\n",
       "      <td>0.321971</td>\n",
       "    </tr>\n",
       "    <tr>\n",
       "      <th>82</th>\n",
       "      <td>cake</td>\n",
       "      <td>0.621622</td>\n",
       "      <td>720</td>\n",
       "      <td>0.035907</td>\n",
       "      <td>0.616667</td>\n",
       "      <td>1.0</td>\n",
       "      <td>0.619926</td>\n",
       "      <td>-0.475424</td>\n",
       "    </tr>\n",
       "    <tr>\n",
       "      <th>...</th>\n",
       "      <td>...</td>\n",
       "      <td>...</td>\n",
       "      <td>...</td>\n",
       "      <td>...</td>\n",
       "      <td>...</td>\n",
       "      <td>...</td>\n",
       "      <td>...</td>\n",
       "      <td>...</td>\n",
       "    </tr>\n",
       "    <tr>\n",
       "      <th>579</th>\n",
       "      <td>spice</td>\n",
       "      <td>0.818182</td>\n",
       "      <td>680</td>\n",
       "      <td>0.033912</td>\n",
       "      <td>0.550000</td>\n",
       "      <td>0.0</td>\n",
       "      <td>0.000000</td>\n",
       "      <td>-0.200671</td>\n",
       "    </tr>\n",
       "    <tr>\n",
       "      <th>580</th>\n",
       "      <td>spinach</td>\n",
       "      <td>0.923469</td>\n",
       "      <td>377</td>\n",
       "      <td>0.018801</td>\n",
       "      <td>0.519894</td>\n",
       "      <td>0.0</td>\n",
       "      <td>0.000000</td>\n",
       "      <td>-0.079618</td>\n",
       "    </tr>\n",
       "    <tr>\n",
       "      <th>581</th>\n",
       "      <td>spirit</td>\n",
       "      <td>2.775862</td>\n",
       "      <td>219</td>\n",
       "      <td>0.010922</td>\n",
       "      <td>0.264840</td>\n",
       "      <td>0.0</td>\n",
       "      <td>0.000000</td>\n",
       "      <td>1.020961</td>\n",
       "    </tr>\n",
       "    <tr>\n",
       "      <th>582</th>\n",
       "      <td>spring</td>\n",
       "      <td>0.888767</td>\n",
       "      <td>1715</td>\n",
       "      <td>0.085528</td>\n",
       "      <td>0.529446</td>\n",
       "      <td>0.0</td>\n",
       "      <td>0.000000</td>\n",
       "      <td>-0.117921</td>\n",
       "    </tr>\n",
       "    <tr>\n",
       "      <th>586</th>\n",
       "      <td>steak</td>\n",
       "      <td>0.500000</td>\n",
       "      <td>243</td>\n",
       "      <td>0.012118</td>\n",
       "      <td>0.666667</td>\n",
       "      <td>0.0</td>\n",
       "      <td>0.000000</td>\n",
       "      <td>-0.693147</td>\n",
       "    </tr>\n",
       "    <tr>\n",
       "      <th>587</th>\n",
       "      <td>steam</td>\n",
       "      <td>0.844262</td>\n",
       "      <td>225</td>\n",
       "      <td>0.011221</td>\n",
       "      <td>0.542222</td>\n",
       "      <td>0.0</td>\n",
       "      <td>0.000000</td>\n",
       "      <td>-0.169292</td>\n",
       "    </tr>\n",
       "    <tr>\n",
       "      <th>589</th>\n",
       "      <td>stirfry</td>\n",
       "      <td>1.802469</td>\n",
       "      <td>227</td>\n",
       "      <td>0.011321</td>\n",
       "      <td>0.356828</td>\n",
       "      <td>0.0</td>\n",
       "      <td>0.000000</td>\n",
       "      <td>0.589157</td>\n",
       "    </tr>\n",
       "    <tr>\n",
       "      <th>593</th>\n",
       "      <td>strawberry</td>\n",
       "      <td>0.740113</td>\n",
       "      <td>308</td>\n",
       "      <td>0.015360</td>\n",
       "      <td>0.574675</td>\n",
       "      <td>0.0</td>\n",
       "      <td>0.000000</td>\n",
       "      <td>-0.300952</td>\n",
       "    </tr>\n",
       "    <tr>\n",
       "      <th>595</th>\n",
       "      <td>sugarconscious</td>\n",
       "      <td>0.793455</td>\n",
       "      <td>2466</td>\n",
       "      <td>0.122980</td>\n",
       "      <td>0.557583</td>\n",
       "      <td>0.0</td>\n",
       "      <td>0.000000</td>\n",
       "      <td>-0.231359</td>\n",
       "    </tr>\n",
       "    <tr>\n",
       "      <th>598</th>\n",
       "      <td>summer</td>\n",
       "      <td>0.814248</td>\n",
       "      <td>4151</td>\n",
       "      <td>0.207012</td>\n",
       "      <td>0.551192</td>\n",
       "      <td>0.0</td>\n",
       "      <td>0.000000</td>\n",
       "      <td>-0.205490</td>\n",
       "    </tr>\n",
       "    <tr>\n",
       "      <th>599</th>\n",
       "      <td>superbowl</td>\n",
       "      <td>0.757062</td>\n",
       "      <td>311</td>\n",
       "      <td>0.015510</td>\n",
       "      <td>0.569132</td>\n",
       "      <td>0.0</td>\n",
       "      <td>0.000000</td>\n",
       "      <td>-0.278310</td>\n",
       "    </tr>\n",
       "    <tr>\n",
       "      <th>601</th>\n",
       "      <td>sweetpotatoyam</td>\n",
       "      <td>0.597765</td>\n",
       "      <td>286</td>\n",
       "      <td>0.014263</td>\n",
       "      <td>0.625874</td>\n",
       "      <td>0.0</td>\n",
       "      <td>0.000000</td>\n",
       "      <td>-0.514557</td>\n",
       "    </tr>\n",
       "    <tr>\n",
       "      <th>610</th>\n",
       "      <td>tarragon</td>\n",
       "      <td>1.086957</td>\n",
       "      <td>240</td>\n",
       "      <td>0.011969</td>\n",
       "      <td>0.479167</td>\n",
       "      <td>0.0</td>\n",
       "      <td>0.000000</td>\n",
       "      <td>0.083382</td>\n",
       "    </tr>\n",
       "    <tr>\n",
       "      <th>617</th>\n",
       "      <td>thanksgiving</td>\n",
       "      <td>0.526702</td>\n",
       "      <td>1458</td>\n",
       "      <td>0.072711</td>\n",
       "      <td>0.655007</td>\n",
       "      <td>0.0</td>\n",
       "      <td>0.000000</td>\n",
       "      <td>-0.641121</td>\n",
       "    </tr>\n",
       "    <tr>\n",
       "      <th>618</th>\n",
       "      <td>thyme</td>\n",
       "      <td>0.681818</td>\n",
       "      <td>333</td>\n",
       "      <td>0.016607</td>\n",
       "      <td>0.594595</td>\n",
       "      <td>0.0</td>\n",
       "      <td>0.000000</td>\n",
       "      <td>-0.382992</td>\n",
       "    </tr>\n",
       "    <tr>\n",
       "      <th>622</th>\n",
       "      <td>tomato</td>\n",
       "      <td>0.805907</td>\n",
       "      <td>2140</td>\n",
       "      <td>0.106723</td>\n",
       "      <td>0.553738</td>\n",
       "      <td>0.0</td>\n",
       "      <td>0.000000</td>\n",
       "      <td>-0.215787</td>\n",
       "    </tr>\n",
       "    <tr>\n",
       "      <th>625</th>\n",
       "      <td>treenutfree</td>\n",
       "      <td>0.760560</td>\n",
       "      <td>7044</td>\n",
       "      <td>0.351287</td>\n",
       "      <td>0.568001</td>\n",
       "      <td>0.0</td>\n",
       "      <td>0.000000</td>\n",
       "      <td>-0.273700</td>\n",
       "    </tr>\n",
       "    <tr>\n",
       "      <th>630</th>\n",
       "      <td>turkey</td>\n",
       "      <td>0.551020</td>\n",
       "      <td>456</td>\n",
       "      <td>0.022741</td>\n",
       "      <td>0.644737</td>\n",
       "      <td>0.0</td>\n",
       "      <td>0.000000</td>\n",
       "      <td>-0.595983</td>\n",
       "    </tr>\n",
       "    <tr>\n",
       "      <th>633</th>\n",
       "      <td>valentinesday</td>\n",
       "      <td>0.553333</td>\n",
       "      <td>233</td>\n",
       "      <td>0.011620</td>\n",
       "      <td>0.643777</td>\n",
       "      <td>0.0</td>\n",
       "      <td>0.000000</td>\n",
       "      <td>-0.591795</td>\n",
       "    </tr>\n",
       "    <tr>\n",
       "      <th>634</th>\n",
       "      <td>vanilla</td>\n",
       "      <td>0.791946</td>\n",
       "      <td>267</td>\n",
       "      <td>0.013315</td>\n",
       "      <td>0.558052</td>\n",
       "      <td>0.0</td>\n",
       "      <td>0.000000</td>\n",
       "      <td>-0.233262</td>\n",
       "    </tr>\n",
       "    <tr>\n",
       "      <th>636</th>\n",
       "      <td>vegan</td>\n",
       "      <td>1.110604</td>\n",
       "      <td>1851</td>\n",
       "      <td>0.092310</td>\n",
       "      <td>0.473798</td>\n",
       "      <td>0.0</td>\n",
       "      <td>0.000000</td>\n",
       "      <td>0.104904</td>\n",
       "    </tr>\n",
       "    <tr>\n",
       "      <th>637</th>\n",
       "      <td>vegetable</td>\n",
       "      <td>1.024248</td>\n",
       "      <td>2087</td>\n",
       "      <td>0.104079</td>\n",
       "      <td>0.494011</td>\n",
       "      <td>0.0</td>\n",
       "      <td>0.000000</td>\n",
       "      <td>0.023959</td>\n",
       "    </tr>\n",
       "    <tr>\n",
       "      <th>638</th>\n",
       "      <td>vegetarian</td>\n",
       "      <td>0.883356</td>\n",
       "      <td>6846</td>\n",
       "      <td>0.341412</td>\n",
       "      <td>0.530967</td>\n",
       "      <td>0.0</td>\n",
       "      <td>0.000000</td>\n",
       "      <td>-0.124027</td>\n",
       "    </tr>\n",
       "    <tr>\n",
       "      <th>642</th>\n",
       "      <td>vinegar</td>\n",
       "      <td>0.731579</td>\n",
       "      <td>658</td>\n",
       "      <td>0.032815</td>\n",
       "      <td>0.577508</td>\n",
       "      <td>0.0</td>\n",
       "      <td>0.000000</td>\n",
       "      <td>-0.312550</td>\n",
       "    </tr>\n",
       "    <tr>\n",
       "      <th>646</th>\n",
       "      <td>walnut</td>\n",
       "      <td>0.647287</td>\n",
       "      <td>425</td>\n",
       "      <td>0.021195</td>\n",
       "      <td>0.607059</td>\n",
       "      <td>0.0</td>\n",
       "      <td>0.000000</td>\n",
       "      <td>-0.434966</td>\n",
       "    </tr>\n",
       "    <tr>\n",
       "      <th>657</th>\n",
       "      <td>wheatglutenfree</td>\n",
       "      <td>0.822437</td>\n",
       "      <td>4906</td>\n",
       "      <td>0.244664</td>\n",
       "      <td>0.548716</td>\n",
       "      <td>0.0</td>\n",
       "      <td>0.000000</td>\n",
       "      <td>-0.195484</td>\n",
       "    </tr>\n",
       "    <tr>\n",
       "      <th>659</th>\n",
       "      <td>whitewine</td>\n",
       "      <td>0.739286</td>\n",
       "      <td>487</td>\n",
       "      <td>0.024287</td>\n",
       "      <td>0.574949</td>\n",
       "      <td>0.0</td>\n",
       "      <td>0.000000</td>\n",
       "      <td>-0.302071</td>\n",
       "    </tr>\n",
       "    <tr>\n",
       "      <th>664</th>\n",
       "      <td>winter</td>\n",
       "      <td>0.821869</td>\n",
       "      <td>3099</td>\n",
       "      <td>0.154548</td>\n",
       "      <td>0.548887</td>\n",
       "      <td>0.0</td>\n",
       "      <td>0.000000</td>\n",
       "      <td>-0.196174</td>\n",
       "    </tr>\n",
       "    <tr>\n",
       "      <th>668</th>\n",
       "      <td>yogurt</td>\n",
       "      <td>1.246809</td>\n",
       "      <td>528</td>\n",
       "      <td>0.026332</td>\n",
       "      <td>0.445076</td>\n",
       "      <td>0.0</td>\n",
       "      <td>0.000000</td>\n",
       "      <td>0.220587</td>\n",
       "    </tr>\n",
       "    <tr>\n",
       "      <th>671</th>\n",
       "      <td>zucchini</td>\n",
       "      <td>1.346457</td>\n",
       "      <td>298</td>\n",
       "      <td>0.014861</td>\n",
       "      <td>0.426174</td>\n",
       "      <td>0.0</td>\n",
       "      <td>0.000000</td>\n",
       "      <td>0.297476</td>\n",
       "    </tr>\n",
       "  </tbody>\n",
       "</table>\n",
       "<p>205 rows × 8 columns</p>\n",
       "</div>"
      ],
      "text/plain": [
       "                 col  odds_of_zero  present  variance  pct_good  n_corrs>.40  \\\n",
       "3          alcoholic      1.849829      835  0.041642  0.350898          2.0   \n",
       "4             almond      0.654391      584  0.029124  0.604452          1.0   \n",
       "11         appetizer      0.798165     1372  0.068422  0.556122          1.0   \n",
       "12             apple      0.780749      666  0.033214  0.561562          2.0   \n",
       "14           apricot      0.691824      269  0.013415  0.591078          1.0   \n",
       "17           arugula      0.570621      278  0.013864  0.636691          1.0   \n",
       "19         asparagus      0.754237      207  0.010323  0.570048          1.0   \n",
       "23           avocado      0.820000      273  0.013615  0.549451          1.0   \n",
       "24      backtoschool      0.787611      202  0.010074  0.559406          1.0   \n",
       "25       backyardbbq      0.555556      938  0.046778  0.642857          1.0   \n",
       "26             bacon      0.681948      587  0.029274  0.594549          3.0   \n",
       "27              bake      0.770156     4413  0.220078  0.564922          1.0   \n",
       "30             basil      0.834416      565  0.028177  0.545133          1.0   \n",
       "33              bean      0.910596      577  0.028775  0.523397          1.0   \n",
       "34              beef      0.686071      811  0.040445  0.593095          1.0   \n",
       "39              beet      0.707317      210  0.010473  0.585714          2.0   \n",
       "40        bellpepper      0.981912      767  0.038251  0.504563          7.0   \n",
       "41             berry      0.614583      465  0.023190  0.619355          1.0   \n",
       "47           blender      0.937304      618  0.030820  0.516181          1.0   \n",
       "49        bluecheese      0.643357      235  0.011720  0.608511          1.0   \n",
       "50              boil      0.787149      445  0.022192  0.559551          1.0   \n",
       "52         bonapptit      0.702767     9355  0.466537  0.587280          2.0   \n",
       "55            braise      0.563981      330  0.016457  0.639394          1.0   \n",
       "57            brandy      1.125984      270  0.013465  0.470370          1.0   \n",
       "58             bread      1.227679      499  0.024885  0.448898          1.0   \n",
       "60         breakfast      0.863874      712  0.035508  0.536517          8.0   \n",
       "66             broil      0.692042      489  0.024387  0.591002          1.0   \n",
       "70            brunch      0.803030      833  0.041542  0.554622          1.0   \n",
       "81           cabbage      1.379845      307  0.015310  0.420195          4.0   \n",
       "82              cake      0.621622      720  0.035907  0.616667          1.0   \n",
       "..               ...           ...      ...       ...       ...          ...   \n",
       "579            spice      0.818182      680  0.033912  0.550000          0.0   \n",
       "580          spinach      0.923469      377  0.018801  0.519894          0.0   \n",
       "581           spirit      2.775862      219  0.010922  0.264840          0.0   \n",
       "582           spring      0.888767     1715  0.085528  0.529446          0.0   \n",
       "586            steak      0.500000      243  0.012118  0.666667          0.0   \n",
       "587            steam      0.844262      225  0.011221  0.542222          0.0   \n",
       "589          stirfry      1.802469      227  0.011321  0.356828          0.0   \n",
       "593       strawberry      0.740113      308  0.015360  0.574675          0.0   \n",
       "595   sugarconscious      0.793455     2466  0.122980  0.557583          0.0   \n",
       "598           summer      0.814248     4151  0.207012  0.551192          0.0   \n",
       "599        superbowl      0.757062      311  0.015510  0.569132          0.0   \n",
       "601   sweetpotatoyam      0.597765      286  0.014263  0.625874          0.0   \n",
       "610         tarragon      1.086957      240  0.011969  0.479167          0.0   \n",
       "617     thanksgiving      0.526702     1458  0.072711  0.655007          0.0   \n",
       "618            thyme      0.681818      333  0.016607  0.594595          0.0   \n",
       "622           tomato      0.805907     2140  0.106723  0.553738          0.0   \n",
       "625      treenutfree      0.760560     7044  0.351287  0.568001          0.0   \n",
       "630           turkey      0.551020      456  0.022741  0.644737          0.0   \n",
       "633    valentinesday      0.553333      233  0.011620  0.643777          0.0   \n",
       "634          vanilla      0.791946      267  0.013315  0.558052          0.0   \n",
       "636            vegan      1.110604     1851  0.092310  0.473798          0.0   \n",
       "637        vegetable      1.024248     2087  0.104079  0.494011          0.0   \n",
       "638       vegetarian      0.883356     6846  0.341412  0.530967          0.0   \n",
       "642          vinegar      0.731579      658  0.032815  0.577508          0.0   \n",
       "646           walnut      0.647287      425  0.021195  0.607059          0.0   \n",
       "657  wheatglutenfree      0.822437     4906  0.244664  0.548716          0.0   \n",
       "659        whitewine      0.739286      487  0.024287  0.574949          0.0   \n",
       "664           winter      0.821869     3099  0.154548  0.548887          0.0   \n",
       "668           yogurt      1.246809      528  0.026332  0.445076          0.0   \n",
       "671         zucchini      1.346457      298  0.014861  0.426174          0.0   \n",
       "\n",
       "     avg_corr  log_odds  \n",
       "3    0.532399  0.615093  \n",
       "4    0.658596 -0.424050  \n",
       "11   0.480036 -0.225440  \n",
       "12   0.541637 -0.247502  \n",
       "14   0.480265 -0.368424  \n",
       "17   0.466043 -0.561029  \n",
       "19   0.409538 -0.282048  \n",
       "23   0.554576 -0.198451  \n",
       "24   0.516688 -0.238751  \n",
       "25   0.591416 -0.587787  \n",
       "26   0.424909 -0.382801  \n",
       "27   0.658596 -0.261162  \n",
       "30   0.408197 -0.181024  \n",
       "33   0.516688 -0.093656  \n",
       "34   0.426306 -0.376775  \n",
       "39   0.603526 -0.346276  \n",
       "40   0.649574 -0.018253  \n",
       "41   0.408177 -0.486811  \n",
       "47   0.499950 -0.064748  \n",
       "49   0.426306 -0.441056  \n",
       "50   0.426306 -0.239338  \n",
       "52   0.707080 -0.352730  \n",
       "55   0.480265 -0.572735  \n",
       "57   0.829149  0.118658  \n",
       "58   0.453105  0.205125  \n",
       "60   0.661693 -0.146328  \n",
       "66   0.424484 -0.368109  \n",
       "70   0.780163 -0.219363  \n",
       "81   0.612741  0.321971  \n",
       "82   0.619926 -0.475424  \n",
       "..        ...       ...  \n",
       "579  0.000000 -0.200671  \n",
       "580  0.000000 -0.079618  \n",
       "581  0.000000  1.020961  \n",
       "582  0.000000 -0.117921  \n",
       "586  0.000000 -0.693147  \n",
       "587  0.000000 -0.169292  \n",
       "589  0.000000  0.589157  \n",
       "593  0.000000 -0.300952  \n",
       "595  0.000000 -0.231359  \n",
       "598  0.000000 -0.205490  \n",
       "599  0.000000 -0.278310  \n",
       "601  0.000000 -0.514557  \n",
       "610  0.000000  0.083382  \n",
       "617  0.000000 -0.641121  \n",
       "618  0.000000 -0.382992  \n",
       "622  0.000000 -0.215787  \n",
       "625  0.000000 -0.273700  \n",
       "630  0.000000 -0.595983  \n",
       "633  0.000000 -0.591795  \n",
       "634  0.000000 -0.233262  \n",
       "636  0.000000  0.104904  \n",
       "637  0.000000  0.023959  \n",
       "638  0.000000 -0.124027  \n",
       "642  0.000000 -0.312550  \n",
       "646  0.000000 -0.434966  \n",
       "657  0.000000 -0.195484  \n",
       "659  0.000000 -0.302071  \n",
       "664  0.000000 -0.196174  \n",
       "668  0.000000  0.220587  \n",
       "671  0.000000  0.297476  \n",
       "\n",
       "[205 rows x 8 columns]"
      ]
     },
     "execution_count": 935,
     "metadata": {},
     "output_type": "execute_result"
    }
   ],
   "source": [
    "pdf['log_odds'] = np.log(pdf.odds_of_zero)\n",
    "pdf.sort_values(by='present')\n",
    "pdf = pdf[pdf.present>200]\n",
    "pdf"
   ]
  },
  {
   "cell_type": "code",
   "execution_count": 940,
   "metadata": {},
   "outputs": [
    {
     "data": {
      "image/png": "[encoded data removed]",
      "text/plain": [
       "<Figure size 360x360 with 1 Axes>"
      ]
     },
     "metadata": {},
     "output_type": "display_data"
    },
    {
     "data": {
      "image/png": "[encoded data removed]",
      "text/plain": [
       "<Figure size 417.75x360 with 1 Axes>"
      ]
     },
     "metadata": {},
     "output_type": "display_data"
    }
   ],
   "source": [
    "sns.lmplot(y='odds_of_zero',x='present',data=pdf)\n",
    "plt.show()\n",
    "g =sns.lmplot(x='pct_good',y='odds_of_zero', hue='n_corrs>.40',data=pdf,fit_reg=False)\n",
    "plt.show()"
   ]
  },
  {
   "cell_type": "code",
   "execution_count": 947,
   "metadata": {},
   "outputs": [
    {
     "data": {
      "image/png": "[encoded data removed]",
      "text/plain": [
       "<Figure size 417.75x360 with 1 Axes>"
      ]
     },
     "metadata": {},
     "output_type": "display_data"
    }
   ],
   "source": [
    "sns.lmplot(x='odds_of_zero',y='present',hue='n_corrs>.40',data=pdf[pdf.odds_of_zero>=1],fit_reg=False)\n",
    "plt.title(\"Attributes that weigh negatively on rating\")\n",
    "plt.show()"
   ]
  },
  {
   "cell_type": "code",
   "execution_count": 949,
   "metadata": {},
   "outputs": [
    {
     "data": {
      "image/png": "[encoded data removed]",
      "text/plain": [
       "<Figure size 417.75x360 with 1 Axes>"
      ]
     },
     "metadata": {},
     "output_type": "display_data"
    }
   ],
   "source": [
    "sns.lmplot(x='log_odds',y='present',hue='n_corrs>.40',data=pdf[pdf.odds_of_zero<=1],fit_reg=False)\n",
    "plt.title(\"Attribute that weigh postively on rating\")\n",
    "plt.show()"
   ]
  },
  {
   "cell_type": "code",
   "execution_count": 951,
   "metadata": {},
   "outputs": [
    {
     "data": {
      "image/png": "[encoded data removed]",
      "text/plain": [
       "<Figure size 417.75x360 with 1 Axes>"
      ]
     },
     "metadata": {},
     "output_type": "display_data"
    }
   ],
   "source": [
    "sns.lmplot(x='log_odds',y='present',hue='n_corrs>.40',data=pdf[pdf.odds_of_zero<=1],fit_reg=False)\n",
    "plt.title(\"Attribute that weigh postively on rating\")\n",
    "plt.show()"
   ]
  },
  {
   "cell_type": "code",
   "execution_count": 952,
   "metadata": {},
   "outputs": [
    {
     "data": {
      "text/plain": [
       "<seaborn.axisgrid.FacetGrid at 0x26c83fd95f8>"
      ]
     },
     "execution_count": 952,
     "metadata": {},
     "output_type": "execute_result"
    },
    {
     "data": {
      "image/png": "[encoded data removed]",
      "text/plain": [
       "<Figure size 417.75x360 with 1 Axes>"
      ]
     },
     "metadata": {},
     "output_type": "display_data"
    }
   ],
   "source": [
    "sns.lmplot(x='log_odds',y='pct_good',hue='n_corrs>.40',data=pdf[pdf.odds_of_zero<=1],fit_reg=False)"
   ]
  },
  {
   "cell_type": "code",
   "execution_count": 955,
   "metadata": {},
   "outputs": [
    {
     "data": {
      "text/plain": [
       "<seaborn.axisgrid.FacetGrid at 0x26c848de940>"
      ]
     },
     "execution_count": 955,
     "metadata": {},
     "output_type": "execute_result"
    },
    {
     "data": {
      "image/png": "[encoded data removed]",
      "text/plain": [
       "<Figure size 417.75x360 with 1 Axes>"
      ]
     },
     "metadata": {},
     "output_type": "display_data"
    }
   ],
   "source": [
    "sns.lmplot(x='odds_of_zero',y='pct_good',hue='n_corrs>.40',data=pdf[pdf.odds_of_zero>=1],fit_reg=False)"
   ]
  },
  {
   "cell_type": "code",
   "execution_count": 983,
   "metadata": {
    "scrolled": true
   },
   "outputs": [],
   "source": [
    "goodw = pdf[pdf.odds_of_zero<=1].sort_values(by='pct_good',ascending=True)\n",
    "this = goodw[goodw.pct_good>=goodw.pct_good.mean()].sort_values(by='pct_good',ascending=True)"
   ]
  },
  {
   "cell_type": "code",
   "execution_count": 984,
   "metadata": {},
   "outputs": [
    {
     "data": {
      "text/plain": [
       "(170, 72)"
      ]
     },
     "execution_count": 984,
     "metadata": {},
     "output_type": "execute_result"
    }
   ],
   "source": [
    "len(goodw),len(this)"
   ]
  },
  {
   "cell_type": "code",
   "execution_count": 985,
   "metadata": {},
   "outputs": [],
   "source": [
    "badw = pdf[pdf.odds_of_zero>=1].sort_values(by='pct_good',ascending=True)\n",
    "that = badw[badw.pct_good>=badw.pct_good.mean()].sort_values(by='pct_good',ascending=True)"
   ]
  },
  {
   "cell_type": "code",
   "execution_count": 986,
   "metadata": {},
   "outputs": [
    {
     "data": {
      "text/plain": [
       "(35, 21)"
      ]
     },
     "execution_count": 986,
     "metadata": {},
     "output_type": "execute_result"
    }
   ],
   "source": [
    "len(badw),len(that)"
   ]
  },
  {
   "cell_type": "code",
   "execution_count": 967,
   "metadata": {},
   "outputs": [],
   "source": [
    "grill = pdf[pdf.col.str.contains('grill|bbq|barebecue')]\n",
    "specialty = pdf[pdf.col.str.contains('free')]"
   ]
  },
  {
   "cell_type": "code",
   "execution_count": 971,
   "metadata": {},
   "outputs": [
    {
     "data": {
      "text/html": [
       "<div>\n",
       "<style scoped>\n",
       "    .dataframe tbody tr th:only-of-type {\n",
       "        vertical-align: middle;\n",
       "    }\n",
       "\n",
       "    .dataframe tbody tr th {\n",
       "        vertical-align: top;\n",
       "    }\n",
       "\n",
       "    .dataframe thead th {\n",
       "        text-align: right;\n",
       "    }\n",
       "</style>\n",
       "<table border=\"1\" class=\"dataframe\">\n",
       "  <thead>\n",
       "    <tr style=\"text-align: right;\">\n",
       "      <th></th>\n",
       "      <th>backyardbbq</th>\n",
       "      <th>grill</th>\n",
       "      <th>grillbarbecue</th>\n",
       "    </tr>\n",
       "  </thead>\n",
       "  <tbody>\n",
       "    <tr>\n",
       "      <th>backyardbbq</th>\n",
       "      <td>1.000000</td>\n",
       "      <td>0.562252</td>\n",
       "      <td>0.502545</td>\n",
       "    </tr>\n",
       "    <tr>\n",
       "      <th>grill</th>\n",
       "      <td>0.562252</td>\n",
       "      <td>1.000000</td>\n",
       "      <td>0.618822</td>\n",
       "    </tr>\n",
       "    <tr>\n",
       "      <th>grillbarbecue</th>\n",
       "      <td>0.502545</td>\n",
       "      <td>0.618822</td>\n",
       "      <td>1.000000</td>\n",
       "    </tr>\n",
       "  </tbody>\n",
       "</table>\n",
       "</div>"
      ],
      "text/plain": [
       "               backyardbbq     grill  grillbarbecue\n",
       "backyardbbq       1.000000  0.562252       0.502545\n",
       "grill             0.562252  1.000000       0.618822\n",
       "grillbarbecue     0.502545  0.618822       1.000000"
      ]
     },
     "execution_count": 971,
     "metadata": {},
     "output_type": "execute_result"
    }
   ],
   "source": [
    "raw[grill.col].corr()"
   ]
  },
  {
   "cell_type": "code",
   "execution_count": 974,
   "metadata": {},
   "outputs": [],
   "source": [
    "this = pdf[pdf.pct_good>=pdf.pct_good.mean()].sort_values(by='pct_good',ascending=True)"
   ]
  },
  {
   "cell_type": "code",
   "execution_count": 976,
   "metadata": {
    "scrolled": true
   },
   "outputs": [
    {
     "data": {
      "text/plain": [
       "122"
      ]
     },
     "execution_count": 976,
     "metadata": {},
     "output_type": "execute_result"
    }
   ],
   "source": [
    "that = pdf[pdf.pct_good<=1].sort_values(by='pct_good',ascending=True)"
   ]
  },
  {
   "cell_type": "code",
   "execution_count": 990,
   "metadata": {},
   "outputs": [],
   "source": [
    "atts_final_raw = pd.concat([this,that])"
   ]
  },
  {
   "cell_type": "code",
   "execution_count": 991,
   "metadata": {},
   "outputs": [
    {
     "data": {
      "text/plain": [
       "93"
      ]
     },
     "execution_count": 991,
     "metadata": {},
     "output_type": "execute_result"
    }
   ],
   "source": [
    "len(atts_final_raw)"
   ]
  },
  {
   "cell_type": "code",
   "execution_count": 996,
   "metadata": {},
   "outputs": [],
   "source": [
    "model = raw[atts_final_raw.col]\n",
    "X = model\n",
    "Y = raw.rating"
   ]
  },
  {
   "cell_type": "code",
   "execution_count": 997,
   "metadata": {},
   "outputs": [
    {
     "data": {
      "text/plain": [
       "0.5978456014362658"
      ]
     },
     "execution_count": 997,
     "metadata": {},
     "output_type": "execute_result"
    }
   ],
   "source": [
    "\n",
    "from sklearn.svm import SVC\n",
    "svc = SVC(kernel='linear')\n",
    "svc.fit(X,Y)\n",
    "svc.score(X,Y)"
   ]
  },
  {
   "cell_type": "code",
   "execution_count": 998,
   "metadata": {},
   "outputs": [
    {
     "data": {
      "text/plain": [
       "0.5956014362657092"
      ]
     },
     "execution_count": 998,
     "metadata": {},
     "output_type": "execute_result"
    }
   ],
   "source": [
    "from sklearn.svm import SVC\n",
    "svc = SVC(kernel='rbf',gamma=.3)\n",
    "svc.fit(X,Y)\n",
    "svc.score(X,Y)"
   ]
  },
  {
   "cell_type": "code",
   "execution_count": 1003,
   "metadata": {},
   "outputs": [
    {
     "data": {
      "text/plain": [
       "0.5393975663275484"
      ]
     },
     "execution_count": 1003,
     "metadata": {},
     "output_type": "execute_result"
    }
   ],
   "source": [
    "X = raw[lower_var.col]\n",
    "svc.fit(X,Y)\n",
    "svc.score(X,Y)"
   ]
  },
  {
   "cell_type": "code",
   "execution_count": 1002,
   "metadata": {},
   "outputs": [],
   "source": [
    "another = pd.concat([lower_var,extremes])"
   ]
  },
  {
   "cell_type": "code",
   "execution_count": 1004,
   "metadata": {},
   "outputs": [],
   "source": [
    "X= raw[another.col]"
   ]
  },
  {
   "cell_type": "code",
   "execution_count": 1005,
   "metadata": {},
   "outputs": [
    {
     "data": {
      "text/plain": [
       "0.5355076800319171"
      ]
     },
     "execution_count": 1005,
     "metadata": {},
     "output_type": "execute_result"
    }
   ],
   "source": [
    "svc.fit(X,Y)\n",
    "svc.score(X,Y)"
   ]
  },
  {
   "cell_type": "code",
   "execution_count": 1006,
   "metadata": {},
   "outputs": [
    {
     "data": {
      "text/plain": [
       "0.5355076800319171"
      ]
     },
     "execution_count": 1006,
     "metadata": {},
     "output_type": "execute_result"
    }
   ],
   "source": [
    "X=raw[extremes.col]\n",
    "svc.fit(X,Y)\n",
    "svc.score(X,Y)"
   ]
  },
  {
   "cell_type": "code",
   "execution_count": 1013,
   "metadata": {},
   "outputs": [
    {
     "data": {
      "text/plain": [
       "107"
      ]
     },
     "execution_count": 1013,
     "metadata": {},
     "output_type": "execute_result"
    }
   ],
   "source": [
    "second = pd.concat([this,badw])\n",
    "len(X)"
   ]
  },
  {
   "cell_type": "code",
   "execution_count": 1014,
   "metadata": {},
   "outputs": [
    {
     "data": {
      "text/plain": [
       "0.5965988430081788"
      ]
     },
     "execution_count": 1014,
     "metadata": {},
     "output_type": "execute_result"
    }
   ],
   "source": [
    "X = raw[second.col]\n",
    "svc.fit(X,Y)\n",
    "svc.score(X,Y)"
   ]
  },
  {
   "cell_type": "code",
   "execution_count": 1017,
   "metadata": {},
   "outputs": [],
   "source": [
    "third = pd.concat([that,goodw])"
   ]
  },
  {
   "cell_type": "code",
   "execution_count": 1018,
   "metadata": {},
   "outputs": [],
   "source": [
    "X=raw[extremes.col]\n",
    "\n"
   ]
  },
  {
   "cell_type": "code",
   "execution_count": 1019,
   "metadata": {
    "scrolled": true
   },
   "outputs": [
    {
     "data": {
      "text/plain": [
       "SVC(C=1.0, cache_size=200, class_weight=None, coef0=0.0,\n",
       "  decision_function_shape='ovr', degree=3, gamma=0.3, kernel='rbf',\n",
       "  max_iter=-1, probability=False, random_state=None, shrinking=True,\n",
       "  tol=0.001, verbose=False)"
      ]
     },
     "execution_count": 1019,
     "metadata": {},
     "output_type": "execute_result"
    }
   ],
   "source": [
    "svc = SVC(kernel='rbf',gamma=.3)\n",
    "svc.fit(X,Y)"
   ]
  },
  {
   "cell_type": "code",
   "execution_count": 1027,
   "metadata": {},
   "outputs": [
    {
     "data": {
      "text/plain": [
       "294"
      ]
     },
     "execution_count": 1027,
     "metadata": {},
     "output_type": "execute_result"
    }
   ],
   "source": [
    "gothrough = pd.concat([extremes,lower_var,goodw,badw],sort=False)\n",
    "len(gothrough.col)"
   ]
  },
  {
   "cell_type": "code",
   "execution_count": 1028,
   "metadata": {},
   "outputs": [],
   "source": [
    "X = raw[gothrough.col]"
   ]
  },
  {
   "cell_type": "code",
   "execution_count": 1031,
   "metadata": {
    "scrolled": true
   },
   "outputs": [
    {
     "data": {
      "text/plain": [
       "RFECV(cv=2,\n",
       "   estimator=RandomForestClassifier(bootstrap=True, class_weight=None, criterion='gini',\n",
       "            max_depth=None, max_features='auto', max_leaf_nodes=None,\n",
       "            min_impurity_decrease=0.0, min_impurity_split=None,\n",
       "            min_samples_leaf=1, min_samples_split=2,\n",
       "            min_weight_fraction_leaf=0.0, n_estimators=30, n_jobs=1,\n",
       "            oob_score=False, random_state=None, verbose=0,\n",
       "            warm_start=False),\n",
       "   n_jobs=1, scoring='accuracy', step=1, verbose=0)"
      ]
     },
     "execution_count": 1031,
     "metadata": {},
     "output_type": "execute_result"
    }
   ],
   "source": [
    "X = raw[second.col]\n",
    "from sklearn import ensemble\n",
    "from sklearn.ensemble import RandomForestRegressor\n",
    "rfc = ensemble.RandomForestClassifier(n_estimators=30)\n",
    "rfc.fit(X,Y)\n",
    "rfecv = RFECV(estimator=rfc, step=1, cv=2,\n",
    "              scoring='accuracy')\n",
    "rfecv.fit(X, Y)"
   ]
  },
  {
   "cell_type": "code",
   "execution_count": 1042,
   "metadata": {},
   "outputs": [
    {
     "data": {
      "text/plain": [
       "0.9960103730301216"
      ]
     },
     "execution_count": 1042,
     "metadata": {},
     "output_type": "execute_result"
    }
   ],
   "source": [
    "rfc.fit(X,Y)\n",
    "rfc.score(X,Y)"
   ]
  },
  {
   "cell_type": "code",
   "execution_count": 1045,
   "metadata": {},
   "outputs": [
    {
     "data": {
      "text/plain": [
       "array([0.63699825, 0.62926951, 0.63649963, 0.63790524, 0.6370666 ])"
      ]
     },
     "execution_count": 1045,
     "metadata": {},
     "output_type": "execute_result"
    }
   ],
   "source": [
    "from sklearn.model_selection import cross_val_score\n",
    "cross_val_score(rfc,X,Y,cv=5)"
   ]
  },
  {
   "cell_type": "code",
   "execution_count": 1048,
   "metadata": {},
   "outputs": [
    {
     "data": {
      "text/html": [
       "<div>\n",
       "<style scoped>\n",
       "    .dataframe tbody tr th:only-of-type {\n",
       "        vertical-align: middle;\n",
       "    }\n",
       "\n",
       "    .dataframe tbody tr th {\n",
       "        vertical-align: top;\n",
       "    }\n",
       "\n",
       "    .dataframe thead th {\n",
       "        text-align: right;\n",
       "    }\n",
       "</style>\n",
       "<table border=\"1\" class=\"dataframe\">\n",
       "  <thead>\n",
       "    <tr style=\"text-align: right;\">\n",
       "      <th></th>\n",
       "      <th>sig</th>\n",
       "      <th>feature</th>\n",
       "    </tr>\n",
       "  </thead>\n",
       "  <tbody>\n",
       "    <tr>\n",
       "      <th>0</th>\n",
       "      <td>0.0192</td>\n",
       "      <td>quickeasy</td>\n",
       "    </tr>\n",
       "    <tr>\n",
       "      <th>1</th>\n",
       "      <td>0.0145</td>\n",
       "      <td>winter</td>\n",
       "    </tr>\n",
       "    <tr>\n",
       "      <th>2</th>\n",
       "      <td>0.0140</td>\n",
       "      <td>summer</td>\n",
       "    </tr>\n",
       "    <tr>\n",
       "      <th>3</th>\n",
       "      <td>0.0134</td>\n",
       "      <td>bonapptit</td>\n",
       "    </tr>\n",
       "    <tr>\n",
       "      <th>4</th>\n",
       "      <td>0.0129</td>\n",
       "      <td>bake</td>\n",
       "    </tr>\n",
       "    <tr>\n",
       "      <th>5</th>\n",
       "      <td>0.0118</td>\n",
       "      <td>fall</td>\n",
       "    </tr>\n",
       "    <tr>\n",
       "      <th>6</th>\n",
       "      <td>0.0115</td>\n",
       "      <td>gourmet</td>\n",
       "    </tr>\n",
       "    <tr>\n",
       "      <th>7</th>\n",
       "      <td>0.0111</td>\n",
       "      <td>onion</td>\n",
       "    </tr>\n",
       "    <tr>\n",
       "      <th>8</th>\n",
       "      <td>0.0110</td>\n",
       "      <td>kidfriendly</td>\n",
       "    </tr>\n",
       "    <tr>\n",
       "      <th>9</th>\n",
       "      <td>0.0107</td>\n",
       "      <td>milkcream</td>\n",
       "    </tr>\n",
       "    <tr>\n",
       "      <th>10</th>\n",
       "      <td>0.0103</td>\n",
       "      <td>vegetarian</td>\n",
       "    </tr>\n",
       "    <tr>\n",
       "      <th>11</th>\n",
       "      <td>0.0103</td>\n",
       "      <td>spring</td>\n",
       "    </tr>\n",
       "    <tr>\n",
       "      <th>12</th>\n",
       "      <td>0.0101</td>\n",
       "      <td>wheatglutenfree</td>\n",
       "    </tr>\n",
       "    <tr>\n",
       "      <th>13</th>\n",
       "      <td>0.0101</td>\n",
       "      <td>saut</td>\n",
       "    </tr>\n",
       "    <tr>\n",
       "      <th>14</th>\n",
       "      <td>0.0101</td>\n",
       "      <td>herb</td>\n",
       "    </tr>\n",
       "    <tr>\n",
       "      <th>15</th>\n",
       "      <td>0.0099</td>\n",
       "      <td>garlic</td>\n",
       "    </tr>\n",
       "    <tr>\n",
       "      <th>16</th>\n",
       "      <td>0.0098</td>\n",
       "      <td>healthy</td>\n",
       "    </tr>\n",
       "    <tr>\n",
       "      <th>17</th>\n",
       "      <td>0.0097</td>\n",
       "      <td>vegetable</td>\n",
       "    </tr>\n",
       "    <tr>\n",
       "      <th>18</th>\n",
       "      <td>0.0096</td>\n",
       "      <td>fruit</td>\n",
       "    </tr>\n",
       "    <tr>\n",
       "      <th>19</th>\n",
       "      <td>0.0095</td>\n",
       "      <td>egg</td>\n",
       "    </tr>\n",
       "    <tr>\n",
       "      <th>20</th>\n",
       "      <td>0.0093</td>\n",
       "      <td>tomato</td>\n",
       "    </tr>\n",
       "    <tr>\n",
       "      <th>21</th>\n",
       "      <td>0.0089</td>\n",
       "      <td>lemon</td>\n",
       "    </tr>\n",
       "    <tr>\n",
       "      <th>22</th>\n",
       "      <td>0.0088</td>\n",
       "      <td>dairy</td>\n",
       "    </tr>\n",
       "    <tr>\n",
       "      <th>23</th>\n",
       "      <td>0.0086</td>\n",
       "      <td>ginger</td>\n",
       "    </tr>\n",
       "    <tr>\n",
       "      <th>24</th>\n",
       "      <td>0.0081</td>\n",
       "      <td>side</td>\n",
       "    </tr>\n",
       "    <tr>\n",
       "      <th>25</th>\n",
       "      <td>0.0081</td>\n",
       "      <td>cheese</td>\n",
       "    </tr>\n",
       "    <tr>\n",
       "      <th>26</th>\n",
       "      <td>0.0078</td>\n",
       "      <td>chill</td>\n",
       "    </tr>\n",
       "    <tr>\n",
       "      <th>27</th>\n",
       "      <td>0.0076</td>\n",
       "      <td>kidneyfriendly</td>\n",
       "    </tr>\n",
       "    <tr>\n",
       "      <th>28</th>\n",
       "      <td>0.0075</td>\n",
       "      <td>dinner</td>\n",
       "    </tr>\n",
       "    <tr>\n",
       "      <th>29</th>\n",
       "      <td>0.0075</td>\n",
       "      <td>citrus</td>\n",
       "    </tr>\n",
       "  </tbody>\n",
       "</table>\n",
       "</div>"
      ],
      "text/plain": [
       "       sig          feature\n",
       "0   0.0192        quickeasy\n",
       "1   0.0145           winter\n",
       "2   0.0140           summer\n",
       "3   0.0134        bonapptit\n",
       "4   0.0129             bake\n",
       "5   0.0118             fall\n",
       "6   0.0115          gourmet\n",
       "7   0.0111            onion\n",
       "8   0.0110      kidfriendly\n",
       "9   0.0107        milkcream\n",
       "10  0.0103       vegetarian\n",
       "11  0.0103           spring\n",
       "12  0.0101  wheatglutenfree\n",
       "13  0.0101             saut\n",
       "14  0.0101             herb\n",
       "15  0.0099           garlic\n",
       "16  0.0098          healthy\n",
       "17  0.0097        vegetable\n",
       "18  0.0096            fruit\n",
       "19  0.0095              egg\n",
       "20  0.0093           tomato\n",
       "21  0.0089            lemon\n",
       "22  0.0088            dairy\n",
       "23  0.0086           ginger\n",
       "24  0.0081             side\n",
       "25  0.0081           cheese\n",
       "26  0.0078            chill\n",
       "27  0.0076   kidneyfriendly\n",
       "28  0.0075           dinner\n",
       "29  0.0075           citrus"
      ]
     },
     "execution_count": 1048,
     "metadata": {},
     "output_type": "execute_result"
    }
   ],
   "source": [
    "feature_sigs = pd.DataFrame(\n",
    "    sorted(zip(map(lambda x: round(x, 4), rfc.feature_importances_), \n",
    "               X.columns), reverse=True))\n",
    "feature_sigs.rename(columns={0:'sig',1:'feature'},inplace=True)#rename int columns\n",
    "feature_sigs.head(30)"
   ]
  },
  {
   "cell_type": "code",
   "execution_count": 1032,
   "metadata": {},
   "outputs": [
    {
     "name": "stdout",
     "output_type": "stream",
     "text": [
      "Optimal number of features : 87\n"
     ]
    }
   ],
   "source": [
    "print(\"Optimal number of features : %d\" % rfecv.n_features_)"
   ]
  },
  {
   "cell_type": "code",
   "execution_count": 1033,
   "metadata": {},
   "outputs": [
    {
     "data": {
      "image/png": "[encoded data removed]",
      "text/plain": [
       "<Figure size 432x288 with 1 Axes>"
      ]
     },
     "metadata": {},
     "output_type": "display_data"
    }
   ],
   "source": [
    "# Plot number of features VS. cross-validation scores\n",
    "plt.figure()\n",
    "plt.xlabel(\"Number of features selected\")\n",
    "plt.ylabel(\"Cross validation score (nb of correct classifications)\")\n",
    "plt.plot(range(1, len(rfecv.grid_scores_) + 1), rfecv.grid_scores_)\n",
    "plt.show()"
   ]
  },
  {
   "cell_type": "code",
   "execution_count": 1036,
   "metadata": {},
   "outputs": [
    {
     "data": {
      "text/plain": [
       "107"
      ]
     },
     "execution_count": 1036,
     "metadata": {},
     "output_type": "execute_result"
    }
   ],
   "source": [
    "len(X.columns)"
   ]
  },
  {
   "cell_type": "code",
   "execution_count": 1037,
   "metadata": {},
   "outputs": [
    {
     "data": {
      "text/plain": [
       "SVC(C=1.0, cache_size=200, class_weight=None, coef0=0.0,\n",
       "  decision_function_shape='ovr', degree=3, gamma='auto', kernel='linear',\n",
       "  max_iter=-1, probability=False, random_state=None, shrinking=True,\n",
       "  tol=0.001, verbose=False)"
      ]
     },
     "execution_count": 1037,
     "metadata": {},
     "output_type": "execute_result"
    }
   ],
   "source": [
    "svc = SVC(kernel=\"linear\")\n",
    "X = raw[gothrough.col]\n",
    "svc.fit(X,Y)"
   ]
  },
  {
   "cell_type": "code",
   "execution_count": 1038,
   "metadata": {},
   "outputs": [
    {
     "data": {
      "text/plain": [
       "0.6197386794334729"
      ]
     },
     "execution_count": 1038,
     "metadata": {},
     "output_type": "execute_result"
    }
   ],
   "source": [
    "svc.score(X,Y)"
   ]
  },
  {
   "cell_type": "code",
   "execution_count": 1056,
   "metadata": {},
   "outputs": [],
   "source": [
    "trainsize = int(raw.shape[0] / 2)\n",
    "test = raw.iloc[trainsize:, :].copy()\n",
    "train = raw.iloc[:trainsize, :].copy()\n",
    "\n",
    "Y_train = train.rating\n",
    "X_train = train.drop(['rating'],1)\n",
    "\n",
    "Y_test = test.rating\n",
    "X_test = test.drop(['rating'],1)"
   ]
  },
  {
   "cell_type": "code",
   "execution_count": 1070,
   "metadata": {},
   "outputs": [],
   "source": [
    "\n",
    "from sklearn import linear_model\n",
    "from sklearn.linear_model import LogisticRegression\n",
    "ridgeregrBig = linear_model.Ridge(alpha=1, fit_intercept=False)\n",
    "ridgeregrBig.fit(X_train, Y_train)\n",
    "estimates = np.append(ridgeregrBig.coef_, [1])"
   ]
  },
  {
   "cell_type": "code",
   "execution_count": 1080,
   "metadata": {},
   "outputs": [
    {
     "name": "stdout",
     "output_type": "stream",
     "text": [
      "[ 0.01762372 -0.20420137  0.          0.14440577  0.11113411  0.14099594\n",
      " -0.01975553 -0.04660942 -0.1388814   0.        ]\n",
      "673\n",
      "412\n"
     ]
    }
   ],
   "source": [
    "print(estimates[0:10])\n",
    "print(len(estimates))\n",
    "sigatts = np.where(estimates>.0002,1,0)\n",
    "print(sum(sigatts))"
   ]
  },
  {
   "cell_type": "code",
   "execution_count": null,
   "metadata": {},
   "outputs": [],
   "source": []
  }
 ],
 "metadata": {
  "kernelspec": {
   "display_name": "Python 3",
   "language": "python",
   "name": "python3"
  },
  "language_info": {
   "codemirror_mode": {
    "name": "ipython",
    "version": 3
   },
   "file_extension": ".py",
   "mimetype": "text/x-python",
   "name": "python",
   "nbconvert_exporter": "python",
   "pygments_lexer": "ipython3",
   "version": "3.6.5"
  }
 },
 "nbformat": 4,
 "nbformat_minor": 2
}
