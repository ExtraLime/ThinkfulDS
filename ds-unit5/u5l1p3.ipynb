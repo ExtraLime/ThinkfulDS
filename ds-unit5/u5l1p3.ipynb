{
 "cells": [
  {
   "cell_type": "code",
   "execution_count": 7,
   "metadata": {},
   "outputs": [],
   "source": [
    "import random\n",
    "\n",
    "class Node:\n",
    "    def __init__(self, val):\n",
    "        self.left = None\n",
    "        self.right = None\n",
    "        self.val = val"
   ]
  },
  {
   "cell_type": "code",
   "execution_count": 6,
   "metadata": {},
   "outputs": [],
   "source": [
    "# Establish the initial root node and children\n",
    "root = Node('A')\n",
    "root.left = Node('B')\n",
    "root.right = Node('C')\n",
    "\n",
    "# Add the appropriate children for ‘B’ and ‘C’\n",
    "root.left.left = Node('D')\n",
    "root.left.right = Node('E')\n",
    "root.right.left = Node('F')\n",
    "root.right.right = Node('G')"
   ]
  },
  {
   "cell_type": "code",
   "execution_count": 21,
   "metadata": {},
   "outputs": [],
   "source": [
    "things = random.sample(range(100),20)"
   ]
  },
  {
   "cell_type": "code",
   "execution_count": 24,
   "metadata": {},
   "outputs": [],
   "source": [
    "# Establish the initial root node and children\n",
    "root = Node(things[0])\n",
    "\n",
    "root.left = Node(things[1])\n",
    "root.right = Node(things[2])\n",
    "\n",
    "# Add the appropriate children for ‘B’ and ‘C’\n",
    "root.left.left = Node(things[3])\n",
    "root.left.right = Node(things[4])\n",
    "root.right.left = Node(things[5])\n",
    "root.right.right = Node(things[6])\n",
    "\n",
    "root.left.left.left = Node(things[7])\n",
    "root.left.left.right = Node(things[8])\n",
    "root.left.right.left = Node(things[9])\n",
    "root.left.right.right = Node(things[10])\n",
    "root.right.left.left = Node(things[11])\n",
    "root.right.left.right = Node(things[12])\n",
    "root.right.right.left = Node(things[13])\n",
    "root.right.right.right = Node(things[14])"
   ]
  },
  {
   "cell_type": "code",
   "execution_count": 28,
   "metadata": {},
   "outputs": [
    {
     "data": {
      "text/plain": [
       "17"
      ]
     },
     "execution_count": 28,
     "metadata": {},
     "output_type": "execute_result"
    }
   ],
   "source": [
    "root.right.val"
   ]
  },
  {
   "cell_type": "code",
   "execution_count": 126,
   "metadata": {},
   "outputs": [],
   "source": [
    "def trav_tree (node):\n",
    "    root = node\n",
    "    while node.left != None and node.right!=None:\n",
    "            print('Node: {}'.format(node.val))   \n",
    "            for i in [node.left,node.right]:\n",
    "                if node.left != None and node.right != None:\n",
    "                    print ('Child One: {}'.format(node.left.val))\n",
    "                    print ('Child Two: {}\\n'.format(node.right.val))\n",
    "                    node = node.left\n",
    "                if node == None:\n",
    "                    root = root.right"
   ]
  },
  {
   "cell_type": "code",
   "execution_count": 127,
   "metadata": {},
   "outputs": [
    {
     "name": "stdout",
     "output_type": "stream",
     "text": [
      "Node: 19\n",
      "Child One: 33\n",
      "Child Two: 17\n",
      "\n",
      "Child One: 59\n",
      "Child Two: 39\n",
      "\n",
      "Node: 59\n",
      "Child One: 89\n",
      "Child Two: 90\n",
      "\n"
     ]
    }
   ],
   "source": [
    "trav_tree(root)"
   ]
  },
  {
   "cell_type": "code",
   "execution_count": 153,
   "metadata": {},
   "outputs": [],
   "source": [
    "def trav_tree (node):\n",
    "    root = node\n",
    "    print('Root Node Value: {}\\n'.format(root.val))\n",
    "    print('l_child:{}'.format(root.left.val))\n",
    "    print('r_child:{}\\n'.format(root.right.val)) \n",
    "    for i in [root.left,root.right]:\n",
    "        node = i\n",
    "        while node.left != None and node.right!=None:\n",
    "            print('Node: {}'.format(node.val))   \n",
    "            \n",
    "            if node.left != None and node.right != None:\n",
    "                print ('Child One: {}'.format(node.left.val))\n",
    "                print ('Child Two: {}\\n'.format(node.right.val))\n",
    "                node = node.left\n",
    "    for i in [root.left,root.right]:\n",
    "        node = i\n",
    "        while node.left != None and node.right!=None:\n",
    "            print('Node: {}'.format(node.val))   \n",
    "            \n",
    "            if node.left != None and node.right != None:\n",
    "                print ('Child One: {}'.format(node.left.val))\n",
    "                print ('Child Two: {}\\n'.format(node.right.val))\n",
    "                node = node.right\n",
    "    #root = node.left     \n",
    "        \n",
    "    '''for i in [root.left,root.right]:\n",
    "            if node.left != None and node.right != None:\n",
    "                print ('Child One: {}'.format(node.left.val))\n",
    "                print ('Child Two: {}\\n'.format(node.right.val))\n",
    "                node = node.left'''\n",
    "    \n",
    "        \n",
    "    \n",
    "                       "
   ]
  },
  {
   "cell_type": "code",
   "execution_count": 165,
   "metadata": {},
   "outputs": [
    {
     "name": "stdout",
     "output_type": "stream",
     "text": [
      "Root Node Value: 19\n",
      "\n",
      "l_child:33\n",
      "r_child:17\n",
      "\n",
      "Node: 33\n",
      "Child One: 59\n",
      "Child Two: 39\n",
      "\n",
      "Node: 59\n",
      "Child One: 89\n",
      "Child Two: 90\n",
      "\n",
      "Node: 17\n",
      "Child One: 48\n",
      "Child Two: 24\n",
      "\n",
      "Node: 48\n",
      "Child One: 45\n",
      "Child Two: 50\n",
      "\n",
      "Node: 33\n",
      "Child One: 59\n",
      "Child Two: 39\n",
      "\n",
      "Node: 39\n",
      "Child One: 34\n",
      "Child Two: 1\n",
      "\n",
      "Node: 17\n",
      "Child One: 48\n",
      "Child Two: 24\n",
      "\n",
      "Node: 24\n",
      "Child One: 56\n",
      "Child Two: 54\n",
      "\n"
     ]
    }
   ],
   "source": [
    "trav_tree(root)"
   ]
  },
  {
   "cell_type": "code",
   "execution_count": null,
   "metadata": {},
   "outputs": [],
   "source": [
    " node1 = node\n",
    "    while node.left != None and node.right!=None:\n",
    "        print('Node Value: {}'.format(node.val))\n",
    "        if node.left != None and node.right != None:\n",
    "            print ('Child One: {}'.format(node.left.val))\n",
    "            print ('Child Two: {}'.format(node.right.val))\n",
    "            node = node.left\n",
    "        break\n",
    "        \n",
    "    while node1.left != None and node1.right!=None:\n",
    "        print('Node Value: {}'.format(node1.val))\n",
    "        if node1.left != None and node1.right != None:\n",
    "            print ('Child One: {}'.format(node.left.val))\n",
    "            print ('Child Two: {}'.format(node.right.val))\n",
    "            node1 = node1.right"
   ]
  },
  {
   "cell_type": "code",
   "execution_count": null,
   "metadata": {},
   "outputs": [],
   "source": [
    "trav_tree(root)"
   ]
  },
  {
   "cell_type": "code",
   "execution_count": 23,
   "metadata": {},
   "outputs": [
    {
     "name": "stdout",
     "output_type": "stream",
     "text": [
      "20\n",
      "[19, 33, 17, 59, 39, 48, 24, 89, 90, 34, 1, 45, 50, 56, 54, 35, 88, 98, 41]\n"
     ]
    }
   ],
   "source": [
    "lght = things\n",
    "sda = lght.pop()\n",
    "print(sda)\n",
    "print(lght)"
   ]
  },
  {
   "cell_type": "code",
   "execution_count": null,
   "metadata": {},
   "outputs": [],
   "source": []
  }
 ],
 "metadata": {
  "kernelspec": {
   "display_name": "Python 3",
   "language": "python",
   "name": "python3"
  },
  "language_info": {
   "codemirror_mode": {
    "name": "ipython",
    "version": 3
   },
   "file_extension": ".py",
   "mimetype": "text/x-python",
   "name": "python",
   "nbconvert_exporter": "python",
   "pygments_lexer": "ipython3",
   "version": "3.6.0"
  }
 },
 "nbformat": 4,
 "nbformat_minor": 2
}
