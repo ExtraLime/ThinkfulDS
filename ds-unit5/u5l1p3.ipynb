{
 "cells": [
  {
   "cell_type": "code",
   "execution_count": 1,
   "metadata": {},
   "outputs": [],
   "source": [
    "import random\n",
    "\n",
    "class Node:\n",
    "    def __init__(self, val):\n",
    "        self.left = None\n",
    "        self.right = None\n",
    "        self.val = val"
   ]
  },
  {
   "cell_type": "code",
   "execution_count": 2,
   "metadata": {},
   "outputs": [],
   "source": [
    "# Establish the initial root node and children\n",
    "root = Node('A')\n",
    "root.left = Node('B')\n",
    "root.right = Node('C')\n",
    "\n",
    "# Add the appropriate children for ‘B’ and ‘C’\n",
    "root.left.left = Node('D')\n",
    "root.left.right = Node('E')\n",
    "root.right.left = Node('F')\n",
    "root.right.right = Node('G')"
   ]
  },
  {
   "cell_type": "code",
   "execution_count": 3,
   "metadata": {},
   "outputs": [],
   "source": [
    "things = random.sample(range(100),20)"
   ]
  },
  {
   "cell_type": "code",
   "execution_count": 4,
   "metadata": {},
   "outputs": [],
   "source": [
    "# Establish the initial root node and children\n",
    "root = Node(things[0])\n",
    "\n",
    "root.left = Node(things[1])\n",
    "root.right = Node(things[2])\n",
    "\n",
    "# Add the appropriate children for ‘B’ and ‘C’\n",
    "root.left.left = Node(things[3])\n",
    "root.left.right = Node(things[4])\n",
    "root.right.left = Node(things[5])\n",
    "root.right.right = Node(things[6])\n",
    "\n",
    "root.left.left.left = Node(things[7])\n",
    "root.left.left.right = Node(things[8])\n",
    "root.left.right.left = Node(things[9])\n",
    "root.left.right.right = Node(things[10])\n",
    "root.right.left.left = Node(things[11])\n",
    "root.right.left.right = Node(things[12])\n",
    "root.right.right.left = Node(things[13])\n",
    "root.right.right.right = Node(things[14])"
   ]
  },
  {
   "cell_type": "code",
   "execution_count": 5,
   "metadata": {},
   "outputs": [
    {
     "data": {
      "text/plain": [
       "49"
      ]
     },
     "execution_count": 5,
     "metadata": {},
     "output_type": "execute_result"
    }
   ],
   "source": [
    "root.right.val"
   ]
  },
  {
   "cell_type": "code",
   "execution_count": 6,
   "metadata": {},
   "outputs": [],
   "source": [
    "def trav_tree (node):\n",
    "    root = node\n",
    "    while node.left != None and node.right!=None:\n",
    "            print('Node: {}'.format(node.val))   \n",
    "            for i in [node.left,node.right]:\n",
    "                if node.left != None and node.right != None:\n",
    "                    print ('Child One: {}'.format(node.left.val))\n",
    "                    print ('Child Two: {}\\n'.format(node.right.val))\n",
    "                    node = node.left\n",
    "                if node == None:\n",
    "                    root = root.right"
   ]
  },
  {
   "cell_type": "code",
   "execution_count": 7,
   "metadata": {},
   "outputs": [
    {
     "name": "stdout",
     "output_type": "stream",
     "text": [
      "Node: 24\n",
      "Child One: 47\n",
      "Child Two: 49\n",
      "\n",
      "Child One: 21\n",
      "Child Two: 59\n",
      "\n",
      "Node: 21\n",
      "Child One: 32\n",
      "Child Two: 41\n",
      "\n"
     ]
    }
   ],
   "source": [
    "trav_tree(root)"
   ]
  },
  {
   "cell_type": "code",
   "execution_count": 8,
   "metadata": {},
   "outputs": [],
   "source": [
    "def trav_tree (node):\n",
    "    root = node\n",
    "    print('Root Node Value: {}\\n'.format(root.val))\n",
    "    print('l_child:{}'.format(root.left.val))\n",
    "    print('r_child:{}\\n'.format(root.right.val)) \n",
    "    for i in [root.left,root.right]:\n",
    "        node = i\n",
    "        while node.left != None and node.right!=None:\n",
    "            print('Node: {}'.format(node.val))   \n",
    "            \n",
    "            if node.left != None and node.right != None:\n",
    "                print ('Child One: {}'.format(node.left.val))\n",
    "                print ('Child Two: {}\\n'.format(node.right.val))\n",
    "                node = node.left\n",
    "    for i in [root.left,root.right]:\n",
    "        node = i\n",
    "        while node.left != None and node.right!=None:\n",
    "            print('Node: {}'.format(node.val))   \n",
    "            \n",
    "            if node.left != None and node.right != None:\n",
    "                print ('Child One: {}'.format(node.left.val))\n",
    "                print ('Child Two: {}\\n'.format(node.right.val))\n",
    "                node = node.right\n",
    "    #root = node.left     \n",
    "        \n",
    "    '''for i in [root.left,root.right]:\n",
    "            if node.left != None and node.right != None:\n",
    "                print ('Child One: {}'.format(node.left.val))\n",
    "                print ('Child Two: {}\\n'.format(node.right.val))\n",
    "                node = node.left'''\n",
    "    \n",
    "        \n",
    "    \n",
    "                       "
   ]
  },
  {
   "cell_type": "code",
   "execution_count": 9,
   "metadata": {},
   "outputs": [
    {
     "name": "stdout",
     "output_type": "stream",
     "text": [
      "Root Node Value: 24\n",
      "\n",
      "l_child:47\n",
      "r_child:49\n",
      "\n",
      "Node: 47\n",
      "Child One: 21\n",
      "Child Two: 59\n",
      "\n",
      "Node: 21\n",
      "Child One: 32\n",
      "Child Two: 41\n",
      "\n",
      "Node: 49\n",
      "Child One: 52\n",
      "Child Two: 20\n",
      "\n",
      "Node: 52\n",
      "Child One: 96\n",
      "Child Two: 7\n",
      "\n",
      "Node: 47\n",
      "Child One: 21\n",
      "Child Two: 59\n",
      "\n",
      "Node: 59\n",
      "Child One: 60\n",
      "Child Two: 93\n",
      "\n",
      "Node: 49\n",
      "Child One: 52\n",
      "Child Two: 20\n",
      "\n",
      "Node: 20\n",
      "Child One: 55\n",
      "Child Two: 99\n",
      "\n"
     ]
    }
   ],
   "source": [
    "trav_tree(root)"
   ]
  },
  {
   "cell_type": "markdown",
   "metadata": {},
   "source": [
    "After progresing further in programming, updating to show how to traverse bredth first"
   ]
  },
  {
   "cell_type": "code",
   "execution_count": 15,
   "metadata": {},
   "outputs": [],
   "source": [
    "def trav_breadth(node):\n",
    "    if not node:\n",
    "        return []\n",
    "    else:\n",
    "        vals = []\n",
    "        current_level = [node]\n",
    "        while current_level:\n",
    "            next_level = []\n",
    "            for i in current_level:\n",
    "                vals.append(i.val)\n",
    "                if i.left : next_level.append(i.left)\n",
    "                if i.right : next_level.append(i.right)\n",
    "                \n",
    "            current_level = next_level\n",
    "    return vals"
   ]
  },
  {
   "cell_type": "code",
   "execution_count": 16,
   "metadata": {},
   "outputs": [
    {
     "data": {
      "text/plain": [
       "[24, 47, 49, 21, 59, 52, 20, 32, 41, 60, 93, 96, 7, 55, 99]"
      ]
     },
     "execution_count": 16,
     "metadata": {},
     "output_type": "execute_result"
    }
   ],
   "source": [
    "trav_breadth(root)"
   ]
  },
  {
   "cell_type": "code",
   "execution_count": null,
   "metadata": {},
   "outputs": [],
   "source": []
  }
 ],
 "metadata": {
  "kernelspec": {
   "display_name": "Python 3",
   "language": "python",
   "name": "python3"
  },
  "language_info": {
   "codemirror_mode": {
    "name": "ipython",
    "version": 3
   },
   "file_extension": ".py",
   "mimetype": "text/x-python",
   "name": "python",
   "nbconvert_exporter": "python",
   "pygments_lexer": "ipython3",
   "version": "3.6.9"
  }
 },
 "nbformat": 4,
 "nbformat_minor": 2
}
