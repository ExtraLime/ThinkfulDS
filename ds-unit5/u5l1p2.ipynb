{
 "cells": [
  {
   "cell_type": "code",
   "execution_count": 32,
   "metadata": {},
   "outputs": [],
   "source": [
    "import time\n",
    "import random\n",
    "\n",
    "# Set seed.\n",
    "random.seed(a=100)\n",
    "\n",
    "# Create our default list.\n",
    "short_list = list(random.sample(range(1000000), 10))\n",
    "long_list = list(random.sample(range(1000000), 10000))"
   ]
  },
  {
   "cell_type": "code",
   "execution_count": 36,
   "metadata": {},
   "outputs": [],
   "source": [
    "#Bubble sort \n",
    "def bubble(lst):   \n",
    "    \n",
    "    if len(lst) == 0:\n",
    "        return 'Try another list'    \n",
    "    print('List Before sort :{}'.format(lst[:10]))    \n",
    "    for i in range(len((lst))-1,0,-1):            \n",
    "        for j in range(i):   \n",
    "            #swap places if item is larger than next item\n",
    "            if lst[j] > lst[j+1]:            \n",
    "                temp = lst[j]                \n",
    "                lst[j] = lst[j+1]\n",
    "                lst[j+1] = temp\n",
    "        return \"List after: {}\".format(lst[:10])\n",
    "\n",
    "    "
   ]
  },
  {
   "cell_type": "code",
   "execution_count": 39,
   "metadata": {},
   "outputs": [
    {
     "name": "stdout",
     "output_type": "stream",
     "text": [
      "List Before sort :[152745, 477025, 477025, 808225, 183236, 739784, 412125, 767514, 366725, 997948]\n",
      "Time:0.00018167495727539062\n"
     ]
    }
   ],
   "source": [
    "t1 = time.time()\n",
    "bubble(short_list)\n",
    "print('Time:{}'.format(time.time()-t1))"
   ]
  },
  {
   "cell_type": "code",
   "execution_count": 40,
   "metadata": {},
   "outputs": [
    {
     "name": "stdout",
     "output_type": "stream",
     "text": [
      "List Before sort :[454572, 531486, 838882, 115311, 558787, 127204, 84047, 772497, 478093, 276212]\n",
      "Time:0.0044574737548828125\n"
     ]
    }
   ],
   "source": [
    "t1 = time.time()\n",
    "bubble(long_list)\n",
    "print('Time:{}'.format(time.time()-t1))"
   ]
  },
  {
   "cell_type": "code",
   "execution_count": 42,
   "metadata": {},
   "outputs": [],
   "source": [
    "#its quick\n",
    "l_list = long_list = list(random.sample(range(1000000), 1000000))"
   ]
  },
  {
   "cell_type": "code",
   "execution_count": 44,
   "metadata": {},
   "outputs": [
    {
     "name": "stdout",
     "output_type": "stream",
     "text": [
      "List Before sort :[158968, 271434, 142308, 484317, 322428, 393382, 203147, 966692, 734720, 820597]\n",
      "Time:0.40315794944763184\n"
     ]
    }
   ],
   "source": [
    "t1 = time.time()\n",
    "bubble(l_list)\n",
    "print('Time:{}'.format(time.time()-t1))"
   ]
  },
  {
   "cell_type": "code",
   "execution_count": null,
   "metadata": {},
   "outputs": [],
   "source": []
  }
 ],
 "metadata": {
  "kernelspec": {
   "display_name": "Python 3",
   "language": "python",
   "name": "python3"
  },
  "language_info": {
   "codemirror_mode": {
    "name": "ipython",
    "version": 3
   },
   "file_extension": ".py",
   "mimetype": "text/x-python",
   "name": "python",
   "nbconvert_exporter": "python",
   "pygments_lexer": "ipython3",
   "version": "3.6.0"
  }
 },
 "nbformat": 4,
 "nbformat_minor": 2
}
