{
 "cells": [
  {
   "cell_type": "code",
   "execution_count": 3,
   "metadata": {},
   "outputs": [],
   "source": [
    "import numpy as np\n",
    "import pandas as pd\n",
    "import matplotlib.pyplot as plt\n",
    "import scipy\n",
    "import seaborn as sns\n",
    "%matplotlib inline\n",
    "import warnings\n",
    "from sklearn.feature_selection import RFECV\n",
    "\n",
    "warnings.filterwarnings(\n",
    "    module='scipy',\n",
    "    action='ignore',\n",
    "    message='Using a'\n",
    "    )"
   ]
  },
  {
   "cell_type": "code",
   "execution_count": 4,
   "metadata": {},
   "outputs": [],
   "source": [
    "raw = pd.read_csv('epi_r.csv')"
   ]
  },
  {
   "cell_type": "code",
   "execution_count": 5,
   "metadata": {},
   "outputs": [
    {
     "data": {
      "image/png": "[encoded data removed]",
      "text/plain": [
       "<Figure size 432x288 with 1 Axes>"
      ]
     },
     "metadata": {},
     "output_type": "display_data"
    }
   ],
   "source": [
    "#Chisel the features down to 30 and convert the rating out come into a binary\n",
    "\n",
    "#fist, look at the out come variable we need to make binary:\n",
    "g = sns.distplot(raw.rating,kde=False)\n",
    "plt.title('Recpice Ratings Distribution')\n",
    "plt.show()"
   ]
  },
  {
   "cell_type": "markdown",
   "metadata": {},
   "source": [
    "I want to separate the data a 4 rating and up. The indicator will be 'highly rated' vs 'not highly rated'\n",
    "First, I want to explore the data a bit more"
   ]
  },
  {
   "cell_type": "code",
   "execution_count": 6,
   "metadata": {},
   "outputs": [
    {
     "data": {
      "text/plain": [
       "count    20052.000000\n",
       "mean         3.714467\n",
       "std          1.340829\n",
       "min          0.000000\n",
       "25%          3.750000\n",
       "50%          4.375000\n",
       "75%          4.375000\n",
       "max          5.000000\n",
       "Name: rating, dtype: float64"
      ]
     },
     "execution_count": 6,
     "metadata": {},
     "output_type": "execute_result"
    }
   ],
   "source": [
    "raw.rating.describe()"
   ]
  },
  {
   "cell_type": "code",
   "execution_count": 7,
   "metadata": {
    "scrolled": true
   },
   "outputs": [
    {
     "data": {
      "text/plain": [
       "Index(['calories', 'protein', 'fat', 'sodium'], dtype='object')"
      ]
     },
     "execution_count": 7,
     "metadata": {},
     "output_type": "execute_result"
    }
   ],
   "source": [
    "null = raw.isnull().sum()\n",
    "null[null>0].index"
   ]
  },
  {
   "cell_type": "code",
   "execution_count": 8,
   "metadata": {},
   "outputs": [
    {
     "data": {
      "text/plain": [
       "(20052, 680)"
      ]
     },
     "execution_count": 8,
     "metadata": {},
     "output_type": "execute_result"
    }
   ],
   "source": [
    "raw.shape"
   ]
  },
  {
   "cell_type": "code",
   "execution_count": 9,
   "metadata": {},
   "outputs": [],
   "source": [
    "raw = raw.drop(['calories', 'protein', 'fat', 'sodium'],1)"
   ]
  },
  {
   "cell_type": "code",
   "execution_count": 10,
   "metadata": {},
   "outputs": [
    {
     "data": {
      "text/plain": [
       "title               object\n",
       "rating             float64\n",
       "#cakeweek          float64\n",
       "#wasteless         float64\n",
       "22-minute meals    float64\n",
       "dtype: object"
      ]
     },
     "execution_count": 10,
     "metadata": {},
     "output_type": "execute_result"
    }
   ],
   "source": [
    "raw.dtypes.head()"
   ]
  },
  {
   "cell_type": "code",
   "execution_count": 11,
   "metadata": {},
   "outputs": [
    {
     "data": {
      "text/plain": [
       "3.714467384799521"
      ]
     },
     "execution_count": 11,
     "metadata": {},
     "output_type": "execute_result"
    }
   ],
   "source": [
    "#see which ingredients are used the most\n",
    "cols = []\n",
    "usage = []\n",
    "#append attribute names and the percentage used in the data\n",
    "for col in raw.select_dtypes(include=['float64']):\n",
    "    cols.append(col)\n",
    "    usage.append(raw[col].mean())\n",
    "#pop the 'rating' entry out for plotting purposes'\n",
    "cols.pop(0)\n",
    "usage.pop(0)"
   ]
  },
  {
   "cell_type": "code",
   "execution_count": 12,
   "metadata": {},
   "outputs": [
    {
     "data": {
      "image/png": "[encoded data removed]",
      "text/plain": [
       "<Figure size 648x432 with 1 Axes>"
      ]
     },
     "metadata": {},
     "output_type": "display_data"
    }
   ],
   "source": [
    "#ingreds = pd.DataFrame()\n",
    "#ingreds['col'] = cols\n",
    "#ingreds['usage'] = usage\n",
    "ingreds = pd.DataFrame(\n",
    "    sorted(zip(map(lambda x: round(x, 4), usage), \n",
    "               cols), reverse=True))\n",
    "ingreds[0] = ingreds[0]*100\n",
    "g = plt.figure(figsize=(9,6))\n",
    "g = sns.distplot(ingreds[0],bins=100,kde=False)\n",
    "plt.ylim(0,100)\n",
    "plt.xlabel('Percentage used')\n",
    "plt.title('Attribute by percentage present')\n",
    "plt.show()\n",
    "\n"
   ]
  },
  {
   "cell_type": "markdown",
   "metadata": {},
   "source": [
    "Obviously, there is a ton of noise in this data. I'm interested to see which attributes show up in over 20% of the recipes."
   ]
  },
  {
   "cell_type": "code",
   "execution_count": 13,
   "metadata": {
    "scrolled": true
   },
   "outputs": [
    {
     "data": {
      "text/html": [
       "<div>\n",
       "<style scoped>\n",
       "    .dataframe tbody tr th:only-of-type {\n",
       "        vertical-align: middle;\n",
       "    }\n",
       "\n",
       "    .dataframe tbody tr th {\n",
       "        vertical-align: top;\n",
       "    }\n",
       "\n",
       "    .dataframe thead th {\n",
       "        text-align: right;\n",
       "    }\n",
       "</style>\n",
       "<table border=\"1\" class=\"dataframe\">\n",
       "  <thead>\n",
       "    <tr style=\"text-align: right;\">\n",
       "      <th></th>\n",
       "      <th>0</th>\n",
       "      <th>1</th>\n",
       "    </tr>\n",
       "  </thead>\n",
       "  <tbody>\n",
       "    <tr>\n",
       "      <th>0</th>\n",
       "      <td>46.65</td>\n",
       "      <td>bon appétit</td>\n",
       "    </tr>\n",
       "    <tr>\n",
       "      <th>1</th>\n",
       "      <td>41.84</td>\n",
       "      <td>peanut free</td>\n",
       "    </tr>\n",
       "    <tr>\n",
       "      <th>2</th>\n",
       "      <td>40.34</td>\n",
       "      <td>soy free</td>\n",
       "    </tr>\n",
       "    <tr>\n",
       "      <th>3</th>\n",
       "      <td>35.13</td>\n",
       "      <td>tree nut free</td>\n",
       "    </tr>\n",
       "    <tr>\n",
       "      <th>4</th>\n",
       "      <td>34.14</td>\n",
       "      <td>vegetarian</td>\n",
       "    </tr>\n",
       "    <tr>\n",
       "      <th>5</th>\n",
       "      <td>33.15</td>\n",
       "      <td>gourmet</td>\n",
       "    </tr>\n",
       "    <tr>\n",
       "      <th>6</th>\n",
       "      <td>30.79</td>\n",
       "      <td>kosher</td>\n",
       "    </tr>\n",
       "    <tr>\n",
       "      <th>7</th>\n",
       "      <td>30.13</td>\n",
       "      <td>pescatarian</td>\n",
       "    </tr>\n",
       "    <tr>\n",
       "      <th>8</th>\n",
       "      <td>26.79</td>\n",
       "      <td>quick &amp; easy</td>\n",
       "    </tr>\n",
       "    <tr>\n",
       "      <th>9</th>\n",
       "      <td>24.47</td>\n",
       "      <td>wheat/gluten-free</td>\n",
       "    </tr>\n",
       "    <tr>\n",
       "      <th>10</th>\n",
       "      <td>22.01</td>\n",
       "      <td>bake</td>\n",
       "    </tr>\n",
       "    <tr>\n",
       "      <th>11</th>\n",
       "      <td>20.70</td>\n",
       "      <td>summer</td>\n",
       "    </tr>\n",
       "  </tbody>\n",
       "</table>\n",
       "</div>"
      ],
      "text/plain": [
       "        0                  1\n",
       "0   46.65        bon appétit\n",
       "1   41.84        peanut free\n",
       "2   40.34           soy free\n",
       "3   35.13      tree nut free\n",
       "4   34.14         vegetarian\n",
       "5   33.15            gourmet\n",
       "6   30.79             kosher\n",
       "7   30.13        pescatarian\n",
       "8   26.79       quick & easy\n",
       "9   24.47  wheat/gluten-free\n",
       "10  22.01               bake\n",
       "11  20.70             summer"
      ]
     },
     "execution_count": 13,
     "metadata": {},
     "output_type": "execute_result"
    }
   ],
   "source": [
    "common = ingreds[ingreds[0]>20]\n",
    "common"
   ]
  },
  {
   "cell_type": "code",
   "execution_count": 14,
   "metadata": {
    "scrolled": true
   },
   "outputs": [
    {
     "data": {
      "image/png": "[encoded data removed]",
      "text/plain": [
       "<Figure size 432x288 with 1 Axes>"
      ]
     },
     "metadata": {},
     "output_type": "display_data"
    },
    {
     "data": {
      "image/png": "[encoded data removed]",
      "text/plain": [
       "<Figure size 432x288 with 1 Axes>"
      ]
     },
     "metadata": {},
     "output_type": "display_data"
    }
   ],
   "source": [
    "g = sns.distplot(raw.loc[raw['tree nut free']==1]['rating'],kde=False)\n",
    "plt.show()\n",
    "g = sns.distplot(raw.loc[raw['bake']==1]['rating'],kde=False)\n"
   ]
  },
  {
   "cell_type": "code",
   "execution_count": 15,
   "metadata": {
    "scrolled": true
   },
   "outputs": [
    {
     "data": {
      "image/png": "[encoded data removed]",
      "text/plain": [
       "<Figure size 648x432 with 1 Axes>"
      ]
     },
     "metadata": {},
     "output_type": "display_data"
    },
    {
     "data": {
      "image/png": "[encoded data removed]",
      "text/plain": [
       "<Figure size 648x432 with 1 Axes>"
      ]
     },
     "metadata": {},
     "output_type": "display_data"
    },
    {
     "data": {
      "image/png": "[encoded data removed]",
      "text/plain": [
       "<Figure size 648x432 with 1 Axes>"
      ]
     },
     "metadata": {},
     "output_type": "display_data"
    },
    {
     "data": {
      "image/png": "[encoded data removed]",
      "text/plain": [
       "<Figure size 648x432 with 1 Axes>"
      ]
     },
     "metadata": {},
     "output_type": "display_data"
    },
    {
     "data": {
      "image/png": "[encoded data removed]",
      "text/plain": [
       "<Figure size 648x432 with 1 Axes>"
      ]
     },
     "metadata": {},
     "output_type": "display_data"
    },
    {
     "data": {
      "image/png": "[encoded data removed]",
      "text/plain": [
       "<Figure size 648x432 with 1 Axes>"
      ]
     },
     "metadata": {},
     "output_type": "display_data"
    },
    {
     "data": {
      "image/png": "[encoded data removed]",
      "text/plain": [
       "<Figure size 648x432 with 1 Axes>"
      ]
     },
     "metadata": {},
     "output_type": "display_data"
    },
    {
     "data": {
      "image/png": "[encoded data removed]",
      "text/plain": [
       "<Figure size 648x432 with 1 Axes>"
      ]
     },
     "metadata": {},
     "output_type": "display_data"
    },
    {
     "data": {
      "image/png": "[encoded data removed]",
      "text/plain": [
       "<Figure size 648x432 with 1 Axes>"
      ]
     },
     "metadata": {},
     "output_type": "display_data"
    },
    {
     "data": {
      "image/png": "[encoded data removed]",
      "text/plain": [
       "<Figure size 648x432 with 1 Axes>"
      ]
     },
     "metadata": {},
     "output_type": "display_data"
    },
    {
     "data": {
      "image/png": "[encoded data removed]",
      "text/plain": [
       "<Figure size 648x432 with 1 Axes>"
      ]
     },
     "metadata": {},
     "output_type": "display_data"
    },
    {
     "data": {
      "image/png": "[encoded data removed]",
      "text/plain": [
       "<Figure size 648x432 with 1 Axes>"
      ]
     },
     "metadata": {},
     "output_type": "display_data"
    }
   ],
   "source": [
    "#we can see that not one of these attributes are an ingredient...\n",
    "#view their relationship to the target variable\n",
    "#bon appetit seems like it would lean towards a high rating\n",
    "\n",
    "plotdf = raw.copy()\n",
    "plotdf.rating = np.where(plotdf['rating']>4,1,0)\n",
    "for col in common[1]:   \n",
    "    pdf = pd.DataFrame()\n",
    "    pdf[\"g_att\"] = plotdf.loc[plotdf[col]==1][col]\n",
    "    pdf['rate'] = plotdf.loc[plotdf[col]==1]['rating']\n",
    "    g = plt.figure(figsize=(9,6))\n",
    "    g = sns.barplot(x=plotdf[col],y=raw['rating'],palette='Blues_d')\n",
    "    plt.title('Rating Distribution, {}'.format(col))\n",
    "    plt.show()"
   ]
  },
  {
   "cell_type": "markdown",
   "metadata": {},
   "source": [
    "out of these 'common' attributes, the only one that stands out is bon appetit. Also, these seems to be categories of food and not ingredients, the ratings would be biased...people who love soy-free are more likely to rate the soy-free recipe...anyway."
   ]
  },
  {
   "cell_type": "code",
   "execution_count": 16,
   "metadata": {
    "scrolled": false
   },
   "outputs": [
    {
     "name": "stdout",
     "output_type": "stream",
     "text": [
      "(675, 675)\n"
     ]
    },
    {
     "data": {
      "image/png": "[encoded data removed]",
      "text/plain": [
       "<Figure size 432x288 with 1 Axes>"
      ]
     },
     "metadata": {},
     "output_type": "display_data"
    },
    {
     "data": {
      "text/html": [
       "<div>\n",
       "<style scoped>\n",
       "    .dataframe tbody tr th:only-of-type {\n",
       "        vertical-align: middle;\n",
       "    }\n",
       "\n",
       "    .dataframe tbody tr th {\n",
       "        vertical-align: top;\n",
       "    }\n",
       "\n",
       "    .dataframe thead th {\n",
       "        text-align: right;\n",
       "    }\n",
       "</style>\n",
       "<table border=\"1\" class=\"dataframe\">\n",
       "  <thead>\n",
       "    <tr style=\"text-align: right;\">\n",
       "      <th></th>\n",
       "      <th>level_0</th>\n",
       "      <th>level_1</th>\n",
       "      <th>0</th>\n",
       "    </tr>\n",
       "  </thead>\n",
       "  <tbody>\n",
       "    <tr>\n",
       "      <th>388579</th>\n",
       "      <td>soy free</td>\n",
       "      <td>peanut free</td>\n",
       "      <td>0.940721</td>\n",
       "    </tr>\n",
       "    <tr>\n",
       "      <th>307025</th>\n",
       "      <td>peanut free</td>\n",
       "      <td>soy free</td>\n",
       "      <td>0.940721</td>\n",
       "    </tr>\n",
       "    <tr>\n",
       "      <th>312836</th>\n",
       "      <td>pescatarian</td>\n",
       "      <td>kosher</td>\n",
       "      <td>0.871690</td>\n",
       "    </tr>\n",
       "    <tr>\n",
       "      <th>210388</th>\n",
       "      <td>kosher</td>\n",
       "      <td>pescatarian</td>\n",
       "      <td>0.871690</td>\n",
       "    </tr>\n",
       "    <tr>\n",
       "      <th>126234</th>\n",
       "      <td>drink</td>\n",
       "      <td>alcoholic</td>\n",
       "      <td>0.851944</td>\n",
       "    </tr>\n",
       "    <tr>\n",
       "      <th>6262</th>\n",
       "      <td>alcoholic</td>\n",
       "      <td>drink</td>\n",
       "      <td>0.851944</td>\n",
       "    </tr>\n",
       "    <tr>\n",
       "      <th>422329</th>\n",
       "      <td>tree nut free</td>\n",
       "      <td>peanut free</td>\n",
       "      <td>0.829673</td>\n",
       "    </tr>\n",
       "    <tr>\n",
       "      <th>307075</th>\n",
       "      <td>peanut free</td>\n",
       "      <td>tree nut free</td>\n",
       "      <td>0.829673</td>\n",
       "    </tr>\n",
       "    <tr>\n",
       "      <th>288712</th>\n",
       "      <td>oregon</td>\n",
       "      <td>portland</td>\n",
       "      <td>0.829149</td>\n",
       "    </tr>\n",
       "    <tr>\n",
       "      <th>329152</th>\n",
       "      <td>portland</td>\n",
       "      <td>oregon</td>\n",
       "      <td>0.829149</td>\n",
       "    </tr>\n",
       "    <tr>\n",
       "      <th>229804</th>\n",
       "      <td>louisville</td>\n",
       "      <td>kentucky</td>\n",
       "      <td>0.816476</td>\n",
       "    </tr>\n",
       "    <tr>\n",
       "      <th>205540</th>\n",
       "      <td>kentucky</td>\n",
       "      <td>louisville</td>\n",
       "      <td>0.816476</td>\n",
       "    </tr>\n",
       "    <tr>\n",
       "      <th>422450</th>\n",
       "      <td>tree nut free</td>\n",
       "      <td>soy free</td>\n",
       "      <td>0.797465</td>\n",
       "    </tr>\n",
       "    <tr>\n",
       "      <th>388750</th>\n",
       "      <td>soy free</td>\n",
       "      <td>tree nut free</td>\n",
       "      <td>0.797465</td>\n",
       "    </tr>\n",
       "    <tr>\n",
       "      <th>454273</th>\n",
       "      <td>snack</td>\n",
       "      <td>snack week</td>\n",
       "      <td>0.780163</td>\n",
       "    </tr>\n",
       "  </tbody>\n",
       "</table>\n",
       "</div>"
      ],
      "text/plain": [
       "              level_0        level_1         0\n",
       "388579       soy free    peanut free  0.940721\n",
       "307025    peanut free       soy free  0.940721\n",
       "312836    pescatarian         kosher  0.871690\n",
       "210388         kosher    pescatarian  0.871690\n",
       "126234          drink      alcoholic  0.851944\n",
       "6262        alcoholic          drink  0.851944\n",
       "422329  tree nut free    peanut free  0.829673\n",
       "307075    peanut free  tree nut free  0.829673\n",
       "288712         oregon       portland  0.829149\n",
       "329152       portland         oregon  0.829149\n",
       "229804     louisville       kentucky  0.816476\n",
       "205540       kentucky     louisville  0.816476\n",
       "422450  tree nut free       soy free  0.797465\n",
       "388750       soy free  tree nut free  0.797465\n",
       "454273          snack     snack week  0.780163"
      ]
     },
     "execution_count": 16,
     "metadata": {},
     "output_type": "execute_result"
    }
   ],
   "source": [
    "#Look at some other correlation pairs in the data\n",
    "corrmat = raw.corr()\n",
    "print(corrmat.shape)\n",
    "c = corrmat.unstack().reset_index()\n",
    "#take a look at the distribution of the higher correlated pairs.\n",
    "c = c.loc[(c[0]!=1)&(c[0]>.50)]\n",
    "#plot a histogram\n",
    "fig = sns.distplot(c[0],kde=False,bins=50)\n",
    "plt.show()\n",
    "c.sort_values(by=0,ascending=False).head(15)"
   ]
  },
  {
   "cell_type": "code",
   "execution_count": 17,
   "metadata": {},
   "outputs": [
    {
     "data": {
      "text/html": [
       "<div>\n",
       "<style scoped>\n",
       "    .dataframe tbody tr th:only-of-type {\n",
       "        vertical-align: middle;\n",
       "    }\n",
       "\n",
       "    .dataframe tbody tr th {\n",
       "        vertical-align: top;\n",
       "    }\n",
       "\n",
       "    .dataframe thead th {\n",
       "        text-align: right;\n",
       "    }\n",
       "</style>\n",
       "<table border=\"1\" class=\"dataframe\">\n",
       "  <thead>\n",
       "    <tr style=\"text-align: right;\">\n",
       "      <th></th>\n",
       "      <th>0</th>\n",
       "      <th>1</th>\n",
       "    </tr>\n",
       "  </thead>\n",
       "  <tbody>\n",
       "    <tr>\n",
       "      <th>0</th>\n",
       "      <td>0.3037</td>\n",
       "      <td>bon appétit</td>\n",
       "    </tr>\n",
       "    <tr>\n",
       "      <th>1</th>\n",
       "      <td>0.2895</td>\n",
       "      <td>peanut free</td>\n",
       "    </tr>\n",
       "    <tr>\n",
       "      <th>2</th>\n",
       "      <td>0.2801</td>\n",
       "      <td>vegetarian</td>\n",
       "    </tr>\n",
       "    <tr>\n",
       "      <th>3</th>\n",
       "      <td>0.2801</td>\n",
       "      <td>soy free</td>\n",
       "    </tr>\n",
       "    <tr>\n",
       "      <th>4</th>\n",
       "      <td>0.2411</td>\n",
       "      <td>tree nut free</td>\n",
       "    </tr>\n",
       "    <tr>\n",
       "      <th>5</th>\n",
       "      <td>0.2345</td>\n",
       "      <td>drink</td>\n",
       "    </tr>\n",
       "    <tr>\n",
       "      <th>6</th>\n",
       "      <td>0.2293</td>\n",
       "      <td>pescatarian</td>\n",
       "    </tr>\n",
       "    <tr>\n",
       "      <th>7</th>\n",
       "      <td>0.2265</td>\n",
       "      <td>kosher</td>\n",
       "    </tr>\n",
       "    <tr>\n",
       "      <th>8</th>\n",
       "      <td>0.2213</td>\n",
       "      <td>gourmet</td>\n",
       "    </tr>\n",
       "    <tr>\n",
       "      <th>9</th>\n",
       "      <td>0.2067</td>\n",
       "      <td>wheat/gluten-free</td>\n",
       "    </tr>\n",
       "    <tr>\n",
       "      <th>10</th>\n",
       "      <td>0.1902</td>\n",
       "      <td>alcoholic</td>\n",
       "    </tr>\n",
       "    <tr>\n",
       "      <th>11</th>\n",
       "      <td>0.1770</td>\n",
       "      <td>summer</td>\n",
       "    </tr>\n",
       "    <tr>\n",
       "      <th>12</th>\n",
       "      <td>0.1709</td>\n",
       "      <td>quick &amp; easy</td>\n",
       "    </tr>\n",
       "    <tr>\n",
       "      <th>13</th>\n",
       "      <td>0.1638</td>\n",
       "      <td>dessert</td>\n",
       "    </tr>\n",
       "    <tr>\n",
       "      <th>14</th>\n",
       "      <td>0.1601</td>\n",
       "      <td>cocktail party</td>\n",
       "    </tr>\n",
       "  </tbody>\n",
       "</table>\n",
       "</div>"
      ],
      "text/plain": [
       "         0                  1\n",
       "0   0.3037        bon appétit\n",
       "1   0.2895        peanut free\n",
       "2   0.2801         vegetarian\n",
       "3   0.2801           soy free\n",
       "4   0.2411      tree nut free\n",
       "5   0.2345              drink\n",
       "6   0.2293        pescatarian\n",
       "7   0.2265             kosher\n",
       "8   0.2213            gourmet\n",
       "9   0.2067  wheat/gluten-free\n",
       "10  0.1902          alcoholic\n",
       "11  0.1770             summer\n",
       "12  0.1709       quick & easy\n",
       "13  0.1638            dessert\n",
       "14  0.1601     cocktail party"
      ]
     },
     "execution_count": 17,
     "metadata": {},
     "output_type": "execute_result"
    }
   ],
   "source": [
    "#look at all that non-sense\n",
    "#what makes for a bad recipe?\n",
    "bad = raw.loc[raw['rating']<2]\n",
    "cols = []\n",
    "usage = []\n",
    "#append attribute names and the percentage used in the data\n",
    "for col in bad.select_dtypes(include=['float64']):\n",
    "    cols.append(col)\n",
    "    usage.append(bad[col].mean())\n",
    "#pop the 'rating' entry out for plotting purposes'\n",
    "cols.pop(0)\n",
    "usage.pop(0)\n",
    "bad_atts = pd.DataFrame(\n",
    "    sorted(zip(map(lambda x: round(x, 4), usage), \n",
    "               cols), reverse=True))\n",
    "bad_atts.head(15)"
   ]
  },
  {
   "cell_type": "code",
   "execution_count": 18,
   "metadata": {},
   "outputs": [
    {
     "data": {
      "text/html": [
       "<div>\n",
       "<style scoped>\n",
       "    .dataframe tbody tr th:only-of-type {\n",
       "        vertical-align: middle;\n",
       "    }\n",
       "\n",
       "    .dataframe tbody tr th {\n",
       "        vertical-align: top;\n",
       "    }\n",
       "\n",
       "    .dataframe thead th {\n",
       "        text-align: right;\n",
       "    }\n",
       "</style>\n",
       "<table border=\"1\" class=\"dataframe\">\n",
       "  <thead>\n",
       "    <tr style=\"text-align: right;\">\n",
       "      <th></th>\n",
       "      <th>0</th>\n",
       "      <th>1</th>\n",
       "    </tr>\n",
       "  </thead>\n",
       "  <tbody>\n",
       "    <tr>\n",
       "      <th>0</th>\n",
       "      <td>0.4830</td>\n",
       "      <td>bon appétit</td>\n",
       "    </tr>\n",
       "    <tr>\n",
       "      <th>1</th>\n",
       "      <td>0.4330</td>\n",
       "      <td>peanut free</td>\n",
       "    </tr>\n",
       "    <tr>\n",
       "      <th>2</th>\n",
       "      <td>0.4172</td>\n",
       "      <td>soy free</td>\n",
       "    </tr>\n",
       "    <tr>\n",
       "      <th>3</th>\n",
       "      <td>0.3635</td>\n",
       "      <td>tree nut free</td>\n",
       "    </tr>\n",
       "    <tr>\n",
       "      <th>4</th>\n",
       "      <td>0.3502</td>\n",
       "      <td>vegetarian</td>\n",
       "    </tr>\n",
       "    <tr>\n",
       "      <th>5</th>\n",
       "      <td>0.3449</td>\n",
       "      <td>gourmet</td>\n",
       "    </tr>\n",
       "    <tr>\n",
       "      <th>6</th>\n",
       "      <td>0.3177</td>\n",
       "      <td>kosher</td>\n",
       "    </tr>\n",
       "    <tr>\n",
       "      <th>7</th>\n",
       "      <td>0.3101</td>\n",
       "      <td>pescatarian</td>\n",
       "    </tr>\n",
       "    <tr>\n",
       "      <th>8</th>\n",
       "      <td>0.2789</td>\n",
       "      <td>quick &amp; easy</td>\n",
       "    </tr>\n",
       "    <tr>\n",
       "      <th>9</th>\n",
       "      <td>0.2489</td>\n",
       "      <td>wheat/gluten-free</td>\n",
       "    </tr>\n",
       "    <tr>\n",
       "      <th>10</th>\n",
       "      <td>0.2333</td>\n",
       "      <td>bake</td>\n",
       "    </tr>\n",
       "    <tr>\n",
       "      <th>11</th>\n",
       "      <td>0.2103</td>\n",
       "      <td>summer</td>\n",
       "    </tr>\n",
       "    <tr>\n",
       "      <th>12</th>\n",
       "      <td>0.1807</td>\n",
       "      <td>dessert</td>\n",
       "    </tr>\n",
       "    <tr>\n",
       "      <th>13</th>\n",
       "      <td>0.1628</td>\n",
       "      <td>no sugar added</td>\n",
       "    </tr>\n",
       "    <tr>\n",
       "      <th>14</th>\n",
       "      <td>0.1628</td>\n",
       "      <td>dairy free</td>\n",
       "    </tr>\n",
       "  </tbody>\n",
       "</table>\n",
       "</div>"
      ],
      "text/plain": [
       "         0                  1\n",
       "0   0.4830        bon appétit\n",
       "1   0.4330        peanut free\n",
       "2   0.4172           soy free\n",
       "3   0.3635      tree nut free\n",
       "4   0.3502         vegetarian\n",
       "5   0.3449            gourmet\n",
       "6   0.3177             kosher\n",
       "7   0.3101        pescatarian\n",
       "8   0.2789       quick & easy\n",
       "9   0.2489  wheat/gluten-free\n",
       "10  0.2333               bake\n",
       "11  0.2103             summer\n",
       "12  0.1807            dessert\n",
       "13  0.1628     no sugar added\n",
       "14  0.1628         dairy free"
      ]
     },
     "execution_count": 18,
     "metadata": {},
     "output_type": "execute_result"
    }
   ],
   "source": [
    "#more nonsense. What about a good recipe?\n",
    "good = raw.loc[raw['rating']>0]\n",
    "cols = []\n",
    "usage = []\n",
    "#append attribute names and the percentage used in the data\n",
    "for col in good.select_dtypes(include=['float64']):\n",
    "    cols.append(col)\n",
    "    usage.append(good[col].mean())\n",
    "#pop the 'rating' entry out for plotting purposes'\n",
    "cols.pop(0)\n",
    "usage.pop(0)\n",
    "good_atts = pd.DataFrame(\n",
    "    sorted(zip(map(lambda x: round(x, 4), usage), \n",
    "               cols), reverse=True))\n",
    "good_atts.head(15)"
   ]
  },
  {
   "cell_type": "code",
   "execution_count": 19,
   "metadata": {},
   "outputs": [
    {
     "data": {
      "text/html": [
       "<div>\n",
       "<style scoped>\n",
       "    .dataframe tbody tr th:only-of-type {\n",
       "        vertical-align: middle;\n",
       "    }\n",
       "\n",
       "    .dataframe tbody tr th {\n",
       "        vertical-align: top;\n",
       "    }\n",
       "\n",
       "    .dataframe thead th {\n",
       "        text-align: right;\n",
       "    }\n",
       "</style>\n",
       "<table border=\"1\" class=\"dataframe\">\n",
       "  <thead>\n",
       "    <tr style=\"text-align: right;\">\n",
       "      <th></th>\n",
       "      <th>0</th>\n",
       "      <th>1</th>\n",
       "    </tr>\n",
       "  </thead>\n",
       "  <tbody>\n",
       "    <tr>\n",
       "      <th>26</th>\n",
       "      <td>9.95</td>\n",
       "      <td>milk/cream</td>\n",
       "    </tr>\n",
       "    <tr>\n",
       "      <th>27</th>\n",
       "      <td>9.76</td>\n",
       "      <td>fruit</td>\n",
       "    </tr>\n",
       "    <tr>\n",
       "      <th>28</th>\n",
       "      <td>9.23</td>\n",
       "      <td>vegan</td>\n",
       "    </tr>\n",
       "    <tr>\n",
       "      <th>29</th>\n",
       "      <td>8.93</td>\n",
       "      <td>kid-friendly</td>\n",
       "    </tr>\n",
       "    <tr>\n",
       "      <th>30</th>\n",
       "      <td>8.82</td>\n",
       "      <td>egg</td>\n",
       "    </tr>\n",
       "    <tr>\n",
       "      <th>31</th>\n",
       "      <td>8.55</td>\n",
       "      <td>spring</td>\n",
       "    </tr>\n",
       "    <tr>\n",
       "      <th>32</th>\n",
       "      <td>8.38</td>\n",
       "      <td>herb</td>\n",
       "    </tr>\n",
       "    <tr>\n",
       "      <th>33</th>\n",
       "      <td>8.19</td>\n",
       "      <td>garlic</td>\n",
       "    </tr>\n",
       "    <tr>\n",
       "      <th>34</th>\n",
       "      <td>7.56</td>\n",
       "      <td>salad</td>\n",
       "    </tr>\n",
       "    <tr>\n",
       "      <th>35</th>\n",
       "      <td>7.46</td>\n",
       "      <td>dairy</td>\n",
       "    </tr>\n",
       "    <tr>\n",
       "      <th>36</th>\n",
       "      <td>7.27</td>\n",
       "      <td>thanksgiving</td>\n",
       "    </tr>\n",
       "    <tr>\n",
       "      <th>37</th>\n",
       "      <td>6.84</td>\n",
       "      <td>appetizer</td>\n",
       "    </tr>\n",
       "    <tr>\n",
       "      <th>38</th>\n",
       "      <td>6.78</td>\n",
       "      <td>lunch</td>\n",
       "    </tr>\n",
       "    <tr>\n",
       "      <th>39</th>\n",
       "      <td>6.76</td>\n",
       "      <td>cheese</td>\n",
       "    </tr>\n",
       "    <tr>\n",
       "      <th>40</th>\n",
       "      <td>6.70</td>\n",
       "      <td>chicken</td>\n",
       "    </tr>\n",
       "    <tr>\n",
       "      <th>41</th>\n",
       "      <td>6.58</td>\n",
       "      <td>roast</td>\n",
       "    </tr>\n",
       "    <tr>\n",
       "      <th>42</th>\n",
       "      <td>6.24</td>\n",
       "      <td>no-cook</td>\n",
       "    </tr>\n",
       "    <tr>\n",
       "      <th>43</th>\n",
       "      <td>5.80</td>\n",
       "      <td>soup/stew</td>\n",
       "    </tr>\n",
       "    <tr>\n",
       "      <th>44</th>\n",
       "      <td>5.76</td>\n",
       "      <td>cocktail party</td>\n",
       "    </tr>\n",
       "    <tr>\n",
       "      <th>45</th>\n",
       "      <td>5.72</td>\n",
       "      <td>ginger</td>\n",
       "    </tr>\n",
       "    <tr>\n",
       "      <th>46</th>\n",
       "      <td>5.63</td>\n",
       "      <td>potato</td>\n",
       "    </tr>\n",
       "    <tr>\n",
       "      <th>47</th>\n",
       "      <td>5.62</td>\n",
       "      <td>chill</td>\n",
       "    </tr>\n",
       "    <tr>\n",
       "      <th>48</th>\n",
       "      <td>5.51</td>\n",
       "      <td>lemon</td>\n",
       "    </tr>\n",
       "    <tr>\n",
       "      <th>49</th>\n",
       "      <td>5.51</td>\n",
       "      <td>grill/barbecue</td>\n",
       "    </tr>\n",
       "    <tr>\n",
       "      <th>50</th>\n",
       "      <td>5.42</td>\n",
       "      <td>drink</td>\n",
       "    </tr>\n",
       "  </tbody>\n",
       "</table>\n",
       "</div>"
      ],
      "text/plain": [
       "       0               1\n",
       "26  9.95      milk/cream\n",
       "27  9.76           fruit\n",
       "28  9.23           vegan\n",
       "29  8.93    kid-friendly\n",
       "30  8.82             egg\n",
       "31  8.55          spring\n",
       "32  8.38            herb\n",
       "33  8.19          garlic\n",
       "34  7.56           salad\n",
       "35  7.46           dairy\n",
       "36  7.27    thanksgiving\n",
       "37  6.84       appetizer\n",
       "38  6.78           lunch\n",
       "39  6.76          cheese\n",
       "40  6.70         chicken\n",
       "41  6.58           roast\n",
       "42  6.24         no-cook\n",
       "43  5.80       soup/stew\n",
       "44  5.76  cocktail party\n",
       "45  5.72          ginger\n",
       "46  5.63          potato\n",
       "47  5.62           chill\n",
       "48  5.51           lemon\n",
       "49  5.51  grill/barbecue\n",
       "50  5.42           drink"
      ]
     },
     "execution_count": 19,
     "metadata": {},
     "output_type": "execute_result"
    }
   ],
   "source": [
    "#look at some sparsely used ingredients\n",
    "lesscommon = ingreds[ingreds[0]<10]\n",
    "lesscommon.head(25)"
   ]
  },
  {
   "cell_type": "code",
   "execution_count": 20,
   "metadata": {},
   "outputs": [
    {
     "name": "stderr",
     "output_type": "stream",
     "text": [
      "/root/.pyenv/versions/3.6.0/lib/python3.6/site-packages/sklearn/ensemble/weight_boosting.py:29: DeprecationWarning: numpy.core.umath_tests is an internal NumPy module and should not be imported. It will be removed in a future NumPy release.\n",
      "  from numpy.core.umath_tests import inner1d\n"
     ]
    }
   ],
   "source": [
    "#these are more of hte kinds of features i am interested in.\n",
    "#lets ask random forest what it thinks the features should be.\n",
    "from sklearn import ensemble\n",
    "from sklearn.ensemble import RandomForestRegressor\n",
    "from sklearn.model_selection import cross_val_score\n",
    "rfc = ensemble.RandomForestClassifier(n_estimators=100)"
   ]
  },
  {
   "cell_type": "code",
   "execution_count": 21,
   "metadata": {
    "scrolled": true
   },
   "outputs": [
    {
     "data": {
      "text/plain": [
       "\"Y = plotdf.rating\\n\\nX = raw.drop(['rating','title'],1)\\nrfc.fit(X,Y)\\nprint(rfc.score(X,Y))\\n\\nprint(cross_val_score(rfc,X,Y,cv=5))\\n#This time capture output into a dataframe for easier veiwing\\nfeature_sigs = pd.DataFrame(\\n    sorted(zip(map(lambda x: round(x, 4), rfc.feature_importances_), \\n               X.columns), reverse=True))\\nfeature_sigs.rename(columns={0:'sig',1:'feature'},inplace=True)#rename int columns\\nfeature_sigs.head(30)\""
      ]
     },
     "execution_count": 21,
     "metadata": {},
     "output_type": "execute_result"
    }
   ],
   "source": [
    "'''Y = plotdf.rating\n",
    "\n",
    "X = raw.drop(['rating','title'],1)\n",
    "rfc.fit(X,Y)\n",
    "print(rfc.score(X,Y))\n",
    "\n",
    "print(cross_val_score(rfc,X,Y,cv=5))\n",
    "#This time capture output into a dataframe for easier veiwing\n",
    "feature_sigs = pd.DataFrame(\n",
    "    sorted(zip(map(lambda x: round(x, 4), rfc.feature_importances_), \n",
    "               X.columns), reverse=True))\n",
    "feature_sigs.rename(columns={0:'sig',1:'feature'},inplace=True)#rename int columns\n",
    "feature_sigs.head(30)'''"
   ]
  },
  {
   "cell_type": "code",
   "execution_count": 22,
   "metadata": {},
   "outputs": [
    {
     "data": {
      "text/plain": [
       "'#use the last 300\\nlast300 = feature_sigs.feature.tail(300)\\nlast300 = raw[last300]'"
      ]
     },
     "execution_count": 22,
     "metadata": {},
     "output_type": "execute_result"
    }
   ],
   "source": [
    "'''#use the last 300\n",
    "last300 = feature_sigs.feature.tail(300)\n",
    "last300 = raw[last300]'''"
   ]
  },
  {
   "cell_type": "code",
   "execution_count": 23,
   "metadata": {},
   "outputs": [
    {
     "data": {
      "text/plain": [
       "'first100 = feature_sigs.feature.head(100)\\nfirst100 = raw[first100]\\nlist(first100)'"
      ]
     },
     "execution_count": 23,
     "metadata": {},
     "output_type": "execute_result"
    }
   ],
   "source": [
    "'''first100 = feature_sigs.feature.head(100)\n",
    "first100 = raw[first100]\n",
    "list(first100)'''"
   ]
  },
  {
   "cell_type": "code",
   "execution_count": 25,
   "metadata": {},
   "outputs": [
    {
     "data": {
      "text/plain": [
       "'corrmat = last300.corr()\\nprint(corrmat.shape)\\nc = corrmat.unstack().reset_index()\\n#take a look at the distribution of the higher correlated pairs.\\nc = c.loc[(c[0]!=1)&(c[0]>.50)]\\n#plot a histogram\\nfig = sns.distplot(c[0],kde=False,bins=50)\\nplt.show()\\nc.sort_values(by=0,ascending=False).head(15)'"
      ]
     },
     "execution_count": 25,
     "metadata": {},
     "output_type": "execute_result"
    }
   ],
   "source": [
    "'''corrmat = last300.corr()\n",
    "print(corrmat.shape)\n",
    "c = corrmat.unstack().reset_index()\n",
    "#take a look at the distribution of the higher correlated pairs.\n",
    "c = c.loc[(c[0]!=1)&(c[0]>.50)]\n",
    "#plot a histogram\n",
    "fig = sns.distplot(c[0],kde=False,bins=50)\n",
    "plt.show()\n",
    "c.sort_values(by=0,ascending=False).head(15)'''"
   ]
  },
  {
   "cell_type": "code",
   "execution_count": 26,
   "metadata": {},
   "outputs": [
    {
     "data": {
      "text/plain": [
       "'Y = Y\\nX = first100\\nrfc.fit(X,Y)\\nprint(rfc.score(X,Y))\\n\\nprint(cross_val_score(rfc,X,Y,cv=5))'"
      ]
     },
     "execution_count": 26,
     "metadata": {},
     "output_type": "execute_result"
    }
   ],
   "source": [
    "'''Y = Y\n",
    "X = first100\n",
    "rfc.fit(X,Y)\n",
    "print(rfc.score(X,Y))\n",
    "\n",
    "print(cross_val_score(rfc,X,Y,cv=5))'''"
   ]
  },
  {
   "cell_type": "code",
   "execution_count": 34,
   "metadata": {},
   "outputs": [],
   "source": [
    "from sklearn.svm import SVC\n",
    "svc = SVC(kernel='linear')\n",
    "#svc.fit(X,Y)\n",
    "#svc.score(X,Y)"
   ]
  },
  {
   "cell_type": "code",
   "execution_count": 28,
   "metadata": {},
   "outputs": [
    {
     "data": {
      "text/plain": [
       "\"#So far the model is terrible.\\nfrom sklearn.feature_selection import VarianceThreshold\\nY = np.where(raw.rating >4,1,0)\\nX = raw.drop(['title','rating'],1)\\nfeat_sel = VarianceThreshold(threshold=(.2 * (1 - .2)))\\nX = feat_sel.fit_transform(X)\""
      ]
     },
     "execution_count": 28,
     "metadata": {},
     "output_type": "execute_result"
    }
   ],
   "source": [
    "'''#So far the model is terrible.\n",
    "from sklearn.feature_selection import VarianceThreshold\n",
    "Y = np.where(raw.rating >4,1,0)\n",
    "X = raw.drop(['title','rating'],1)\n",
    "feat_sel = VarianceThreshold(threshold=(.2 * (1 - .2)))\n",
    "X = feat_sel.fit_transform(X)'''"
   ]
  },
  {
   "cell_type": "code",
   "execution_count": 29,
   "metadata": {},
   "outputs": [
    {
     "data": {
      "text/plain": [
       "'print(X.shape)\\nfeat_sel.get_params()'"
      ]
     },
     "execution_count": 29,
     "metadata": {},
     "output_type": "execute_result"
    }
   ],
   "source": [
    "'''print(X.shape)\n",
    "feat_sel.get_params()'''"
   ]
  },
  {
   "cell_type": "code",
   "execution_count": 30,
   "metadata": {
    "scrolled": true
   },
   "outputs": [
    {
     "data": {
      "text/plain": [
       "'svc.fit(X,Y)\\nsvc.score(X,Y)'"
      ]
     },
     "execution_count": 30,
     "metadata": {},
     "output_type": "execute_result"
    }
   ],
   "source": [
    "'''svc.fit(X,Y)\n",
    "svc.score(X,Y)'''"
   ]
  },
  {
   "cell_type": "code",
   "execution_count": 31,
   "metadata": {},
   "outputs": [],
   "source": [
    "#interesting that you only lose 4% accuracy by removing all but 12 attributes"
   ]
  },
  {
   "cell_type": "code",
   "execution_count": 36,
   "metadata": {},
   "outputs": [],
   "source": [
    "X = raw.drop(['title','rating'],1)\n",
    "Y = np.where(raw.rating >4,1,0)\n",
    "\n",
    "# Create the RFE object and compute a cross-validated score.\n",
    "#svc = SVC(kernel=\"rbf\")\n",
    "# The \"accuracy\" scoring is proportional to the number of correct\n",
    "# classifications\n",
    "#svc.fit(X,Y)"
   ]
  },
  {
   "cell_type": "code",
   "execution_count": 37,
   "metadata": {},
   "outputs": [
    {
     "name": "stdout",
     "output_type": "stream",
     "text": [
      "Optimal number of features : 644\n"
     ]
    },
    {
     "data": {
      "image/png": "[encoded data removed]",
      "text/plain": [
       "<Figure size 432x288 with 1 Axes>"
      ]
     },
     "metadata": {},
     "output_type": "display_data"
    }
   ],
   "source": [
    "rfecv = RFECV(estimator=svc, step=10, cv=2,\n",
    "              scoring='accuracy')\n",
    "rfecv.fit(X, Y)\n",
    "\n",
    "print(\"Optimal number of features : %d\" % rfecv.n_features_)\n",
    "\n",
    "# Plot number of features VS. cross-validation scores\n",
    "plt.figure()\n",
    "plt.xlabel(\"Number of features selected\")\n",
    "plt.ylabel(\"Cross validation score (nb of correct classifications)\")\n",
    "plt.plot(range(1, len(rfecv.grid_scores_) + 1), rfecv.grid_scores_)\n",
    "plt.show()"
   ]
  },
  {
   "cell_type": "code",
   "execution_count": null,
   "metadata": {},
   "outputs": [],
   "source": []
  }
 ],
 "metadata": {
  "kernelspec": {
   "display_name": "Python 3",
   "language": "python",
   "name": "python3"
  },
  "language_info": {
   "codemirror_mode": {
    "name": "ipython",
    "version": 3
   },
   "file_extension": ".py",
   "mimetype": "text/x-python",
   "name": "python",
   "nbconvert_exporter": "python",
   "pygments_lexer": "ipython3",
   "version": "3.6.0"
  }
 },
 "nbformat": 4,
 "nbformat_minor": 2
}
