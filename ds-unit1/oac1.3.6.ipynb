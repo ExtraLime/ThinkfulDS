{
 "cells": [
  {
   "cell_type": "code",
   "execution_count": 18,
   "metadata": {},
   "outputs": [
    {
     "name": "stdout",
     "output_type": "stream",
     "text": [
      "plos one                           199\n",
      "journal of biological chemistry     53\n",
      "neuroimage                          29\n",
      "plos pathogens                      24\n",
      "plos genetics                       24\n",
      "Name: Journal title, dtype: int64\n",
      "plos one                           198\n",
      "journal of biological chemistry     53\n",
      "neuroimage                          29\n",
      "plos pathogens                      24\n",
      "plos genetics                       24\n",
      "Name: Journal title, dtype: int64\n",
      "plos one                           198\n",
      "journal of biological chemistry     53\n",
      "neuroimage                          29\n",
      "plos pathogens                      24\n",
      "plos genetics                       24\n",
      "Name: Journal title, dtype: int64\n",
      "plos one                           198\n",
      "journal of biological chemistry     53\n",
      "neuroimage                          29\n",
      "plos pathogens                      24\n",
      "plos genetics                       24\n",
      "Name: Journal title, dtype: int64\n",
      "plos one                           198\n",
      "journal of biological chemistry     53\n",
      "neuroimage                          29\n",
      "plos pathogens                      24\n",
      "plos genetics                       24\n",
      "Name: Journal title, dtype: int64\n",
      "plos one                           190\n",
      "journal of biological chemistry     52\n",
      "neuroimage                          29\n",
      "nucleic acids research              23\n",
      "plos genetics                       22\n",
      "Name: Journal title, dtype: int64\n"
     ]
    }
   ],
   "source": [
    "import pandas as pd\n",
    "import re\n",
    "import statistics as st\n",
    "\n",
    "#Function for easy organization of info\n",
    "#NOTE THIS IS THE CLEAN(ER) SCRIPT, FOR THE EVOLUTION SEE 'wellcomedataexplore.ipynb'\n",
    "def summary(cost):\n",
    "    df1 = pd.DataFrame()\n",
    "    df1['cost'] = cost  \n",
    "    mean = sum(df1['cost']) / len(df1['cost'])\n",
    "    median = st.median(df1['cost'])           \n",
    "    v = df1['cost'].var()\n",
    "    s = v ** 0.5\n",
    "    df2 = pd.DataFrame()\n",
    "    df2[\"Values\"] = [\"%.2f\" %mean, median,\"%.2f\" %v, s]\n",
    "    df2.index = ['Mean', 'Median', 'Variance', 'Std Dev']   \n",
    "    return df2\n",
    "#import CSV with Encoding \"ISO-8859-1\" to control for '£'\n",
    "df = pd.read_csv('WELLCOME_APCspend2013_forThinkful.csv', encoding = \"ISO-8859-1\")\n",
    "#set the entire DF to lowercase\n",
    "df = df.apply(lambda x: x.astype(str).str.lower())\n",
    "#correct obvious matching journals\n",
    "df['Journal title'] = df['Journal title'].replace('plosone', 'plos one')\n",
    "print(df['Journal title'].value_counts().head(5))\n",
    "#drop duplicate articles\n",
    "df = df.drop_duplicates('Article title')\n",
    "print(df['Journal title'].value_counts().head(5))\n",
    "#remove the '£' sign\n",
    "df['COST (£) charged to Wellcome (inc VAT when charged)'] = df['COST (£) charged to Wellcome (inc VAT when charged)'].str[1:]\n",
    "#replace '$' with '' for price of plospath\n",
    "print(df['Journal title'].value_counts().head(5))\n",
    "df['COST (£) charged to Wellcome (inc VAT when charged)'] = df['COST (£) charged to Wellcome (inc VAT when charged)'].str.replace('$', '')\n",
    "#convert clean prices from object to numeric\n",
    "print(df['Journal title'].value_counts().head(5))\n",
    "df['COST (£) charged to Wellcome (inc VAT when charged)'] = df['COST (£) charged to Wellcome (inc VAT when charged)'].apply(pd.to_numeric, errors='ignore')\n",
    "#remove million dollar entries\n",
    "print(df['Journal title'].value_counts().head(5))\n",
    "df = df.loc[df['COST (£) charged to Wellcome (inc VAT when charged)'] != 999999.00]\n",
    "#check top 5 journals\n",
    "print(df['Journal title'].value_counts().head(5))\n",
    "#create price series for the 5 most common journals\n",
    "nar =  pd.Series(df.loc[(df['Journal title'] == 'nucleic acids research'), 'COST (£) charged to Wellcome (inc VAT when charged)'])\n",
    "plosone = pd.Series(df.loc[(df['Journal title'] == 'plos one'), 'COST (£) charged to Wellcome (inc VAT when charged)'])\n",
    "jobc = pd.Series(df.loc[(df['Journal title'] == 'journal of biological chemistry'), 'COST (£) charged to Wellcome (inc VAT when charged)'])\n",
    "ni =  pd.Series(df.loc[(df['Journal title'] == 'neuroimage'), 'COST (£) charged to Wellcome (inc VAT when charged)'])\n",
    "plosgen =  pd.Series(df.loc[(df['Journal title'] == 'plos genetics'), 'COST (£) charged to Wellcome (inc VAT when charged)'])\n",
    "#use the Series name as argument for summary function. ex: 'summary(plosone)'"
   ]
  },
  {
   "cell_type": "code",
   "execution_count": 19,
   "metadata": {},
   "outputs": [
    {
     "name": "stdout",
     "output_type": "stream",
     "text": [
      "PloS One\n"
     ]
    },
    {
     "data": {
      "text/html": [
       "<div>\n",
       "<style scoped>\n",
       "    .dataframe tbody tr th:only-of-type {\n",
       "        vertical-align: middle;\n",
       "    }\n",
       "\n",
       "    .dataframe tbody tr th {\n",
       "        vertical-align: top;\n",
       "    }\n",
       "\n",
       "    .dataframe thead th {\n",
       "        text-align: right;\n",
       "    }\n",
       "</style>\n",
       "<table border=\"1\" class=\"dataframe\">\n",
       "  <thead>\n",
       "    <tr style=\"text-align: right;\">\n",
       "      <th></th>\n",
       "      <th>Values</th>\n",
       "    </tr>\n",
       "  </thead>\n",
       "  <tbody>\n",
       "    <tr>\n",
       "      <th>Mean</th>\n",
       "      <td>1941.48</td>\n",
       "    </tr>\n",
       "    <tr>\n",
       "      <th>Median</th>\n",
       "      <td>895.515</td>\n",
       "    </tr>\n",
       "    <tr>\n",
       "      <th>Variance</th>\n",
       "      <td>193479644.81</td>\n",
       "    </tr>\n",
       "    <tr>\n",
       "      <th>Std Dev</th>\n",
       "      <td>13909.7</td>\n",
       "    </tr>\n",
       "  </tbody>\n",
       "</table>\n",
       "</div>"
      ],
      "text/plain": [
       "                Values\n",
       "Mean           1941.48\n",
       "Median         895.515\n",
       "Variance  193479644.81\n",
       "Std Dev        13909.7"
      ]
     },
     "execution_count": 19,
     "metadata": {},
     "output_type": "execute_result"
    }
   ],
   "source": [
    "print(\"PloS One\")\n",
    "summary(plosone)"
   ]
  },
  {
   "cell_type": "code",
   "execution_count": 20,
   "metadata": {},
   "outputs": [
    {
     "name": "stdout",
     "output_type": "stream",
     "text": [
      "Journal of Bio Chem\n"
     ]
    },
    {
     "data": {
      "text/html": [
       "<div>\n",
       "<style scoped>\n",
       "    .dataframe tbody tr th:only-of-type {\n",
       "        vertical-align: middle;\n",
       "    }\n",
       "\n",
       "    .dataframe tbody tr th {\n",
       "        vertical-align: top;\n",
       "    }\n",
       "\n",
       "    .dataframe thead th {\n",
       "        text-align: right;\n",
       "    }\n",
       "</style>\n",
       "<table border=\"1\" class=\"dataframe\">\n",
       "  <thead>\n",
       "    <tr style=\"text-align: right;\">\n",
       "      <th></th>\n",
       "      <th>Values</th>\n",
       "    </tr>\n",
       "  </thead>\n",
       "  <tbody>\n",
       "    <tr>\n",
       "      <th>Mean</th>\n",
       "      <td>1423.59</td>\n",
       "    </tr>\n",
       "    <tr>\n",
       "      <th>Median</th>\n",
       "      <td>1301.14</td>\n",
       "    </tr>\n",
       "    <tr>\n",
       "      <th>Variance</th>\n",
       "      <td>169706.39</td>\n",
       "    </tr>\n",
       "    <tr>\n",
       "      <th>Std Dev</th>\n",
       "      <td>411.954</td>\n",
       "    </tr>\n",
       "  </tbody>\n",
       "</table>\n",
       "</div>"
      ],
      "text/plain": [
       "             Values\n",
       "Mean        1423.59\n",
       "Median      1301.14\n",
       "Variance  169706.39\n",
       "Std Dev     411.954"
      ]
     },
     "execution_count": 20,
     "metadata": {},
     "output_type": "execute_result"
    }
   ],
   "source": [
    "print(\"Journal of Bio Chem\")\n",
    "summary(jobc)"
   ]
  },
  {
   "cell_type": "code",
   "execution_count": 21,
   "metadata": {},
   "outputs": [
    {
     "name": "stdout",
     "output_type": "stream",
     "text": [
      "NeuroImage\n"
     ]
    },
    {
     "data": {
      "text/html": [
       "<div>\n",
       "<style scoped>\n",
       "    .dataframe tbody tr th:only-of-type {\n",
       "        vertical-align: middle;\n",
       "    }\n",
       "\n",
       "    .dataframe tbody tr th {\n",
       "        vertical-align: top;\n",
       "    }\n",
       "\n",
       "    .dataframe thead th {\n",
       "        text-align: right;\n",
       "    }\n",
       "</style>\n",
       "<table border=\"1\" class=\"dataframe\">\n",
       "  <thead>\n",
       "    <tr style=\"text-align: right;\">\n",
       "      <th></th>\n",
       "      <th>Values</th>\n",
       "    </tr>\n",
       "  </thead>\n",
       "  <tbody>\n",
       "    <tr>\n",
       "      <th>Mean</th>\n",
       "      <td>2215.17</td>\n",
       "    </tr>\n",
       "    <tr>\n",
       "      <th>Median</th>\n",
       "      <td>2326.43</td>\n",
       "    </tr>\n",
       "    <tr>\n",
       "      <th>Variance</th>\n",
       "      <td>71104.33</td>\n",
       "    </tr>\n",
       "    <tr>\n",
       "      <th>Std Dev</th>\n",
       "      <td>266.654</td>\n",
       "    </tr>\n",
       "  </tbody>\n",
       "</table>\n",
       "</div>"
      ],
      "text/plain": [
       "            Values\n",
       "Mean       2215.17\n",
       "Median     2326.43\n",
       "Variance  71104.33\n",
       "Std Dev    266.654"
      ]
     },
     "execution_count": 21,
     "metadata": {},
     "output_type": "execute_result"
    }
   ],
   "source": [
    "print(\"NeuroImage\")\n",
    "summary(ni)"
   ]
  },
  {
   "cell_type": "code",
   "execution_count": 22,
   "metadata": {},
   "outputs": [
    {
     "name": "stdout",
     "output_type": "stream",
     "text": [
      "Nucleic Acids Research\n"
     ]
    },
    {
     "data": {
      "text/html": [
       "<div>\n",
       "<style scoped>\n",
       "    .dataframe tbody tr th:only-of-type {\n",
       "        vertical-align: middle;\n",
       "    }\n",
       "\n",
       "    .dataframe tbody tr th {\n",
       "        vertical-align: top;\n",
       "    }\n",
       "\n",
       "    .dataframe thead th {\n",
       "        text-align: right;\n",
       "    }\n",
       "</style>\n",
       "<table border=\"1\" class=\"dataframe\">\n",
       "  <thead>\n",
       "    <tr style=\"text-align: right;\">\n",
       "      <th></th>\n",
       "      <th>Values</th>\n",
       "    </tr>\n",
       "  </thead>\n",
       "  <tbody>\n",
       "    <tr>\n",
       "      <th>Mean</th>\n",
       "      <td>1169.22</td>\n",
       "    </tr>\n",
       "    <tr>\n",
       "      <th>Median</th>\n",
       "      <td>852</td>\n",
       "    </tr>\n",
       "    <tr>\n",
       "      <th>Variance</th>\n",
       "      <td>206415.18</td>\n",
       "    </tr>\n",
       "    <tr>\n",
       "      <th>Std Dev</th>\n",
       "      <td>454.329</td>\n",
       "    </tr>\n",
       "  </tbody>\n",
       "</table>\n",
       "</div>"
      ],
      "text/plain": [
       "             Values\n",
       "Mean        1169.22\n",
       "Median          852\n",
       "Variance  206415.18\n",
       "Std Dev     454.329"
      ]
     },
     "execution_count": 22,
     "metadata": {},
     "output_type": "execute_result"
    }
   ],
   "source": [
    "print(\"Nucleic Acids Research\")\n",
    "summary(nar)"
   ]
  },
  {
   "cell_type": "code",
   "execution_count": 23,
   "metadata": {},
   "outputs": [
    {
     "name": "stdout",
     "output_type": "stream",
     "text": [
      "PloS Genetics\n"
     ]
    },
    {
     "data": {
      "text/html": [
       "<div>\n",
       "<style scoped>\n",
       "    .dataframe tbody tr th:only-of-type {\n",
       "        vertical-align: middle;\n",
       "    }\n",
       "\n",
       "    .dataframe tbody tr th {\n",
       "        vertical-align: top;\n",
       "    }\n",
       "\n",
       "    .dataframe thead th {\n",
       "        text-align: right;\n",
       "    }\n",
       "</style>\n",
       "<table border=\"1\" class=\"dataframe\">\n",
       "  <thead>\n",
       "    <tr style=\"text-align: right;\">\n",
       "      <th></th>\n",
       "      <th>Values</th>\n",
       "    </tr>\n",
       "  </thead>\n",
       "  <tbody>\n",
       "    <tr>\n",
       "      <th>Mean</th>\n",
       "      <td>1643.11</td>\n",
       "    </tr>\n",
       "    <tr>\n",
       "      <th>Median</th>\n",
       "      <td>1712.73</td>\n",
       "    </tr>\n",
       "    <tr>\n",
       "      <th>Variance</th>\n",
       "      <td>23521.38</td>\n",
       "    </tr>\n",
       "    <tr>\n",
       "      <th>Std Dev</th>\n",
       "      <td>153.367</td>\n",
       "    </tr>\n",
       "  </tbody>\n",
       "</table>\n",
       "</div>"
      ],
      "text/plain": [
       "            Values\n",
       "Mean       1643.11\n",
       "Median     1712.73\n",
       "Variance  23521.38\n",
       "Std Dev    153.367"
      ]
     },
     "execution_count": 23,
     "metadata": {},
     "output_type": "execute_result"
    }
   ],
   "source": [
    "print(\"PloS Genetics\")\n",
    "summary(plosgen)"
   ]
  }
 ],
 "metadata": {
  "kernelspec": {
   "display_name": "Python 3",
   "language": "python",
   "name": "python3"
  },
  "language_info": {
   "codemirror_mode": {
    "name": "ipython",
    "version": 3
   },
   "file_extension": ".py",
   "mimetype": "text/x-python",
   "name": "python",
   "nbconvert_exporter": "python",
   "pygments_lexer": "ipython3",
   "version": "3.6.5"
  }
 },
 "nbformat": 4,
 "nbformat_minor": 2
}
