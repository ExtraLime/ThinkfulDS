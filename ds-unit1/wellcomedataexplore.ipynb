{
 "cells": [
  {
   "cell_type": "code",
   "execution_count": 284,
   "metadata": {},
   "outputs": [],
   "source": [
    "import pandas as pd\n",
    "import re\n",
    "import statistics as st\n",
    "\n",
    "#function for nice display\n",
    "def summary(cost):\n",
    "    df1 = pd.DataFrame()\n",
    "    df1['cost'] = cost  \n",
    "    mean = sum(df1['cost']) / len(df1['cost'])\n",
    "    median = st.median(df1['cost'])           \n",
    "    v = df1['cost'].var()\n",
    "    s = v ** 0.5\n",
    "    df2 = pd.DataFrame()\n",
    "    df2[\"Values\"] = [\"%.2f\" %mean, median,\"%.2f\" %v, s]\n",
    "    df2.index = ['Mean', 'Median', 'Variance', 'Std Dev']   \n",
    "    return df2"
   ]
  },
  {
   "cell_type": "code",
   "execution_count": 269,
   "metadata": {},
   "outputs": [
    {
     "name": "stdout",
     "output_type": "stream",
     "text": [
      "['PMID/PMCID', 'Publisher', 'Journal title', 'Article title', 'COST (£) charged to Wellcome (inc VAT when charged)']\n"
     ]
    }
   ],
   "source": [
    "#Import the CSV with encoding ISO-8859-1 for the english '£'?\n",
    "df = pd.read_csv('WELLCOME_APCspend2013_forThinkful.csv', encoding = \"ISO-8859-1\")\n",
    "#Determine the five most common journals and the total articles for each\n",
    "\n",
    "#See what the columns are\n",
    "print(list(df))\n",
    "\n",
    "\n",
    "\n"
   ]
  },
  {
   "cell_type": "code",
   "execution_count": 270,
   "metadata": {},
   "outputs": [
    {
     "name": "stdout",
     "output_type": "stream",
     "text": [
      "plos one                           190\n",
      "journal of biological chemistry     53\n",
      "neuroimage                          29\n",
      "plos pathogens                      24\n",
      "plos genetics                       24\n",
      "Name: Journal title, dtype: int64\n"
     ]
    }
   ],
   "source": [
    "titles = df['Journal title']\n",
    "\n",
    "#1. Force all to lower case\n",
    "firststep = titles.str.lower()\n",
    "#print(firststep)\n",
    "print(firststep.value_counts()[0:5])"
   ]
  },
  {
   "cell_type": "code",
   "execution_count": 236,
   "metadata": {},
   "outputs": [
    {
     "name": "stdout",
     "output_type": "stream",
     "text": [
      "0                           Psychological Medicine\n",
      "1                                Biomacromolecules\n",
      "2                                       J Med Chem\n",
      "3                                       J Med Chem\n",
      "4                                       J Org Chem\n",
      "5                   Journal of Medicinal Chemistry\n",
      "6                     Journal of Proteome Research\n",
      "7                                        Mol Pharm\n",
      "8                             ACS Chemical Biology\n",
      "9                             ACS Chemical Biology\n",
      "10    Journal of Chemical Information and Modeling\n",
      "11                  Journal of Medicinal Chemistry\n",
      "12                  Journal of Medicinal Chemistry\n",
      "13                                    Biochemistry\n",
      "14                  Journal of Medicinal Chemistry\n",
      "15                                Gastroenterology\n",
      "16                 Journal of Biological Chemistry\n",
      "17                           Journal of Immunology\n",
      "18                           Journal of Immunology\n",
      "19                            ACS Chemical Biology\n",
      "Name: Journal title, dtype: object\n",
      "PLoS One                                           92\n",
      "PLoS ONE                                           62\n",
      "Journal of Biological Chemistry                    48\n",
      "Nucleic Acids Research                             21\n",
      "Proceedings of the National Academy of Sciences    19\n",
      "Human Molecular Genetics                           18\n",
      "PLoS Neglected Tropical Diseases                   18\n",
      "Nature Communications                              17\n",
      "PLoS Pathogens                                     15\n",
      "PLoS Genetics                                      15\n",
      "Neuroimage                                         15\n",
      "NeuroImage                                         14\n",
      "Brain                                              14\n",
      "BMC Public Health                                  14\n",
      "PLOS ONE                                           14\n",
      "Movement Disorders                                 13\n",
      "Developmental Cell                                 12\n",
      "Biochemical Journal                                12\n",
      "Journal of Neuroscience                            12\n",
      "Journal of General Virology                        11\n",
      "PLOS One                                           10\n",
      "BMJ                                                10\n",
      "Current Biology                                    10\n",
      "Neuron                                              9\n",
      "Cell Reports                                        9\n",
      "Hepatology                                          8\n",
      "Neurobiology of Aging                               8\n",
      "Malaria Journal                                     8\n",
      "Development                                         8\n",
      "Journal of Structural Biology                       8\n",
      "Name: Journal title, dtype: int64\n"
     ]
    }
   ],
   "source": [
    "#look at some examples of what the data looks like\n",
    "print(df['Journal title'].head(20))\n",
    "print(df[\"Journal title\"].value_counts()[0:30])"
   ]
  },
  {
   "cell_type": "markdown",
   "metadata": {},
   "source": [
    "**Seems to be some capitalization instances that hinder getting an accurate count**"
   ]
  },
  {
   "cell_type": "code",
   "execution_count": 237,
   "metadata": {},
   "outputs": [
    {
     "name": "stdout",
     "output_type": "stream",
     "text": [
      "plos one                                           190\n",
      "journal of biological chemistry                     53\n",
      "neuroimage                                          29\n",
      "plos pathogens                                      24\n",
      "plos genetics                                       24\n",
      "nucleic acids research                              23\n",
      "proceedings of the national academy of sciences     20\n",
      "plos neglected tropical diseases                    20\n",
      "human molecular genetics                            19\n",
      "nature communications                               19\n",
      "Name: Journal title, dtype: int64\n"
     ]
    }
   ],
   "source": [
    "#Force strings to lowercase and look for more accurate grouping\n",
    "\n",
    "#Check the first 10\n",
    "print(df['Journal title'].str.lower().value_counts().head(10))"
   ]
  },
  {
   "cell_type": "code",
   "execution_count": 271,
   "metadata": {},
   "outputs": [
    {
     "name": "stdout",
     "output_type": "stream",
     "text": [
      "plos one                           190\n",
      "journal of biological chemistry     53\n",
      "neuroimage                          29\n",
      "plos pathogens                      24\n",
      "plos genetics                       24\n",
      "Name: Journal title, dtype: int64\n",
      "plos one                                           190\n",
      "journal of biological chemistry                     53\n",
      "neuroimage                                          29\n",
      "plos genetics                                       24\n",
      "plos pathogens                                      24\n",
      "nucleic acids research                              23\n",
      "proceedings of the national academy of sciences     20\n",
      "plos neglected tropical diseases                    20\n",
      "nature communications                               19\n",
      "human molecular genetics                            19\n",
      "brain                                               14\n",
      "bmc public health                                   14\n",
      "movement disorders                                  13\n",
      "journal of neuroscience                             12\n",
      "developmental cell                                  12\n",
      "biochemical journal                                 12\n",
      "current biology                                     11\n",
      "journal of general virology                         11\n",
      "bmj                                                 10\n",
      "plos computational biology                           9\n",
      "cell reports                                         9\n",
      "plosone                                              9\n",
      "neuron                                               9\n",
      "bmj open                                             9\n",
      "journal of physiology                                8\n",
      "Name: Journal title, dtype: int64\n"
     ]
    }
   ],
   "source": [
    "#The 5 most common journals would be\n",
    "print(df['Journal title'].str.lower().value_counts().head(5))\n",
    "#replace the df columns with lowercase entries\n",
    "df.dtypes\n",
    "df = df.apply(lambda x: x.astype(str).str.lower())\n",
    "#print(df)\n",
    "#this would still miss these entries:\n",
    "print(df['Journal title'].str.lower().value_counts().head(25))\n",
    "\n",
    "\n"
   ]
  },
  {
   "cell_type": "code",
   "execution_count": 239,
   "metadata": {
    "scrolled": true
   },
   "outputs": [
    {
     "name": "stdout",
     "output_type": "stream",
     "text": [
      "plos one                           199\n",
      "journal of biological chemistry     53\n",
      "neuroimage                          29\n",
      "plos pathogens                      24\n",
      "plos genetics                       24\n",
      "Name: Journal title, dtype: int64\n",
      "plos one                           199\n",
      "journal of biological chemistry     53\n",
      "neuroimage                          29\n",
      "plos pathogens                      24\n",
      "plos genetics                       24\n",
      "Name: Journal title, dtype: int64\n"
     ]
    }
   ],
   "source": [
    "titlesl = df['Journal title']\n",
    "tit1 = titlesl.str.replace('plosone', 'plos one')\n",
    "print(tit1.value_counts().head(5))\n",
    "#That's better, apply to data frame\n",
    "df['Journal title'] = df['Journal title'].replace('plosone', 'plos one')\n",
    "#verify\n",
    "print(df['Journal title'].value_counts().head(5))\n",
    "#cool\n",
    "\n"
   ]
  },
  {
   "cell_type": "code",
   "execution_count": 240,
   "metadata": {},
   "outputs": [
    {
     "name": "stdout",
     "output_type": "stream",
     "text": [
      "2127\n",
      "2126\n"
     ]
    }
   ],
   "source": [
    "#check articles for duplicates\n",
    "print(len(df['Article title']))\n",
    "#unique values?\n",
    "print(len(df['Article title'].unique()))\n",
    "#assuming the spelling is correct, there is a duplicate\n"
   ]
  },
  {
   "cell_type": "code",
   "execution_count": 241,
   "metadata": {},
   "outputs": [
    {
     "name": "stdout",
     "output_type": "stream",
     "text": [
      "2126\n"
     ]
    }
   ],
   "source": [
    "#drop the duplicates\n",
    "df = df.drop_duplicates('Article title')\n",
    "#verify\n",
    "print(len(df['Article title']))"
   ]
  },
  {
   "cell_type": "code",
   "execution_count": 289,
   "metadata": {},
   "outputs": [
    {
     "name": "stdout",
     "output_type": "stream",
     "text": [
      "0       00\n",
      "1    81.04\n",
      "2     2.56\n",
      "Name: COST (£) charged to Wellcome (inc VAT when charged), dtype: object\n"
     ]
    }
   ],
   "source": [
    "# that £ sign with get in the way of caluclating, remove it\n",
    "df['COST (£) charged to Wellcome (inc VAT when charged)'] = df['COST (£) charged to Wellcome (inc VAT when charged)'].str[1:]\n",
    "#verify\n",
    "print(df['COST (£) charged to Wellcome (inc VAT when charged)'].head(3))\n",
    "df['COST (£) charged to Wellcome (inc VAT when charged)'] = df['COST (£) charged to Wellcome (inc VAT when charged)'].str.replace(r'$', '')\n"
   ]
  },
  {
   "cell_type": "code",
   "execution_count": 243,
   "metadata": {
    "scrolled": true
   },
   "outputs": [
    {
     "name": "stdout",
     "output_type": "stream",
     "text": [
      "1282      1001.03\n",
      "1283      1004.15\n",
      "1284      1011.45\n",
      "1285      1011.45\n",
      "1286      1015.73\n",
      "1287      1023.41\n",
      "1288      1039.87\n",
      "1289      1061.24\n",
      "1290      1061.24\n",
      "1291      1061.24\n",
      "1292      1080.00\n",
      "1293       794.93\n",
      "1294       809.29\n",
      "1295       819.34\n",
      "1296       854.96\n",
      "1297       901.50\n",
      "1298       902.12\n",
      "1299       903.89\n",
      "1303      1061.93\n",
      "1304       389.73\n",
      "1305       443.38\n",
      "1414      1002.86\n",
      "1415      1005.86\n",
      "1416      1005.96\n",
      "1417      1008.97\n",
      "1418      1009.98\n",
      "1419      1010.80\n",
      "1420      1013.03\n",
      "1421      1019.76\n",
      "1422      1027.73\n",
      "          ...    \n",
      "1562    999999.00\n",
      "1563    999999.00\n",
      "1564    999999.00\n",
      "1565    999999.00\n",
      "1566    999999.00\n",
      "1567       900.14\n",
      "1568       904.34\n",
      "1569       907.08\n",
      "1570       908.01\n",
      "1571       909.99\n",
      "1572       910.20\n",
      "1573       913.36\n",
      "1574       915.53\n",
      "1575       918.62\n",
      "1576       953.48\n",
      "1577       960.16\n",
      "1578       961.68\n",
      "1579       961.68\n",
      "1580       961.68\n",
      "1581       986.72\n",
      "1582       996.06\n",
      "1605       842.54\n",
      "1606       842.54\n",
      "1607       850.88\n",
      "1608       871.42\n",
      "1609       879.36\n",
      "1610       879.36\n",
      "1611       884.67\n",
      "1612    999999.00\n",
      "1613       904.34\n",
      "Name: COST (£) charged to Wellcome (inc VAT when charged), Length: 198, dtype: object\n"
     ]
    }
   ],
   "source": [
    "plosone = pd.Series(df.loc[(df['Journal title'] == 'plos one'), 'COST (£) charged to Wellcome (inc VAT when charged)'])\n",
    "print(plosone)"
   ]
  },
  {
   "cell_type": "code",
   "execution_count": 244,
   "metadata": {
    "scrolled": true
   },
   "outputs": [
    {
     "data": {
      "text/plain": [
       "PMID/PMCID                                                                        pmcid:\\n    pmc3579793\n",
       "Publisher                                                                      public library of science\n",
       "Journal title                                                                                   plos one\n",
       "Article title                                          phagocytosis is the main cr3-mediated function...\n",
       "COST (£) charged to Wellcome (inc VAT when charged)                                            999999.00\n",
       "Name: 1564, dtype: object"
      ]
     },
     "execution_count": 244,
     "metadata": {},
     "output_type": "execute_result"
    }
   ],
   "source": [
    "#Some of the pricing appears to be off (Cost of 99999) #let's drop those\n",
    "df.iloc[1563]\n"
   ]
  },
  {
   "cell_type": "code",
   "execution_count": 245,
   "metadata": {},
   "outputs": [
    {
     "name": "stdout",
     "output_type": "stream",
     "text": [
      "object\n",
      "float64\n"
     ]
    }
   ],
   "source": [
    "#convert PLoS One costs to numeric & verify\n",
    "print(df['COST (£) charged to Wellcome (inc VAT when charged)'].dtypes)\n",
    "plosone = pd.to_numeric(plosone)\n",
    "print(plosone.dtypes)\n",
    "\n"
   ]
  },
  {
   "cell_type": "code",
   "execution_count": 276,
   "metadata": {},
   "outputs": [
    {
     "data": {
      "text/plain": [
       "count       190.000000\n",
       "mean       1941.483105\n",
       "std       13909.696072\n",
       "min         122.310000\n",
       "25%         850.595000\n",
       "50%         895.515000\n",
       "75%        1040.577500\n",
       "max      192645.000000\n",
       "Name: COST (£) charged to Wellcome (inc VAT when charged), dtype: float64"
      ]
     },
     "execution_count": 276,
     "metadata": {},
     "output_type": "execute_result"
    }
   ],
   "source": [
    "#remove instances of 999999.00 price\n",
    "plosone = plosone[plosone!=999999.00]\n",
    "# use function \"summary\" on cost series for plosone\n",
    "plosone.describe()\n"
   ]
  },
  {
   "cell_type": "code",
   "execution_count": 285,
   "metadata": {
    "scrolled": true
   },
   "outputs": [
    {
     "data": {
      "text/html": [
       "<div>\n",
       "<style scoped>\n",
       "    .dataframe tbody tr th:only-of-type {\n",
       "        vertical-align: middle;\n",
       "    }\n",
       "\n",
       "    .dataframe tbody tr th {\n",
       "        vertical-align: top;\n",
       "    }\n",
       "\n",
       "    .dataframe thead th {\n",
       "        text-align: right;\n",
       "    }\n",
       "</style>\n",
       "<table border=\"1\" class=\"dataframe\">\n",
       "  <thead>\n",
       "    <tr style=\"text-align: right;\">\n",
       "      <th></th>\n",
       "      <th>Values</th>\n",
       "    </tr>\n",
       "  </thead>\n",
       "  <tbody>\n",
       "    <tr>\n",
       "      <th>Mean</th>\n",
       "      <td>1941.48</td>\n",
       "    </tr>\n",
       "    <tr>\n",
       "      <th>Median</th>\n",
       "      <td>895.515</td>\n",
       "    </tr>\n",
       "    <tr>\n",
       "      <th>Variance</th>\n",
       "      <td>193479644.81</td>\n",
       "    </tr>\n",
       "    <tr>\n",
       "      <th>Std Dev</th>\n",
       "      <td>13909.7</td>\n",
       "    </tr>\n",
       "  </tbody>\n",
       "</table>\n",
       "</div>"
      ],
      "text/plain": [
       "                Values\n",
       "Mean           1941.48\n",
       "Median         895.515\n",
       "Variance  193479644.81\n",
       "Std Dev        13909.7"
      ]
     },
     "execution_count": 285,
     "metadata": {},
     "output_type": "execute_result"
    }
   ],
   "source": [
    "summary(plosone)\n"
   ]
  },
  {
   "cell_type": "code",
   "execution_count": 288,
   "metadata": {},
   "outputs": [
    {
     "name": "stdout",
     "output_type": "stream",
     "text": [
      "Empty DataFrame\n",
      "Columns: [PMID/PMCID, Publisher, Journal title, Article title, COST (£) charged to Wellcome (inc VAT when charged)]\n",
      "Index: []\n"
     ]
    }
   ],
   "source": [
    "def clean(name):\n",
    "    "
   ]
  }
 ],
 "metadata": {
  "kernelspec": {
   "display_name": "Python 3",
   "language": "python",
   "name": "python3"
  },
  "language_info": {
   "codemirror_mode": {
    "name": "ipython",
    "version": 3
   },
   "file_extension": ".py",
   "mimetype": "text/x-python",
   "name": "python",
   "nbconvert_exporter": "python",
   "pygments_lexer": "ipython3",
   "version": "3.6.5"
  }
 },
 "nbformat": 4,
 "nbformat_minor": 2
}
